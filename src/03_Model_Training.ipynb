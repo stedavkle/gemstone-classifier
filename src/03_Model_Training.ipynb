{
 "cells": [
  {
   "attachments": {},
   "cell_type": "markdown",
   "metadata": {},
   "source": [
    "# Training models\n",
    "On the previously constructed dataset, we will train the following classificaiton models:\n",
    "- VGG16\n",
    "- MobileNet\n",
    "- ResNet50\n",
    "\n",
    "Further we will define our own model and train it.\n"
   ]
  },
  {
   "cell_type": "code",
   "execution_count": 1,
   "metadata": {},
   "outputs": [],
   "source": [
    "import os\n",
    "import matplotlib.pyplot as plt\n",
    "import numpy as np\n",
    "import pandas as pd\n",
    "import tensorflow as tf \n",
    "from tensorflow import keras\n",
    "from tensorflow.keras.preprocessing.image import ImageDataGenerator\n",
    "from tensorflow.keras.applications import VGG16, MobileNet, ResNet50  # Using ResNet50\n",
    "from tensorflow.keras import Sequential\n",
    "from tensorflow.keras.layers import Conv2D, MaxPooling2D, AveragePooling2D"
   ]
  },
  {
   "cell_type": "code",
   "execution_count": 2,
   "metadata": {},
   "outputs": [
    {
     "name": "stdout",
     "output_type": "stream",
     "text": [
      "Num GPUs Available:  1\n",
      "Num CPUs Available:  1\n"
     ]
    }
   ],
   "source": [
    "print(\"Num GPUs Available: \", len(tf.config.list_physical_devices('GPU')))\n",
    "print(\"Num CPUs Available: \", len(tf.config.list_physical_devices('CPU')))"
   ]
  },
  {
   "cell_type": "code",
   "execution_count": 3,
   "metadata": {},
   "outputs": [
    {
     "name": "stdout",
     "output_type": "stream",
     "text": [
      "Found 164657 images belonging to 99 classes.\n",
      "Found 41150 images belonging to 99 classes.\n"
     ]
    }
   ],
   "source": [
    "# Parameters\n",
    "#data_dir = \"../dat/images_augmented_cropped\" \n",
    "data_dir = \"../dat/gempundit_2022_cropped_augmented_2000\"\n",
    "target_size = (224, 224)\n",
    "batch_size = 32\n",
    "num_epochs = 10\n",
    "\n",
    "validation_split = 0.2  # Percentage of data to use for validation\n",
    "\n",
    "# Data Generator with Splitting\n",
    "datagen = ImageDataGenerator(rescale=1./255, validation_split=validation_split)\n",
    "\n",
    "# Load data with the split\n",
    "train_data = datagen.flow_from_directory(\n",
    "    data_dir,\n",
    "    target_size=target_size,\n",
    "    batch_size=batch_size,\n",
    "    class_mode='categorical',\n",
    "    subset='training' \n",
    ")\n",
    "\n",
    "val_data = datagen.flow_from_directory(\n",
    "    data_dir,\n",
    "    target_size=target_size,\n",
    "    batch_size=batch_size,\n",
    "    class_mode='categorical',\n",
    "    subset='validation' \n",
    ")"
   ]
  },
  {
   "cell_type": "code",
   "execution_count": null,
   "metadata": {},
   "outputs": [],
   "source": [
    "# Model Creation with Pre-trained Weights\n",
    "def create_model(model_type):\n",
    "    if model_type == \"VGG16\":\n",
    "        base_model = VGG16(include_top=False, weights='imagenet', input_shape=target_size + (3,))\n",
    "    elif model_type == \"MobileNet\":\n",
    "        base_model = MobileNet(include_top=False, weights='imagenet', input_shape=target_size + (3,))\n",
    "    elif model_type == \"ResNet50\":\n",
    "        base_model = ResNet50(include_top=False, weights='imagenet', input_shape=target_size + (3,))\n",
    "    elif model_type == \"OwnModel\":\n",
    "        kernel_size =  3  # Example value\n",
    "        max_pool =  2  # Example value\n",
    "        base_model = Sequential([\n",
    "            # First layer\n",
    "            Conv2D(32, (kernel_size, kernel_size), activation='relu', padding='same', input_shape=target_size + (3,)),\n",
    "            MaxPooling2D((max_pool, max_pool)),\n",
    "            # Second layer\n",
    "            Conv2D(64, (kernel_size, kernel_size), activation='relu', padding='same'),\n",
    "            MaxPooling2D((max_pool, max_pool)),\n",
    "            # Third layer\n",
    "            Conv2D(128, (kernel_size, kernel_size), activation='relu', padding='same'),\n",
    "            MaxPooling2D((max_pool, max_pool)),\n",
    "            # Fourth layer\n",
    "            Conv2D(128, (kernel_size, kernel_size), activation='relu', padding='same'),\n",
    "            AveragePooling2D(pool_size=(2,  2), strides=(2,  2)),\n",
    "            # Fifth layer\n",
    "            Conv2D(128, (kernel_size, kernel_size), activation='relu', padding='same'),\n",
    "            MaxPooling2D((max_pool, max_pool)),\n",
    "])\n",
    "\n",
    "    else:\n",
    "        raise ValueError(\"Invalid model_type\")\n",
    "\n",
    "    model = keras.Sequential([\n",
    "        base_model,\n",
    "        keras.layers.GlobalAveragePooling2D(),\n",
    "        keras.layers.Dense(train_data.num_classes, activation='softmax') \n",
    "    ])\n",
    "\n",
    "    model.compile(optimizer='adam', loss='categorical_crossentropy', \n",
    "                  metrics=['accuracy', tf.keras.metrics.TopKCategoricalAccuracy(k=3, name=\"top_3_accuracy\", dtype=None), tf.keras.metrics.TopKCategoricalAccuracy(k=5, name=\"top_5_accuracy\", dtype=None)])\n",
    "    return model\n",
    "\n",
    "# Training and Evaluation\n",
    "models = {\n",
    "    \"VGG16\": create_model(\"VGG16\"),\n",
    "    \"MobileNet\": create_model(\"MobileNet\"),\n",
    "    \"ResNet50\": create_model(\"ResNet50\"),\n",
    "    \"OwnModel\": create_model(\"OwnModel\"),\n",
    "}\n",
    "\n",
    "results = {}\n",
    "for model_name, model in models.items():\n",
    "    print(f\"Training {model_name}...\")\n",
    "    history = model.fit(train_data, epochs=num_epochs, validation_data=val_data)\n",
    "    results[model_name] = history.history\n",
    "\n",
    "    # Save model parameters\n",
    "    model.save(f\"../mod/{model_name}.h5\")\n",
    "    # Convert history to DataFrame\n",
    "    df = pd.DataFrame(history)\n",
    "    \n",
    "    # Save DataFrame to CSV\n",
    "    df.to_csv(f\"../mod/{model_name}_history.csv\", index=False)\n",
    "\n",
    "print(\"Training and Evaluation Complete!\")\n"
   ]
  },
  {
   "cell_type": "markdown",
   "metadata": {},
   "source": [
    "## Finetune pre-trained models"
   ]
  },
  {
   "cell_type": "code",
   "execution_count": 25,
   "metadata": {},
   "outputs": [
    {
     "name": "stdout",
     "output_type": "stream",
     "text": [
      "Training VGG16...\n",
      "Epoch 1/5\n",
      "5146/5146 [==============================] - 1472s 286ms/step - loss: 0.5451 - accuracy: 0.7460 - top_3_accuracy: 0.9846 - top_5_accuracy: 0.9969 - val_loss: 2.7432 - val_accuracy: 0.4914 - val_top_3_accuracy: 0.8165 - val_top_5_accuracy: 0.8855\n",
      "Epoch 2/5\n",
      "5146/5146 [==============================] - 1726s 335ms/step - loss: 0.4953 - accuracy: 0.7583 - top_3_accuracy: 0.9898 - top_5_accuracy: 0.9984 - val_loss: 2.5033 - val_accuracy: 0.5165 - val_top_3_accuracy: 0.8452 - val_top_5_accuracy: 0.9068\n",
      "Epoch 3/5\n",
      "5146/5146 [==============================] - 1633s 317ms/step - loss: 0.4715 - accuracy: 0.7656 - top_3_accuracy: 0.9923 - top_5_accuracy: 0.9990 - val_loss: 2.6623 - val_accuracy: 0.5110 - val_top_3_accuracy: 0.8376 - val_top_5_accuracy: 0.8995\n",
      "Epoch 4/5\n",
      "5146/5146 [==============================] - 1826s 355ms/step - loss: 0.4536 - accuracy: 0.7707 - top_3_accuracy: 0.9933 - top_5_accuracy: 0.9992 - val_loss: 2.8001 - val_accuracy: 0.5062 - val_top_3_accuracy: 0.8277 - val_top_5_accuracy: 0.8936\n",
      "Epoch 5/5\n",
      "5146/5146 [==============================] - 1957s 380ms/step - loss: 0.4372 - accuracy: 0.7775 - top_3_accuracy: 0.9947 - top_5_accuracy: 0.9995 - val_loss: 2.6039 - val_accuracy: 0.5126 - val_top_3_accuracy: 0.8456 - val_top_5_accuracy: 0.9039\n",
      "Training MobileNet...\n",
      "Epoch 1/5\n",
      "5146/5146 [==============================] - 754s 146ms/step - loss: 4.6041 - accuracy: 0.2151 - top_3_accuracy: 0.3918 - top_5_accuracy: 0.4799 - val_loss: 5.0490 - val_accuracy: 0.2670 - val_top_3_accuracy: 0.4836 - val_top_5_accuracy: 0.5723\n",
      "Epoch 2/5\n",
      "5146/5146 [==============================] - 769s 149ms/step - loss: 2.3694 - accuracy: 0.3940 - top_3_accuracy: 0.6597 - top_5_accuracy: 0.7439 - val_loss: 5.2006 - val_accuracy: 0.3553 - val_top_3_accuracy: 0.6203 - val_top_5_accuracy: 0.7069\n",
      "Epoch 3/5\n",
      "5146/5146 [==============================] - 776s 151ms/step - loss: 1.7876 - accuracy: 0.4930 - top_3_accuracy: 0.7766 - top_5_accuracy: 0.8476 - val_loss: 5.2405 - val_accuracy: 0.4020 - val_top_3_accuracy: 0.6801 - val_top_5_accuracy: 0.7640\n",
      "Epoch 4/5\n",
      "5146/5146 [==============================] - 759s 147ms/step - loss: 1.4753 - accuracy: 0.5482 - top_3_accuracy: 0.8345 - top_5_accuracy: 0.8973 - val_loss: 5.1747 - val_accuracy: 0.4256 - val_top_3_accuracy: 0.7096 - val_top_5_accuracy: 0.7887\n",
      "Epoch 5/5\n",
      "5146/5146 [==============================] - 755s 147ms/step - loss: 1.2590 - accuracy: 0.5900 - top_3_accuracy: 0.8741 - top_5_accuracy: 0.9265 - val_loss: 5.2016 - val_accuracy: 0.4451 - val_top_3_accuracy: 0.7324 - val_top_5_accuracy: 0.8080\n",
      "Training ResNet50...\n",
      "Epoch 1/5\n",
      "5146/5146 [==============================] - 2151s 417ms/step - loss: 6.6607 - accuracy: 0.5371 - top_3_accuracy: 0.7926 - top_5_accuracy: 0.8522 - val_loss: 1.8038 - val_accuracy: 0.5348 - val_top_3_accuracy: 0.8446 - val_top_5_accuracy: 0.9011\n",
      "Epoch 2/5\n",
      "5146/5146 [==============================] - 2199s 427ms/step - loss: 0.7685 - accuracy: 0.7064 - top_3_accuracy: 0.9639 - top_5_accuracy: 0.9872 - val_loss: 1.6771 - val_accuracy: 0.5460 - val_top_3_accuracy: 0.8622 - val_top_5_accuracy: 0.9133\n",
      "Epoch 3/5\n",
      "5146/5146 [==============================] - 2091s 406ms/step - loss: 0.6181 - accuracy: 0.7420 - top_3_accuracy: 0.9842 - top_5_accuracy: 0.9962 - val_loss: 1.5794 - val_accuracy: 0.5633 - val_top_3_accuracy: 0.8700 - val_top_5_accuracy: 0.9197\n",
      "Epoch 4/5\n",
      "5146/5146 [==============================] - 1813s 352ms/step - loss: 0.5392 - accuracy: 0.7630 - top_3_accuracy: 0.9920 - top_5_accuracy: 0.9985 - val_loss: 1.5531 - val_accuracy: 0.5565 - val_top_3_accuracy: 0.8770 - val_top_5_accuracy: 0.9242\n",
      "Epoch 5/5\n",
      "5146/5146 [==============================] - 2359s 458ms/step - loss: 0.4877 - accuracy: 0.7744 - top_3_accuracy: 0.9953 - top_5_accuracy: 0.9995 - val_loss: 1.5807 - val_accuracy: 0.5627 - val_top_3_accuracy: 0.8758 - val_top_5_accuracy: 0.9239\n"
     ]
    }
   ],
   "source": [
    "model_dir = r'..\\mod\\first_run_gempundit_2022_cropped_augmented_2000'\n",
    "models = ['VGG16', 'MobileNet', 'ResNet50']\n",
    "results = {}\n",
    "for model_name in models:\n",
    "    model = keras.models.load_model(os.path.join(model_dir, f\"{model_name}.h5\"))\n",
    "    model.trainable = True\n",
    "\n",
    "    print(f\"Training {model_name}...\")\n",
    "    \n",
    "\n",
    "    model.compile(keras.optimizers.Adam(1e-5), loss='categorical_crossentropy', \n",
    "                  metrics=['accuracy', tf.keras.metrics.TopKCategoricalAccuracy(k=3, name=\"top_3_accuracy\", dtype=None), tf.keras.metrics.TopKCategoricalAccuracy(k=5, name=\"top_5_accuracy\", dtype=None)])\n",
    "\n",
    "    history = model.fit(train_data, epochs=5, validation_data=val_data)\n",
    "    results[model_name] = history.history\n",
    "\n",
    "    # Save model parameters\n",
    "    model.save(os.path.join(model_dir, f\"{model_name}_FT_llr.h5\"))\n",
    "    # Convert history to DataFrame\n",
    "    df = pd.DataFrame(history.history)\n",
    "\n",
    "    # Save DataFrame to CSV55\n",
    "    df.to_csv(os.path.join(model_dir, f\"{model_name}_FT_llr.csv\"))"
   ]
  },
  {
   "cell_type": "code",
   "execution_count": null,
   "metadata": {},
   "outputs": [],
   "source": []
  }
 ],
 "metadata": {
  "kernelspec": {
   "display_name": "gemstone",
   "language": "python",
   "name": "python3"
  },
  "language_info": {
   "codemirror_mode": {
    "name": "ipython",
    "version": 3
   },
   "file_extension": ".py",
   "mimetype": "text/x-python",
   "name": "python",
   "nbconvert_exporter": "python",
   "pygments_lexer": "ipython3",
   "version": "3.10.13"
  },
  "orig_nbformat": 4,
  "vscode": {
   "interpreter": {
    "hash": "f762acd087eee1e20edab5fbefd8c93a224f39ec9e7e44d927d5a8eeabcf7075"
   }
  }
 },
 "nbformat": 4,
 "nbformat_minor": 2
}
