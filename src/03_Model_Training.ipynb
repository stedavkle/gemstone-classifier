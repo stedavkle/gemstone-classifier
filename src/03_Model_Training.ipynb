{
 "cells": [
  {
   "attachments": {},
   "cell_type": "markdown",
   "metadata": {},
   "source": [
    "# Training models\n",
    "On the previously constructed dataset, we will train the following classificaiton models:\n",
    "- VGG16\n",
    "- MobileNet\n",
    "- ResNet50\n",
    "\n",
    "Further we will define our own model and train it.\n"
   ]
  },
  {
   "cell_type": "code",
   "execution_count": null,
   "metadata": {},
   "outputs": [],
   "source": []
  }
 ],
 "metadata": {
  "kernelspec": {
   "display_name": "ultralytics",
   "language": "python",
   "name": "python3"
  },
  "language_info": {
   "name": "python",
   "version": "3.10.13 | packaged by Anaconda, Inc. | (main, Sep 11 2023, 13:24:38) [MSC v.1916 64 bit (AMD64)]"
  },
  "orig_nbformat": 4,
  "vscode": {
   "interpreter": {
    "hash": "64925d1bd519b94d2acb8a3ed518b8ec8502ae1a6fd27d7ce7bd5a7bf96d2166"
   }
  }
 },
 "nbformat": 4,
 "nbformat_minor": 2
}
