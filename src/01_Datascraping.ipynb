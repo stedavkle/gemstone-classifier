{
 "cells": [
  {
   "attachments": {},
   "cell_type": "markdown",
   "metadata": {},
   "source": [
    "# Scraping gempundit.com\n",
    "We obtain our data by scraping the website gempundit.com. The store offers a variety of gemstones and for each product there are multiple images from different angles.\n"
   ]
  },
  {
   "cell_type": "code",
   "execution_count": 1,
   "metadata": {},
   "outputs": [
    {
     "name": "stderr",
     "output_type": "stream",
     "text": [
      "C:\\Users\\david\\AppData\\Local\\Temp\\ipykernel_16576\\4088295962.py:1: DeprecationWarning: \n",
      "Pyarrow will become a required dependency of pandas in the next major release of pandas (pandas 3.0),\n",
      "(to allow more performant data types, such as the Arrow string type, and better interoperability with other libraries)\n",
      "but was not found to be installed on your system.\n",
      "If this would cause problems for you,\n",
      "please provide us feedback at https://github.com/pandas-dev/pandas/issues/54466\n",
      "        \n",
      "  import pandas as pd\n",
      "c:\\Users\\david\\miniconda3\\envs\\gemstone\\lib\\site-packages\\gevent\\hub.py:161: UserWarning: libuv only supports millisecond timer resolution; all times less will be set to 1 ms\n",
      "  with loop.timer(seconds, ref=ref) as t:\n"
     ]
    }
   ],
   "source": [
    "import pandas as pd\n",
    "from time import sleep\n",
    "from bs4 import BeautifulSoup as bs\n",
    "import lxml\n",
    "#import requests\n",
    "import grequests\n",
    "import shutil\n",
    "import os\n",
    "import io\n",
    "from PIL import Image\n",
    "import json\n",
    "import concurrent.futures as cf\n",
    "from tqdm import tqdm\n",
    "from random import randint, random"
   ]
  },
  {
   "cell_type": "code",
   "execution_count": 2,
   "metadata": {},
   "outputs": [],
   "source": [
    "GEMSTONES_CATEGORY_URL = 'https://www.gempundit.com/gemstones'\n",
    "HEADERS = {'User-Agent': 'Mozilla/5.0 (Macintosh; Intel Mac OS X 10_10_1) AppleWebKit/537.36 (KHTML, like Gecko) Chrome/39.0.2171.95 Safari/537.36'}\n",
    "session = grequests.Session()\n",
    "session.headers.update(HEADERS)\n",
    "executor = cf.ThreadPoolExecutor(max_workers=12)\n"
   ]
  },
  {
   "attachments": {},
   "cell_type": "markdown",
   "metadata": {},
   "source": [
    "First we extract the links for all of the type of gemstone from the website."
   ]
  },
  {
   "cell_type": "code",
   "execution_count": 5,
   "metadata": {},
   "outputs": [
    {
     "name": "stdout",
     "output_type": "stream",
     "text": [
      "succesfully loaded page\n",
      "succesfully found gem table, now collecting links\n",
      "Blue Sapphire (Neelam)\n",
      "Cats Eye\n",
      "Emerald (Panna)\n",
      "Hessonite (Gomed)\n",
      "Pearl (Moti)\n",
      "Ruby (Manik)\n",
      "Red Coral (Moonga)\n",
      "White Sapphire\n",
      "Yellow Sapphire - Pukhraj\n",
      "Amethyst\n",
      "Citrine (Sunela)\n",
      "Fire Opal\n",
      "Garnet\n",
      "Iolite (Neeli)\n",
      "Navratna\n",
      "Opal\n",
      "Peridot\n",
      "Pitambari Neelam\n",
      "Turquoise\n",
      "White Coral\n",
      "Yellow Topaz\n",
      "Zircon\n",
      "Alexandrite\n",
      "Burmese Ruby\n",
      "Colombian Emerald\n",
      "Cornflower Blue Sapphire\n",
      "Kashmir Blue Sapphire\n",
      "No Oil Emerald\n",
      "Panjshir Emerald\n",
      "Padparadscha Sapphire\n",
      "Paraiba Tourmaline\n",
      "Pigeon Blood Ruby\n",
      "Pink Sapphire\n",
      "Royal Blue Sapphire\n",
      "Tanzanite\n",
      "Amber\n",
      "Ametrine\n",
      "Aquamarine\n",
      "Blue Topaz\n",
      "Kyanite\n",
      "Lapis Lazuli\n",
      "Moldavite\n",
      "Moonstone\n",
      "Star Ruby\n",
      "Tourmaline\n",
      "Spinel\n",
      "Blue Zircon\n",
      "succesfully collected all gem links\n"
     ]
    }
   ],
   "source": [
    "def get_all_gem_links_website(ALL_GEMS_URL):\n",
    "    html = grequests.get(ALL_GEMS_URL, headers=HEADERS).text\n",
    "    soup = bs(html, 'html.parser')\n",
    "    print('succesfully loaded page')\n",
    "    gem_table = soup.find('div', {'class': 'container'})\n",
    "    print('succesfully found gem table, now collecting links')\n",
    "    gem_aClass = gem_table.find_all('a', {'data-category': 'gemstones'})\n",
    "    gem_links = {}\n",
    "    for gem in gem_aClass:\n",
    "        link = gem.get('href')\n",
    "        title = gem.get('title')\n",
    "        print(title)\n",
    "        # add the link to the dictionary\n",
    "        gem_links[title] = link\n",
    "    print('succesfully collected all gem links')\n",
    "    return gem_links\n",
    "\n",
    "gem_links = get_all_gem_links_website(GEMSTONES_CATEGORY_URL)"
   ]
  },
  {
   "attachments": {},
   "cell_type": "markdown",
   "metadata": {},
   "source": [
    "Now we collect the links to all of the product pages for each gemstone category."
   ]
  },
  {
   "cell_type": "code",
   "execution_count": null,
   "metadata": {},
   "outputs": [],
   "source": [
    "def get_all_gem_pages(gem_links):    \n",
    "    print('getting all gem pages')\n",
    "    gem_page_links = {}\n",
    "    for gem in gem_links:\n",
    "        print('\\n', gem)\n",
    "        try:\n",
    "            number_of_pages = int(bs(grequests.get(gem_links[gem]+'/page/1000', headers=HEADERS).text, 'html.parser').find('li', {'class': 'current'}).text)\n",
    "        except:\n",
    "            number_of_pages = 1\n",
    "        print('')\n",
    "        print(gem, number_of_pages)\n",
    "        gem_page_links[gem] = []\n",
    "        for page_no in range(1, number_of_pages+1):\n",
    "            gem_page_links[gem].append(gem_links[gem]+'/page/'+str(page_no))\n",
    "            #print(page_no, ', ', end='')\n",
    "    print('-'*50)\n",
    "    print('succesfully collected links')\n",
    "    return gem_page_links\n",
    "all_pages = get_all_gem_pages(gem_links)"
   ]
  },
  {
   "attachments": {},
   "cell_type": "markdown",
   "metadata": {},
   "source": [
    "For later use we will save the dictionary with all the gemstone page links as a JSON file."
   ]
  },
  {
   "cell_type": "code",
   "execution_count": 7,
   "metadata": {},
   "outputs": [],
   "source": [
    "def save_gem_page_links(gem_page_links):\n",
    "    with open(\"../dat/page_links/gem_page_links.json\", \"w\") as outfile:\n",
    "        json.dump(gem_page_links, outfile)\n",
    "save_gem_page_links(all_pages)"
   ]
  },
  {
   "attachments": {},
   "cell_type": "markdown",
   "metadata": {},
   "source": [
    "#### Reloading gemstone page links"
   ]
  },
  {
   "cell_type": "code",
   "execution_count": 3,
   "metadata": {},
   "outputs": [],
   "source": [
    "def load_gem_page_links():\n",
    "    with open(\"../dat/page_links/gem_page_links.json\", \"r\") as outfile:\n",
    "        gem_page_links = json.load(outfile)\n",
    "    return gem_page_links\n",
    "all_pages = load_gem_page_links()"
   ]
  },
  {
   "attachments": {},
   "cell_type": "markdown",
   "metadata": {},
   "source": [
    "#"
   ]
  },
  {
   "attachments": {},
   "cell_type": "markdown",
   "metadata": {},
   "source": [
    "After obtaining all the links to the gemstone pages, we will extract the links to each product.\n",
    "\n",
    "Because of the access and speed limits, we will use multiple threads to collect the links.\n",
    "\n",
    "The webpage has a rate limit so after each collected links, we will do a random sleep between 0.1 and 5 seconds.\n",
    "If we don't do this, the website will block our reqests.\n",
    "\n",
    "The collected product links will be saves in the directory `dat/product_links`"
   ]
  },
  {
   "cell_type": "code",
   "execution_count": 4,
   "metadata": {},
   "outputs": [
    {
     "name": "stdout",
     "output_type": "stream",
     "text": [
      "starting to collect all product links\n",
      "skipping Cats Eye\n",
      "skipping Hessonite (Gomed)\n",
      "skipping Pearl (Moti)\n",
      "skipping Red Coral (Moonga)\n",
      "skipping White Sapphire\n",
      "skipping Yellow Sapphire - Pukhraj\n",
      "skipping Amethyst\n",
      "skipping Fire Opal\n",
      "skipping Garnet\n",
      "skipping Citrine (Sunela)\n",
      "skipping Navratna\n",
      "skipping Peridot\n",
      "skipping Iolite (Neeli)\n",
      "skipping Turquoise\n",
      "skipping White Coral\n",
      "skipping Pitambari Neelam\n",
      "skipping Zircon\n",
      "skipping Yellow Topaz\n",
      "skipping Colombian Emerald\n",
      "skipping Cornflower Blue Sapphire\n",
      "skipping Burmese Ruby\n",
      "skipping Alexandrite\n",
      "skipping Kashmir Blue Sapphire\n",
      "skipping Padparadscha Sapphire\n",
      "skipping No Oil Emerald\n",
      "skipping Pigeon Blood Ruby\n",
      "skipping Panjshir Emerald\n",
      "skipping Paraiba Tourmaline\n",
      "skipping Pink Sapphire\n",
      "skipping Royal Blue Sapphire\n",
      "skipping Aquamarine\n",
      "skipping Blue Topaz\n",
      "skipping Kyanite\n",
      "skipping Lapis Lazuli\n",
      "skipping Ametrine\n",
      "skipping Tanzanite\n",
      "skipping Amber\n",
      "skipping Moldavite\n",
      "skipping Moonstone\n",
      "skipping Star Ruby\n",
      "skipping Spinel\n",
      "skipping Tourmaline\n",
      "skipping Blue Zircon\n"
     ]
    },
    {
     "name": "stderr",
     "output_type": "stream",
     "text": [
      "100%|██████████| 47/47 [16:38<00:00, 21.25s/it]"
     ]
    },
    {
     "name": "stdout",
     "output_type": "stream",
     "text": [
      "succesfully collected all product links\n",
      "succesfully collected all product links\n"
     ]
    },
    {
     "name": "stderr",
     "output_type": "stream",
     "text": [
      "\n"
     ]
    }
   ],
   "source": [
    "def get_individual_gem_links(data):\n",
    "    gem = data[0]\n",
    "    links = data[1]\n",
    "\n",
    "    if os.path.exists('../dat/product_links/' + gem + '.csv'):\n",
    "        print('skipping', gem)\n",
    "        return\n",
    "    gem_product_links = []\n",
    "    # check if csv file exists\n",
    "    for page in links:\n",
    "        html = grequests.get(page, headers=HEADERS).text\n",
    "        soup = bs(html, 'html.parser')\n",
    "        gem_product_pages = soup.find_all('a', {'class': 'product-image dataimage'})\n",
    "        gem_product_links.extend([page.get('href') for page in gem_product_pages])\n",
    "        # sleep for a random time to avoid being blocked\n",
    "        sleep(random()*2)\n",
    "        if random() < 0.1:\n",
    "            sleep(randint(1, 5))\n",
    "    pd.DataFrame(gem_product_links, columns=[gem]).to_csv('../dat/product_links/' + gem + '.csv')\n",
    "    sleep(10)\n",
    "    return 1\n",
    "def get_gem_product_links(gem_page_links):\n",
    "    futures = [executor.submit(get_individual_gem_links, [gem, gem_page_links[gem]]) for gem in gem_page_links]\n",
    "    with tqdm(total=len(futures)) as pbar:\n",
    "        for future in cf.as_completed(futures):\n",
    "            result = future.result()\n",
    "            pbar.update()\n",
    "    print('succesfully collected all product links')\n",
    "    \n",
    "print('starting to collect all product links')\n",
    "get_gem_product_links(all_pages)\n",
    "print('succesfully collected all product links')"
   ]
  },
  {
   "attachments": {},
   "cell_type": "markdown",
   "metadata": {},
   "source": [
    "For each product page, we will scrape the image links contained within the page.\n",
    "This is again done using multiple threads to speed up the process.\n",
    "\n",
    "The collected image links will be saved as a CSV file in the `dat/image_links/` directory.\n"
   ]
  },
  {
   "cell_type": "code",
   "execution_count": 4,
   "metadata": {},
   "outputs": [],
   "source": [
    "def get_img_links(data):\n",
    "    gem = data[0]\n",
    "    links = data[1]\n",
    "\n",
    "    def extract_img_links(response):\n",
    "        soup = bs(response.content, 'html.parser')\n",
    "        img_links = [img['src'].split('?')[0] for div in soup.find_all(\"div\", class_=\"item product_thumb_forHeight\") \n",
    "                     for img in div.find_all('img')\n",
    "                     if 'certi' not in img['src'] and 'hand' not in img['src']]\n",
    "        return img_links\n",
    "\n",
    "    # Build asynchronous requests using grequests\n",
    "    requests = [grequests.get(link, headers=HEADERS, session=session) for link in links]\n",
    "\n",
    "    # Send requests asynchronously\n",
    "    responses = grequests.imap(requests, size=16)  # Adjust concurrency with 'size' \n",
    "\n",
    "    gem_img_links = []\n",
    "    futures = []\n",
    "\n",
    "    with tqdm(total=len(links)) as pbar:\n",
    "        for response in responses:\n",
    "            future = executor.submit(extract_img_links, response)\n",
    "            futures.append(future)\n",
    "            pbar.update()\n",
    "    \n",
    "    print('waiting for all threads to complete')\n",
    "\n",
    "    for future in cf.as_completed(futures):\n",
    "        gem_img_links.extend(future.result())\n",
    "    # Save results\n",
    "    pd.DataFrame(gem_img_links, columns=[gem]).to_csv(f'../dat/image_links/{gem}.csv')\n",
    "\n",
    "# def read_gem_product_links():\n",
    "#     gem_product_links = {}\n",
    "#     for file in os.listdir('../dat/product_links'):\n",
    "#         data = pd.read_csv('../dat/product_links/' + file, index_col=0)\n",
    "#         gem = data.columns[0]\n",
    "#         gem_product_links[gem] = data[gem].tolist()\n",
    "#     return gem_product_links\n",
    "\n",
    "def get_all_gem_image_links():\n",
    "    for file in os.listdir('../dat/product_links/'):\n",
    "        if os.path.exists('../dat/image_links/' + file):\n",
    "            print('skipping', gem)\n",
    "            continue\n",
    "        data = pd.read_csv('../dat/product_links/' + file, index_col=0)\n",
    "        gem = data.columns[0]\n",
    "        links = data[gem].tolist()\n",
    "\n",
    "        print('getting image links for', gem)\n",
    "        get_img_links([gem, links])\n",
    "        print('done')"
   ]
  },
  {
   "cell_type": "code",
   "execution_count": 3,
   "metadata": {},
   "outputs": [],
   "source": [
    "# from bs4 import BeautifulSoup as bs\n",
    "# import grequests\n",
    "# import pandas as pd\n",
    "# import os\n",
    "# from tqdm import tqdm\n",
    "# from concurrent.futures import ThreadPoolExecutor, as_completed\n",
    "# import requests\n",
    "\n",
    "def get_img_links(data):\n",
    "    gem, links = data\n",
    "\n",
    "    def extract_img_links(response):\n",
    "        if response.status_code == 200:\n",
    "            soup = bs(response.content, 'lxml')  # Use 'lxml' for faster parsing\n",
    "            img_links = [img['src'].split('?')[0] for div in soup.find_all(\"div\", class_=\"item product_thumb_forHeight\")\n",
    "                         for img in div.find_all('img')\n",
    "                         if 'certi' not in img['src'] and 'hand' not in img['src']]\n",
    "            return img_links\n",
    "        else:\n",
    "            return []  # Return an empty list in case of HTTP errors\n",
    "\n",
    "    # Use a session for connection pooling\n",
    "    requests = (grequests.get(link, headers=HEADERS, session=session) for link in links)\n",
    "\n",
    "    # Send requests asynchronously and adjust concurrency with 'size'\n",
    "    responses = grequests.imap(requests, size=8)\n",
    "\n",
    "    gem_img_links = []\n",
    "\n",
    "    future_to_response = {executor.submit(extract_img_links, response): response for response in responses}\n",
    "\n",
    "    with tqdm(total=len(links)) as pbar:\n",
    "        for future in cf.as_completed(future_to_response):\n",
    "            gem_img_links.extend(future.result())\n",
    "            pbar.update()\n",
    "\n",
    "    # Save results\n",
    "    pd.DataFrame(gem_img_links, columns=[gem]).to_csv(f'../dat/image_links/{gem}.csv')\n",
    "\n",
    "def read_gem_product_links():\n",
    "    gem_product_links = {}\n",
    "    for file in os.listdir('../dat/product_links'):\n",
    "        data = pd.read_csv(f'../dat/product_links/{file}', index_col=0)\n",
    "        gem = data.columns[0]\n",
    "        gem_product_links[gem] = data[gem].tolist()\n",
    "    return gem_product_links\n",
    "\n",
    "def get_all_gem_image_links():\n",
    "    for file in os.listdir('../dat/product_links/'):\n",
    "        if os.path.exists(f'../dat/image_links/{file}'):\n",
    "            print('skipping', file.split('.')[0])  # Corrected to display the gem name being skipped\n",
    "            continue\n",
    "        data = pd.read_csv(f'../dat/product_links/{file}', index_col=0)\n",
    "        gem = data.columns[0]\n",
    "        links = data[gem].tolist()\n",
    "\n",
    "        print('getting image links for', gem)\n",
    "        get_img_links([gem, links])\n",
    "        print('done')\n"
   ]
  },
  {
   "cell_type": "code",
   "execution_count": 4,
   "metadata": {},
   "outputs": [
    {
     "name": "stdout",
     "output_type": "stream",
     "text": [
      "skipping Alexandrite\n",
      "skipping Amber\n",
      "skipping Amethyst\n",
      "skipping Ametrine\n",
      "skipping Aquamarine\n",
      "skipping Blue Sapphire (Neelam)\n",
      "skipping Blue Topaz\n",
      "skipping Blue Zircon\n",
      "skipping Burmese Ruby\n",
      "skipping Cats Eye\n",
      "skipping Citrine (Sunela)\n",
      "skipping Colombian Emerald\n",
      "skipping Cornflower Blue Sapphire\n",
      "skipping Emerald (Panna)\n",
      "skipping Fire Opal\n",
      "skipping Garnet\n",
      "skipping Hessonite (Gomed)\n",
      "skipping Iolite (Neeli)\n",
      "skipping Kashmir Blue Sapphire\n",
      "skipping Kyanite\n",
      "skipping Lapis Lazuli\n",
      "skipping Moldavite\n",
      "skipping Moonstone\n",
      "skipping Navratna\n",
      "skipping No Oil Emerald\n",
      "skipping Opal\n",
      "skipping Padparadscha Sapphire\n",
      "skipping Panjshir Emerald\n",
      "skipping Paraiba Tourmaline\n",
      "skipping Pearl (Moti)\n",
      "skipping Peridot\n",
      "skipping Pigeon Blood Ruby\n",
      "skipping Pink Sapphire\n",
      "skipping Pitambari Neelam\n",
      "skipping Red Coral (Moonga)\n",
      "skipping Royal Blue Sapphire\n",
      "skipping Ruby (Manik)\n",
      "skipping Spinel\n",
      "skipping Star Ruby\n",
      "skipping Tanzanite\n",
      "skipping Tourmaline\n",
      "getting image links for Turquoise\n"
     ]
    },
    {
     "name": "stderr",
     "output_type": "stream",
     "text": [
      "Traceback (most recent call last):\n",
      "  File \"c:\\Users\\david\\miniconda3\\envs\\gemstone\\lib\\site-packages\\gevent\\_ffi\\loop.py\", line 270, in python_check_callback\n",
      "    def python_check_callback(self, watcher_ptr): # pylint:disable=unused-argument\n",
      "KeyboardInterrupt\n",
      "2024-02-22T10:55:28Z\n"
     ]
    },
    {
     "ename": "KeyboardInterrupt",
     "evalue": "",
     "output_type": "error",
     "traceback": [
      "\u001b[1;31m---------------------------------------------------------------------------\u001b[0m",
      "\u001b[1;31mKeyboardInterrupt\u001b[0m                         Traceback (most recent call last)",
      "Cell \u001b[1;32mIn[4], line 1\u001b[0m\n\u001b[1;32m----> 1\u001b[0m get_all_gem_image_links()\n",
      "Cell \u001b[1;32mIn[3], line 58\u001b[0m, in \u001b[0;36mget_all_gem_image_links\u001b[1;34m()\u001b[0m\n\u001b[0;32m     55\u001b[0m links \u001b[39m=\u001b[39m data[gem]\u001b[39m.\u001b[39mtolist()\n\u001b[0;32m     57\u001b[0m \u001b[39mprint\u001b[39m(\u001b[39m'\u001b[39m\u001b[39mgetting image links for\u001b[39m\u001b[39m'\u001b[39m, gem)\n\u001b[1;32m---> 58\u001b[0m get_img_links([gem, links])\n\u001b[0;32m     59\u001b[0m \u001b[39mprint\u001b[39m(\u001b[39m'\u001b[39m\u001b[39mdone\u001b[39m\u001b[39m'\u001b[39m)\n",
      "Cell \u001b[1;32mIn[3], line 30\u001b[0m, in \u001b[0;36mget_img_links\u001b[1;34m(data)\u001b[0m\n\u001b[0;32m     26\u001b[0m responses \u001b[39m=\u001b[39m grequests\u001b[39m.\u001b[39mimap(requests, size\u001b[39m=\u001b[39m\u001b[39m32\u001b[39m)\n\u001b[0;32m     28\u001b[0m gem_img_links \u001b[39m=\u001b[39m []\n\u001b[1;32m---> 30\u001b[0m future_to_response \u001b[39m=\u001b[39m {executor\u001b[39m.\u001b[39msubmit(extract_img_links, response): response \u001b[39mfor\u001b[39;00m response \u001b[39min\u001b[39;00m responses}\n\u001b[0;32m     32\u001b[0m \u001b[39mwith\u001b[39;00m tqdm(total\u001b[39m=\u001b[39m\u001b[39mlen\u001b[39m(links)) \u001b[39mas\u001b[39;00m pbar:\n\u001b[0;32m     33\u001b[0m     \u001b[39mfor\u001b[39;00m future \u001b[39min\u001b[39;00m cf\u001b[39m.\u001b[39mas_completed(future_to_response):\n",
      "Cell \u001b[1;32mIn[3], line 30\u001b[0m, in \u001b[0;36m<dictcomp>\u001b[1;34m(.0)\u001b[0m\n\u001b[0;32m     26\u001b[0m responses \u001b[39m=\u001b[39m grequests\u001b[39m.\u001b[39mimap(requests, size\u001b[39m=\u001b[39m\u001b[39m32\u001b[39m)\n\u001b[0;32m     28\u001b[0m gem_img_links \u001b[39m=\u001b[39m []\n\u001b[1;32m---> 30\u001b[0m future_to_response \u001b[39m=\u001b[39m {executor\u001b[39m.\u001b[39msubmit(extract_img_links, response): response \u001b[39mfor\u001b[39;00m response \u001b[39min\u001b[39;00m responses}\n\u001b[0;32m     32\u001b[0m \u001b[39mwith\u001b[39;00m tqdm(total\u001b[39m=\u001b[39m\u001b[39mlen\u001b[39m(links)) \u001b[39mas\u001b[39;00m pbar:\n\u001b[0;32m     33\u001b[0m     \u001b[39mfor\u001b[39;00m future \u001b[39min\u001b[39;00m cf\u001b[39m.\u001b[39mas_completed(future_to_response):\n",
      "File \u001b[1;32mc:\\Users\\david\\miniconda3\\envs\\gemstone\\lib\\site-packages\\grequests.py:157\u001b[0m, in \u001b[0;36mimap\u001b[1;34m(requests, stream, size, exception_handler)\u001b[0m\n\u001b[0;32m    154\u001b[0m \u001b[39mdef\u001b[39;00m \u001b[39msend\u001b[39m(r):\n\u001b[0;32m    155\u001b[0m     \u001b[39mreturn\u001b[39;00m r\u001b[39m.\u001b[39msend(stream\u001b[39m=\u001b[39mstream)\n\u001b[1;32m--> 157\u001b[0m \u001b[39mfor\u001b[39;00m request \u001b[39min\u001b[39;00m pool\u001b[39m.\u001b[39mimap_unordered(send, requests):\n\u001b[0;32m    158\u001b[0m     \u001b[39mif\u001b[39;00m request\u001b[39m.\u001b[39mresponse \u001b[39mis\u001b[39;00m \u001b[39mnot\u001b[39;00m \u001b[39mNone\u001b[39;00m:\n\u001b[0;32m    159\u001b[0m         \u001b[39myield\u001b[39;00m request\u001b[39m.\u001b[39mresponse\n",
      "File \u001b[1;32msrc\\\\gevent\\\\_imap.py:105\u001b[0m, in \u001b[0;36mgevent._gevent_c_imap.IMapUnordered.__next__\u001b[1;34m()\u001b[0m\n",
      "File \u001b[1;32msrc\\\\gevent\\\\_imap.py:113\u001b[0m, in \u001b[0;36mgevent._gevent_c_imap.IMapUnordered._inext\u001b[1;34m()\u001b[0m\n",
      "File \u001b[1;32msrc\\\\gevent\\\\queue.py:350\u001b[0m, in \u001b[0;36mgevent._gevent_cqueue.Queue.get\u001b[1;34m()\u001b[0m\n",
      "File \u001b[1;32msrc\\\\gevent\\\\queue.py:327\u001b[0m, in \u001b[0;36mgevent._gevent_cqueue.Queue._Queue__get_or_peek\u001b[1;34m()\u001b[0m\n",
      "File \u001b[1;32msrc\\\\gevent\\\\_waiter.py:154\u001b[0m, in \u001b[0;36mgevent._gevent_c_waiter.Waiter.get\u001b[1;34m()\u001b[0m\n",
      "File \u001b[1;32msrc\\\\gevent\\\\_greenlet_primitives.py:61\u001b[0m, in \u001b[0;36mgevent._gevent_c_greenlet_primitives.SwitchOutGreenletWithLoop.switch\u001b[1;34m()\u001b[0m\n",
      "File \u001b[1;32msrc\\\\gevent\\\\_greenlet_primitives.py:61\u001b[0m, in \u001b[0;36mgevent._gevent_c_greenlet_primitives.SwitchOutGreenletWithLoop.switch\u001b[1;34m()\u001b[0m\n",
      "File \u001b[1;32msrc\\\\gevent\\\\_greenlet_primitives.py:65\u001b[0m, in \u001b[0;36mgevent._gevent_c_greenlet_primitives.SwitchOutGreenletWithLoop.switch\u001b[1;34m()\u001b[0m\n",
      "File \u001b[1;32msrc\\\\gevent\\\\_gevent_c_greenlet_primitives.pxd:35\u001b[0m, in \u001b[0;36mgevent._gevent_c_greenlet_primitives._greenlet_switch\u001b[1;34m()\u001b[0m\n",
      "File \u001b[1;32mc:\\Users\\david\\miniconda3\\envs\\gemstone\\lib\\site-packages\\gevent\\_ffi\\loop.py:270\u001b[0m, in \u001b[0;36mAbstractCallbacks.python_check_callback\u001b[1;34m(self, watcher_ptr)\u001b[0m\n\u001b[0;32m    267\u001b[0m     watcher\u001b[39m.\u001b[39mstop()\n\u001b[0;32m    269\u001b[0m \u001b[39mif\u001b[39;00m \u001b[39mnot\u001b[39;00m PYPY:\n\u001b[1;32m--> 270\u001b[0m     \u001b[39mdef\u001b[39;00m \u001b[39mpython_check_callback\u001b[39m(\u001b[39mself\u001b[39m, watcher_ptr): \u001b[39m# pylint:disable=unused-argument\u001b[39;00m\n\u001b[0;32m    271\u001b[0m         \u001b[39m# If we have the onerror callback, this is a no-op; all the real\u001b[39;00m\n\u001b[0;32m    272\u001b[0m         \u001b[39m# work to rethrow the exception is done by the onerror callback\u001b[39;00m\n\u001b[0;32m    273\u001b[0m \n\u001b[0;32m    274\u001b[0m         \u001b[39m# NOTE: Unlike the rest of the functions, this is called with a pointer\u001b[39;00m\n\u001b[0;32m    275\u001b[0m         \u001b[39m# to the C level structure, *not* a pointer to the void* that represents a\u001b[39;00m\n\u001b[0;32m    276\u001b[0m         \u001b[39m# <cdata> for the Python Watcher object.\u001b[39;00m\n\u001b[0;32m    277\u001b[0m         \u001b[39mpass\u001b[39;00m\n\u001b[0;32m    278\u001b[0m \u001b[39melse\u001b[39;00m: \u001b[39m# PyPy\u001b[39;00m\n\u001b[0;32m    279\u001b[0m     \u001b[39m# On PyPy, we need the function to have some sort of body, otherwise\u001b[39;00m\n\u001b[0;32m    280\u001b[0m     \u001b[39m# the signal exceptions don't always get caught, *especially* with\u001b[39;00m\n\u001b[1;32m   (...)\u001b[0m\n\u001b[0;32m    284\u001b[0m     \u001b[39m# test_socket's test_sendall_interrupted can hang.\u001b[39;00m\n\u001b[0;32m    285\u001b[0m     \u001b[39m# See https://github.com/gevent/gevent/issues/1112\u001b[39;00m\n",
      "\u001b[1;31mKeyboardInterrupt\u001b[0m: "
     ]
    },
    {
     "name": "stderr",
     "output_type": "stream",
     "text": [
      "c:\\Users\\david\\miniconda3\\envs\\gemstone\\lib\\site-packages\\gevent\\hub.py:161: UserWarning: libuv only supports millisecond timer resolution; all times less will be set to 1 ms\n",
      "  with loop.timer(seconds, ref=ref) as t:\n"
     ]
    }
   ],
   "source": [
    "get_all_gem_image_links()"
   ]
  },
  {
   "attachments": {},
   "cell_type": "markdown",
   "metadata": {},
   "source": [
    "### Downloading images"
   ]
  },
  {
   "attachments": {},
   "cell_type": "markdown",
   "metadata": {},
   "source": [
    "Now wo download all the collected images to the `dat/images` directory."
   ]
  },
  {
   "cell_type": "code",
   "execution_count": null,
   "metadata": {},
   "outputs": [],
   "source": [
    "def save_image(gem, response):\n",
    "    filename = response.url.split('/p')[-1].split('/')[1].split('?')[0]\n",
    "\n",
    "    img = Image.open(io.BytesIO(response.content))\n",
    "    if img.mode != 'RGB':\n",
    "        img = img.convert('RGB')  # Convert to RGB if necessary\n",
    "    img.save(os.path.join(img_path, gem, filename + '.jpg'), format='JPEG')\n",
    "\n",
    "# Asynchronous image downloads\n",
    "def process_gem(gem, links):\n",
    "    reqs = (grequests.get(link, stream=True, headers=HEADERS, session=session) for link in links)\n",
    "    responses = grequests.imap(reqs, size=16)  # Adjust pool size\n",
    "\n",
    "    for response in responses:\n",
    "        if response:  # Skip failures\n",
    "            save_image(gem, response)\n",
    "\n",
    "def process_file(file):\n",
    "    data = pd.read_csv(file, index_col=0)\n",
    "    gem = data.columns[0]\n",
    "    links = data[gem].tolist()\n",
    "    os.makedirs(img_path + gem, exist_ok=True)\n",
    "    process_gem(gem, links)\n",
    "\n",
    "link_path = '../dat/image_links'\n",
    "img_path = '../dat/images/'\n",
    "\n",
    "executor = cf.ThreadPoolExecutor(max_workers=8)\n",
    "\n",
    "futures = [executor.submit(process_file, os.path.join(link_path, file)) for file in os.listdir(link_path)]\n",
    "with tqdm(total=len(futures)) as pbar:\n",
    "    for future in cf.as_completed(futures):\n",
    "        future.result()\n",
    "        pbar.update()"
   ]
  }
 ],
 "metadata": {
  "kernelspec": {
   "display_name": "gemstone",
   "language": "python",
   "name": "python3"
  },
  "language_info": {
   "codemirror_mode": {
    "name": "ipython",
    "version": 3
   },
   "file_extension": ".py",
   "mimetype": "text/x-python",
   "name": "python",
   "nbconvert_exporter": "python",
   "pygments_lexer": "ipython3",
   "version": "3.10.13"
  },
  "orig_nbformat": 4,
  "vscode": {
   "interpreter": {
    "hash": "f762acd087eee1e20edab5fbefd8c93a224f39ec9e7e44d927d5a8eeabcf7075"
   }
  }
 },
 "nbformat": 4,
 "nbformat_minor": 2
}
