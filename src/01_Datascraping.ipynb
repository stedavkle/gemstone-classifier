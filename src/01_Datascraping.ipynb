{
 "cells": [
  {
   "attachments": {},
   "cell_type": "markdown",
   "metadata": {},
   "source": [
    "# Scraping gempundit.com\n",
    "We obtain our data by scraping the website gempundit.com. The store offers a variety of gemstones and for each product there are multiple images from different angles.\n"
   ]
  },
  {
   "cell_type": "code",
   "execution_count": 1,
   "metadata": {},
   "outputs": [
    {
     "name": "stderr",
     "output_type": "stream",
     "text": [
      "C:\\Users\\david\\AppData\\Local\\Temp\\ipykernel_19132\\18638876.py:1: DeprecationWarning: \n",
      "Pyarrow will become a required dependency of pandas in the next major release of pandas (pandas 3.0),\n",
      "(to allow more performant data types, such as the Arrow string type, and better interoperability with other libraries)\n",
      "but was not found to be installed on your system.\n",
      "If this would cause problems for you,\n",
      "please provide us feedback at https://github.com/pandas-dev/pandas/issues/54466\n",
      "        \n",
      "  import pandas as pd\n"
     ]
    }
   ],
   "source": [
    "import pandas as pd\n",
    "from time import sleep\n",
    "from bs4 import BeautifulSoup as bs\n",
    "import lxml\n",
    "import requests\n",
    "#import grequests\n",
    "import shutil\n",
    "import os\n",
    "import io\n",
    "from PIL import Image\n",
    "import json\n",
    "import concurrent.futures as cf\n",
    "from tqdm import tqdm\n",
    "from random import randint, random"
   ]
  },
  {
   "cell_type": "code",
   "execution_count": 3,
   "metadata": {},
   "outputs": [],
   "source": [
    "GEMSTONES_CATEGORY_URL = 'https://www.gempundit.com/gemstones'\n",
    "HEADERS = {'User-Agent': 'Mozilla/5.0 (Macintosh; Intel Mac OS X 10_10_1) AppleWebKit/537.36 (KHTML, like Gecko) Chrome/39.0.2171.95 Safari/537.36'}\n",
    "#session = requests.Session()\n",
    "#session.headers.update(HEADERS)\n",
    "executor = cf.ThreadPoolExecutor(max_workers=12)\n"
   ]
  },
  {
   "attachments": {},
   "cell_type": "markdown",
   "metadata": {},
   "source": [
    "First we extract the links for all of the type of gemstone from the website."
   ]
  },
  {
   "cell_type": "code",
   "execution_count": 33,
   "metadata": {},
   "outputs": [],
   "source": [
    "def get_all_gem_links_website(ALL_GEMS_URL):\n",
    "    request = grequests.get(ALL_GEMS_URL, headers=HEADERS)\n",
    "    response = grequests.map([request])\n",
    "    html = response[0].text\n",
    "    soup = bs(html, 'html.parser')\n",
    "    print('succesfully loaded page')\n",
    "    gem_table = soup.find('div', {'class': 'container'})\n",
    "    print('succesfully found gem table, now collecting links')\n",
    "    gem_aClass = gem_table.find_all('a', {'data-category': 'gemstones'})\n",
    "    gem_links = {}\n",
    "    for gem in gem_aClass:\n",
    "        link = gem.get('href')\n",
    "        title = gem.get('title')\n",
    "        print(title)\n",
    "        # add the link to the dictionary\n",
    "        gem_links[title] = link\n",
    "    print('succesfully collected all gem links')\n",
    "    return gem_links\n",
    "def scrape_product_links(base_url, file_path=None):\n",
    "    \"\"\"\n",
    "    Scrapes product links from a given base URL and returns them as a dictionary.\n",
    "\n",
    "    Args:\n",
    "        base_url (str): The base URL of the website. \n",
    "\n",
    "    Returns:\n",
    "        dict: A dictionary containing product names as keys and hrefs as values.\n",
    "    \"\"\"\n",
    "    if file_path is None:\n",
    "        request = grequests.get(base_url, session=session)\n",
    "        response = grequests.map([request])[0]\n",
    "        response.raise_for_status()  # Check for HTTP errors\n",
    "\n",
    "        soup = bs(response.content, 'html.parser')\n",
    "    else:\n",
    "        with open(file_path, 'r') as file:\n",
    "            soup = bs(file, 'html.parser')\n",
    "\n",
    "    result = {}  # Initialize an empty dictionary for results\n",
    "    \n",
    "    # Find the container with all the product blocks\n",
    "    product_container = soup.find('ul', class_='stonesCategoryProduct')\n",
    "\n",
    "    if product_container:\n",
    "        # Iterate over each product block \n",
    "        for product_block in product_container.find_all('a'):\n",
    "            product_name = product_block.find('span', class_='productNameH2').text.strip()\n",
    "            product_href = product_block['href']\n",
    "\n",
    "            # Add product name and href to the result dictionary\n",
    "            result[product_name] = product_href\n",
    "\n",
    "    return result\n",
    "\n",
    "\n",
    "\n",
    "gem_links = scrape_product_links(GEMSTONES_CATEGORY_URL, '../src/gempundit_local.html')"
   ]
  },
  {
   "attachments": {},
   "cell_type": "markdown",
   "metadata": {},
   "source": [
    "Now we collect the links to all of the product pages for each gemstone category."
   ]
  },
  {
   "cell_type": "code",
   "execution_count": 34,
   "metadata": {},
   "outputs": [
    {
     "name": "stdout",
     "output_type": "stream",
     "text": [
      "getting all gem pages\n",
      "\n",
      " Alexandrite\n",
      "\n",
      "Alexandrite 16\n",
      "\n",
      " Alexandrite Cats Eye\n",
      "\n",
      "Alexandrite Cats Eye 2\n",
      "\n",
      " Almandine Garnet (Pyrope)\n",
      "\n",
      "Almandine Garnet (Pyrope) 10\n",
      "\n",
      " Amber\n",
      "\n",
      "Amber 2\n",
      "\n",
      " Amethyst\n",
      "\n",
      "Amethyst 45\n",
      "\n",
      " Amethyst Cabochon\n",
      "\n",
      "Amethyst Cabochon 1\n",
      "\n",
      " Ametrine\n",
      "\n",
      "Ametrine 12\n",
      "\n",
      " Ammolite\n",
      "\n",
      "Ammolite 2\n",
      "\n",
      " Andalusite\n",
      "\n",
      "Andalusite 1\n",
      "\n",
      " Andesine\n",
      "\n",
      "Andesine 1\n",
      "\n",
      " Andesine Labradorite\n",
      "\n",
      "Andesine Labradorite 1\n",
      "\n",
      " Angel Skin Coral\n",
      "\n",
      "Angel Skin Coral 2\n",
      "\n",
      " Apatite\n",
      "\n",
      "Apatite 5\n",
      "\n",
      " Apatite Cat's Eye\n",
      "\n",
      "Apatite Cat's Eye 9\n",
      "\n",
      " Aquamarine\n",
      "\n",
      "Aquamarine 54\n",
      "\n",
      " Australian Opal\n",
      "\n",
      "Australian Opal 71\n",
      "\n",
      " Aventurine\n",
      "\n",
      "Aventurine 9\n",
      "\n",
      " Azurite\n",
      "\n",
      "Azurite 1\n",
      "\n",
      " Basra Pearls\n",
      "\n",
      "Basra Pearls 2\n",
      "\n",
      " Beryl\n",
      "\n",
      "Beryl 8\n",
      "\n",
      " Bicolor Sapphire\n",
      "\n",
      "Bicolor Sapphire 1\n",
      "\n",
      " Bixbite\n",
      "\n",
      "Bixbite 1\n",
      "\n",
      " Black Onyx\n",
      "\n",
      "Black Onyx 28\n",
      "\n",
      " Black Opal\n",
      "\n",
      "Black Opal 28\n",
      "\n",
      " Black Pearls\n",
      "\n",
      "Black Pearls 3\n",
      "\n",
      " Black Spinel\n",
      "\n",
      "Black Spinel 6\n",
      "\n",
      " Black Tourmaline\n",
      "\n",
      "Black Tourmaline 13\n",
      "\n",
      " Blizzard Stone\n",
      "\n",
      "Blizzard Stone 1\n",
      "\n",
      " Bloodstone\n",
      "\n",
      "Bloodstone 10\n",
      "\n",
      " Blue Fluorite\n",
      "\n",
      "Blue Fluorite 1\n",
      "\n",
      " Blue Moonstone\n",
      "\n",
      "Blue Moonstone 1\n",
      "\n",
      " Blue Opal\n",
      "\n",
      "Blue Opal 10\n",
      "\n",
      " Blue Sapphire (Neelam)\n",
      "\n",
      "Blue Sapphire (Neelam) 123\n",
      "\n",
      " Blue Spinel\n",
      "\n",
      "Blue Spinel 4\n",
      "\n",
      " Blue Topaz\n",
      "\n",
      "Blue Topaz 26\n",
      "\n",
      " Blue Tourmaline/Indicolite Tourmaline\n",
      "\n",
      "Blue Tourmaline/Indicolite Tourmaline 9\n",
      "\n",
      " Blue Zircon\n",
      "\n",
      "Blue Zircon 10\n",
      "\n",
      " Boulder Opal\n",
      "\n",
      "Boulder Opal 1\n",
      "\n",
      " Brazilian Emerald\n",
      "\n",
      "Brazilian Emerald 59\n",
      "\n",
      " Brown Moonstone\n",
      "\n",
      "Brown Moonstone 8\n",
      "\n",
      " Brown Zircon\n",
      "\n",
      "Brown Zircon 9\n",
      "\n",
      " Burmese Ruby\n",
      "\n",
      "Burmese Ruby 24\n",
      "\n",
      " Burmese Sapphire\n",
      "\n",
      "Burmese Sapphire 8\n",
      "\n",
      " Carnelian\n",
      "\n",
      "Carnelian 1\n",
      "\n",
      " Cats Eye\n",
      "\n",
      "Cats Eye 38\n",
      "\n",
      " Cats Eye Moonstone\n",
      "\n",
      "Cats Eye Moonstone 2\n",
      "\n",
      " Cats Eye Opal\n",
      "\n",
      "Cats Eye Opal 1\n",
      "\n",
      " Cats Eye Quartz\n",
      "\n",
      "Cats Eye Quartz 7\n",
      "\n",
      " Ceylon Blue Sapphire\n",
      "\n",
      "Ceylon Blue Sapphire 96\n",
      "\n",
      " Chrome Diopside\n",
      "\n",
      "Chrome Diopside 9\n",
      "\n",
      " Chrome Tourmaline\n",
      "\n",
      "Chrome Tourmaline 1\n",
      "\n",
      " Chrysoberyl\n",
      "\n",
      "Chrysoberyl 2\n",
      "\n",
      " Chrysoberyl Cat’s Eye (Lehsunia)\n",
      "\n",
      "Chrysoberyl Cat’s Eye (Lehsunia) 17\n",
      "\n",
      " Chrysocolla\n",
      "\n",
      "Chrysocolla 4\n",
      "\n",
      " Citrine (Sunela)\n",
      "\n",
      "Citrine (Sunela) 42\n",
      "\n",
      " Clinohumite\n",
      "\n",
      "Clinohumite 1\n",
      "\n",
      " Colombian Emerald\n",
      "\n",
      "Colombian Emerald 25\n",
      "\n",
      " Color Change Fluorite\n",
      "\n",
      "Color Change Fluorite 1\n",
      "\n",
      " Color Change Garnet\n",
      "\n",
      "Color Change Garnet 1\n",
      "\n",
      " Color Change Sapphire\n",
      "\n",
      "Color Change Sapphire 1\n",
      "\n",
      " Cornflower Blue Sapphire\n",
      "\n",
      "Cornflower Blue Sapphire 1\n",
      "\n",
      " Cubic Zirconia\n",
      "\n",
      "Cubic Zirconia 1\n",
      "\n",
      " Cultured Pearls\n",
      "\n",
      "Cultured Pearls 41\n",
      "\n",
      " Danburite\n",
      "\n",
      "Danburite 1\n",
      "\n",
      " Demantoid Garnet\n",
      "\n",
      "Demantoid Garnet 1\n",
      "\n",
      " Diopside\n",
      "\n",
      "Diopside 1\n",
      "\n",
      " Emerald (Panna)\n",
      "\n",
      "Emerald (Panna) 153\n",
      "\n",
      " Ethiopian Emerald\n",
      "\n",
      "Ethiopian Emerald 2\n",
      "\n",
      " Ethiopian Opal\n",
      "\n",
      "Ethiopian Opal 83\n",
      "\n",
      " Fire Agate\n",
      "\n",
      "Fire Agate 1\n",
      "\n",
      " Fire Opal\n",
      "\n",
      "Fire Opal 8\n",
      "\n",
      " Fluorite\n",
      "\n",
      "Fluorite 3\n",
      "\n",
      " Freshwater Pearls\n",
      "\n",
      "Freshwater Pearls 1\n",
      "\n",
      " Garnet\n",
      "\n",
      "Garnet 33\n",
      "\n",
      " Glass Filled Ruby\n",
      "\n",
      "Glass Filled Ruby 30\n",
      "\n",
      " Golden Sapphire\n",
      "\n",
      "Golden Sapphire 1\n",
      "\n",
      " Golden Topaz\n",
      "\n",
      "Golden Topaz 5\n",
      "\n",
      " Goshenite\n",
      "\n",
      "Goshenite 4\n",
      "\n",
      " Grandidierite\n",
      "\n",
      "Grandidierite 3\n",
      "\n",
      " Green Amethyst (Prasiolite)\n",
      "\n",
      "Green Amethyst (Prasiolite) 7\n",
      "\n",
      " Green Apatite\n",
      "\n",
      "Green Apatite 1\n",
      "\n",
      " Green Garnet\n",
      "\n",
      "Green Garnet 1\n",
      "\n",
      " Green Kyanite\n",
      "\n",
      "Green Kyanite 3\n",
      "\n",
      " Green Sapphire\n",
      "\n",
      "Green Sapphire 3\n",
      "\n",
      " Green Tanzanite\n",
      "\n",
      "Green Tanzanite 1\n",
      "\n",
      " Green Tourmaline (Verdelite)\n",
      "\n",
      "Green Tourmaline (Verdelite) 28\n",
      "\n",
      " Grey Sapphire\n",
      "\n",
      "Grey Sapphire 1\n",
      "\n",
      " Heliodor\n",
      "\n",
      "Heliodor 12\n",
      "\n",
      " Hessonite (Gomed)\n",
      "\n",
      "Hessonite (Gomed) 45\n",
      "\n",
      " Howlite\n",
      "\n",
      "Howlite 1\n",
      "\n",
      " Imperial Topaz\n",
      "\n",
      "Imperial Topaz 5\n",
      "\n",
      " Indian Emerald\n",
      "\n",
      "Indian Emerald 1\n",
      "\n",
      " Indian Ruby\n",
      "\n",
      "Indian Ruby 62\n",
      "\n",
      " Indraneelam\n",
      "\n",
      "Indraneelam 1\n",
      "\n",
      " Insignificant Oil Emerald\n",
      "\n",
      "Insignificant Oil Emerald 1\n",
      "\n",
      " Iolite (Neeli)\n",
      "\n",
      "Iolite (Neeli) 11\n",
      "\n",
      " Iranian Turquoise (Irani Feroza)\n",
      "\n",
      "Iranian Turquoise (Irani Feroza) 18\n",
      "\n",
      " Jade\n",
      "\n",
      "Jade 25\n",
      "\n",
      " Jade Nephrite\n",
      "\n",
      "Jade Nephrite 6\n",
      "\n",
      " Jadeite\n",
      "\n",
      "Jadeite 11\n",
      "\n",
      " Japanese Red Coral\n",
      "\n",
      "Japanese Red Coral 22\n",
      "\n",
      " Jasper\n",
      "\n",
      "Jasper 1\n",
      "\n",
      " Kashmir Blue Sapphire\n",
      "\n",
      "Kashmir Blue Sapphire 3\n",
      "\n",
      " Keshi Pearls\n",
      "\n",
      "Keshi Pearls 11\n",
      "\n",
      " Khooni Neelam\n",
      "\n",
      "Khooni Neelam 3\n",
      "\n",
      " Kunzite\n",
      "\n",
      "Kunzite 6\n",
      "\n",
      " Kyanite\n",
      "\n",
      "Kyanite 18\n",
      "\n",
      " Labradorite\n",
      "\n",
      "Labradorite 13\n",
      "\n",
      " Lapis Lazuli\n",
      "\n",
      "Lapis Lazuli 5\n",
      "\n",
      " Lavender Quartz\n",
      "\n",
      "Lavender Quartz 3\n",
      "\n",
      " Lemon Quartz\n",
      "\n",
      "Lemon Quartz 4\n",
      "\n",
      " London Blue Topaz\n",
      "\n",
      "London Blue Topaz 7\n",
      "\n",
      " Malachite\n",
      "\n",
      "Malachite 3\n",
      "\n",
      " Mandarin Garnet\n",
      "\n",
      "Mandarin Garnet 1\n",
      "\n",
      " Mexican Fire Opal\n",
      "\n",
      "Mexican Fire Opal 40\n",
      "\n",
      " Mocha Scapolite\n",
      "\n",
      "Mocha Scapolite 2\n",
      "\n",
      " Mogok Ruby\n",
      "\n",
      "Mogok Ruby 1\n",
      "\n",
      " Moldavite\n",
      "\n",
      "Moldavite 19\n",
      "\n",
      " Monazite\n",
      "\n",
      "Monazite 1\n",
      "\n",
      " Moonstone\n",
      "\n",
      "Moonstone 41\n",
      "\n",
      " Morganite\n",
      "\n",
      "Morganite 11\n",
      "\n",
      " Moss Agate\n",
      "\n",
      "Moss Agate 2\n",
      "\n",
      " Mozambique Ruby\n",
      "\n",
      "Mozambique Ruby 33\n",
      "\n",
      " Natural Pearls\n",
      "\n",
      "Natural Pearls 6\n",
      "\n",
      " Navratna\n",
      "\n",
      "Navratna 1\n",
      "\n",
      " Neon Apatite\n",
      "\n",
      "Neon Apatite 5\n",
      "\n",
      " No Oil Emerald\n",
      "\n",
      "No Oil Emerald 1\n",
      "\n",
      " Obsidian\n",
      "\n",
      "Obsidian 4\n",
      "\n",
      " Onyx (Chalcedony)\n",
      "\n",
      "Onyx (Chalcedony) 78\n",
      "\n",
      " Opal\n",
      "\n",
      "Opal 177\n",
      "\n",
      " Opal Doublet\n",
      "\n",
      "Opal Doublet 8\n",
      "\n",
      " Orange Kyanite\n",
      "\n",
      "Orange Kyanite 1\n",
      "\n",
      " Orange Sapphire\n",
      "\n",
      "Orange Sapphire 1\n",
      "\n",
      " Orthoclase\n",
      "\n",
      "Orthoclase 1\n",
      "\n",
      " Padparadscha Sapphire\n",
      "\n",
      "Padparadscha Sapphire 6\n",
      "\n",
      " Pakistan Emerald/Swat Emerald\n",
      "\n",
      "Pakistan Emerald/Swat Emerald 1\n",
      "\n",
      " Panjshir Emerald\n",
      "\n",
      "Panjshir Emerald 1\n",
      "\n",
      " Paraiba Tourmaline\n",
      "\n",
      "Paraiba Tourmaline 10\n",
      "\n",
      " Peach Morganite\n",
      "\n",
      "Peach Morganite 3\n",
      "\n",
      " Peach Sapphire\n",
      "\n",
      "Peach Sapphire 1\n",
      "\n",
      " Peacock Tanzanite\n",
      "\n",
      "Peacock Tanzanite 1\n",
      "\n",
      " Pearl (Moti)\n",
      "\n",
      "Pearl (Moti) 55\n",
      "\n",
      " Peridot\n",
      "\n",
      "Peridot 26\n",
      "\n",
      " Persian Turquoise\n",
      "\n",
      "Persian Turquoise 1\n",
      "\n",
      " Petalite\n",
      "\n",
      "Petalite 1\n",
      "\n",
      " Petrified Wood\n",
      "\n",
      "Petrified Wood 1\n",
      "\n",
      " Pigeon Blood Ruby\n",
      "\n",
      "Pigeon Blood Ruby 6\n",
      "\n",
      " Pink Coral\n",
      "\n",
      "Pink Coral 3\n",
      "\n",
      " Pink Fluorite\n",
      "\n",
      "Pink Fluorite 1\n",
      "\n",
      " Pink Morganite\n",
      "\n",
      "Pink Morganite 7\n",
      "\n",
      " Pink Opal\n",
      "\n",
      "Pink Opal 9\n",
      "\n",
      " Pink Sapphire\n",
      "\n",
      "Pink Sapphire 19\n",
      "\n",
      " Pink Spinel\n",
      "\n",
      "Pink Spinel 6\n",
      "\n",
      " Pink Topaz\n",
      "\n",
      "Pink Topaz 3\n",
      "\n",
      " Pink Tourmaline\n",
      "\n",
      "Pink Tourmaline 12\n",
      "\n",
      " Pitambari Neelam\n",
      "\n",
      "Pitambari Neelam 25\n",
      "\n",
      " Prehnite\n",
      "\n",
      "Prehnite 1\n",
      "\n",
      " Purple Garnet\n",
      "\n",
      "Purple Garnet 4\n",
      "\n",
      " Purple Sapphire\n",
      "\n",
      "Purple Sapphire 5\n",
      "\n",
      " Rainbow Fluorite\n",
      "\n",
      "Rainbow Fluorite 1\n",
      "\n",
      " Rainbow Moonstone\n",
      "\n",
      "Rainbow Moonstone 4\n",
      "\n",
      " Red Coral (Moonga)\n",
      "\n",
      "Red Coral (Moonga) 49\n",
      "\n",
      " Red Spinel\n",
      "\n",
      "Red Spinel 2\n",
      "\n",
      " Red Tourmaline\n",
      "\n",
      "Red Tourmaline 1\n",
      "\n",
      " Red Zircon\n",
      "\n",
      "Red Zircon 1\n",
      "\n",
      " Rhodochrosite\n",
      "\n",
      "Rhodochrosite 1\n",
      "\n",
      " Rhodonite\n",
      "\n",
      "Rhodonite 1\n",
      "\n",
      " Rose Quartz\n",
      "\n",
      "Rose Quartz 7\n",
      "\n",
      " Royal Blue Sapphire\n",
      "\n",
      "Royal Blue Sapphire 4\n",
      "\n",
      " Rubellite\n",
      "\n",
      "Rubellite 10\n",
      "\n",
      " Ruby (Manik)\n",
      "\n",
      "Ruby (Manik) 150\n",
      "\n",
      " Ruby Cabochon\n",
      "\n",
      "Ruby Cabochon 8\n",
      "\n",
      " Russian Alexandrite\n",
      "\n",
      "Russian Alexandrite 1\n",
      "\n",
      " Russian Emerald\n",
      "\n",
      "Russian Emerald 2\n",
      "\n",
      " Rutilated Quartz\n",
      "\n",
      "Rutilated Quartz 1\n",
      "\n",
      " Sang-E-Maryam\n",
      "\n",
      "Sang-E-Maryam 1\n",
      "\n",
      " Sapphire\n",
      "\n",
      "Sapphire 93\n",
      "\n",
      " Schorl Tourmaline\n",
      "\n",
      "Schorl Tourmaline 1\n",
      "\n",
      " Serpentine\n",
      "\n",
      "Serpentine 1\n",
      "\n",
      " Sillimanite Cats Eye\n",
      "\n",
      "Sillimanite Cats Eye 1\n",
      "\n",
      " Sky Blue Topaz\n",
      "\n",
      "Sky Blue Topaz 11\n",
      "\n",
      " Smoky Quartz\n",
      "\n",
      "Smoky Quartz 6\n",
      "\n",
      " Sodalite\n",
      "\n",
      "Sodalite 1\n",
      "\n",
      " South Sea Pearls\n",
      "\n",
      "South Sea Pearls 33\n",
      "\n",
      " Spectrolite\n",
      "\n",
      "Spectrolite 1\n",
      "\n",
      " Spessartite\n",
      "\n",
      "Spessartite 3\n",
      "\n",
      " Sphalerite\n",
      "\n",
      "Sphalerite 1\n",
      "\n",
      " Spinel\n",
      "\n",
      "Spinel 20\n",
      "\n",
      " Sri Lanka Moonstone\n",
      "\n",
      "Sri Lanka Moonstone 1\n",
      "\n",
      " Star Garnet\n",
      "\n",
      "Star Garnet 5\n",
      "\n",
      " Star Ruby\n",
      "\n",
      "Star Ruby 25\n",
      "\n",
      " Star Sapphire\n",
      "\n",
      "Star Sapphire 5\n",
      "\n",
      " Sunstone\n",
      "\n",
      "Sunstone 12\n",
      "\n",
      " Swiss Blue Topaz\n",
      "\n",
      "Swiss Blue Topaz 10\n",
      "\n",
      " Taaffeite\n",
      "\n",
      "Taaffeite 1\n",
      "\n",
      " Tahitian Pearls\n",
      "\n",
      "Tahitian Pearls 3\n",
      "\n",
      " Tanzania Ruby\n",
      "\n",
      "Tanzania Ruby 1\n",
      "\n",
      " Tanzanite\n",
      "\n",
      "Tanzanite 21\n",
      "\n",
      " Teal Sapphire\n",
      "\n",
      "Teal Sapphire 3\n",
      "\n",
      " Tibetian Turquoise\n",
      "\n",
      "Tibetian Turquoise 16\n",
      "\n",
      " Tiger Eye\n",
      "\n",
      "Tiger Eye 1\n",
      "\n",
      " Titanite (Sphene)\n",
      "\n",
      "Titanite (Sphene) 1\n",
      "\n",
      " Topaz\n",
      "\n",
      "Topaz 1\n",
      "\n",
      " Tourmaline\n",
      "\n",
      "Tourmaline 1\n",
      "\n",
      " Trapiche Emerald\n",
      "\n",
      "Trapiche Emerald 1\n",
      "\n",
      " Tsavorite\n",
      "\n",
      "Tsavorite 1\n",
      "\n",
      " Turquoise\n",
      "\n",
      "Turquoise 1\n",
      "\n",
      " Vivid Green Emerald\n",
      "\n",
      "Vivid Green Emerald 1\n",
      "\n",
      " Watermelon Tourmaline\n",
      "\n",
      "Watermelon Tourmaline 1\n",
      "\n",
      " White Coral\n",
      "\n",
      "White Coral 1\n",
      "\n",
      " White Opal\n",
      "\n",
      "White Opal 1\n",
      "\n",
      " White Sapphire\n",
      "\n",
      "White Sapphire 1\n",
      "\n",
      " White Topaz\n",
      "\n",
      "White Topaz 1\n",
      "\n",
      " White Zircon\n",
      "\n",
      "White Zircon 1\n",
      "\n",
      " Yellow Beryl\n",
      "\n",
      "Yellow Beryl 1\n",
      "\n",
      " Yellow Fluorite\n",
      "\n",
      "Yellow Fluorite 1\n",
      "\n",
      " Yellow Sapphire - Pukhraj\n",
      "\n",
      "Yellow Sapphire - Pukhraj 1\n",
      "\n",
      " Yellow Topaz\n",
      "\n",
      "Yellow Topaz 1\n",
      "\n",
      " Yellow Zircon\n",
      "\n",
      "Yellow Zircon 1\n",
      "\n",
      " Zambian Emerald\n",
      "\n",
      "Zambian Emerald 1\n",
      "\n",
      " Zircon\n",
      "\n",
      "Zircon 1\n",
      "\n",
      " Zultanite\n",
      "\n",
      "Zultanite 1\n",
      "--------------------------------------------------\n",
      "succesfully collected links\n"
     ]
    },
    {
     "name": "stderr",
     "output_type": "stream",
     "text": [
      "c:\\Users\\david\\miniforge3\\envs\\gemstone\\lib\\site-packages\\gevent\\hub.py:161: UserWarning: libuv only supports millisecond timer resolution; all times less will be set to 1 ms\n",
      "  with loop.timer(seconds, ref=ref) as t:\n"
     ]
    }
   ],
   "source": [
    "def get_all_gem_pages(gem_links):    \n",
    "    print('getting all gem pages')\n",
    "    gem_page_links = {}\n",
    "    for gem in gem_links:\n",
    "        print('\\n', gem)\n",
    "        try:\n",
    "            request = grequests.get(gem_links[gem]+'/page/1000', session=session)\n",
    "            response = grequests.map([request])[0]\n",
    "            soup = bs(response.content, 'html.parser')\n",
    "            number_of_pages = int(soup.find('li', {'class': 'current'}).text)\n",
    "        except:\n",
    "            number_of_pages = 1\n",
    "        print('')\n",
    "        print(gem, number_of_pages)\n",
    "        gem_page_links[gem] = []\n",
    "        for page_no in range(1, number_of_pages+1):\n",
    "            gem_page_links[gem].append(gem_links[gem]+'/page/'+str(page_no))\n",
    "            #print(page_no, ', ', end='')\n",
    "    print('-'*50)\n",
    "    print('succesfully collected links')\n",
    "    return gem_page_links\n",
    "all_pages = get_all_gem_pages(gem_links)"
   ]
  },
  {
   "attachments": {},
   "cell_type": "markdown",
   "metadata": {},
   "source": [
    "For later use we will save the dictionary with all the gemstone page links as a JSON file."
   ]
  },
  {
   "cell_type": "code",
   "execution_count": 36,
   "metadata": {},
   "outputs": [],
   "source": [
    "def save_gem_page_links(gem_page_links):\n",
    "    with open(\"../dat/page_links/gem_page_links.json\", \"w\") as outfile:\n",
    "        json.dump(gem_page_links, outfile)\n",
    "save_gem_page_links(all_pages)"
   ]
  },
  {
   "attachments": {},
   "cell_type": "markdown",
   "metadata": {},
   "source": [
    "#### Reloading gemstone page links"
   ]
  },
  {
   "cell_type": "code",
   "execution_count": 3,
   "metadata": {},
   "outputs": [],
   "source": [
    "def load_gem_page_links():\n",
    "    with open(\"../dat/page_links/gem_page_links.json\", \"r\") as outfile:\n",
    "        gem_page_links = json.load(outfile)\n",
    "    return gem_page_links\n",
    "all_pages = load_gem_page_links()"
   ]
  },
  {
   "attachments": {},
   "cell_type": "markdown",
   "metadata": {},
   "source": [
    "#"
   ]
  },
  {
   "attachments": {},
   "cell_type": "markdown",
   "metadata": {},
   "source": [
    "After obtaining all the links to the gemstone pages, we will extract the links to each product.\n",
    "\n",
    "Because of the access and speed limits, we will use multiple threads to collect the links.\n",
    "\n",
    "The webpage has a rate limit so after each collected links, we will do a random sleep between 0.1 and 5 seconds.\n",
    "If we don't do this, the website will block our reqests.\n",
    "\n",
    "The collected product links will be saves in the directory `dat/product_links`"
   ]
  },
  {
   "cell_type": "code",
   "execution_count": 4,
   "metadata": {},
   "outputs": [
    {
     "name": "stdout",
     "output_type": "stream",
     "text": [
      "starting to collect all product links\n",
      "skipping Almandine Garnet (Pyrope)\n",
      "skipping Alexandrite\n",
      "skipping Alexandrite Cats Eye\n",
      "skipping Amber\n",
      "skipping Amethyst\n",
      "skipping Ammolite\n",
      "skipping Amethyst Cabochon\n",
      "skipping Ametrine\n",
      "skipping Andalusite\n",
      "skipping Angel Skin Coral\n",
      "skipping Apatite Cat's Eye\n",
      "skipping Andesine\n",
      "skipping Andesine Labradorite\n",
      "skipping Apatite\n",
      "skipping Aventurine\n",
      "skipping Aquamarine\n",
      "skipping Azurite\n",
      "skipping Basra Pearls\n",
      "skipping Bicolor Sapphire\n",
      "skipping Bixbite\n",
      "skipping Australian Opal\n",
      "skipping Black Onyx\n",
      "skipping Black Pearls\n",
      "skipping Black Spinel\n",
      "skipping Black Opal\n",
      "skipping Beryl\n",
      "skipping Blizzard Stone\n",
      "skipping Black Tourmaline\n",
      "skipping Bloodstone\n",
      "skipping Blue Moonstone\n",
      "skipping Blue Spinel\n",
      "skipping Blue Topaz\n",
      "skipping Blue Zircon\n",
      "skipping Blue Opal\n",
      "skipping Blue Sapphire (Neelam)\n",
      "skipping Blue Fluorite\n",
      "skipping Brown Moonstone\n",
      "skipping Brown Zircon\n",
      "skipping Brazilian Emerald\n",
      "skipping Burmese Ruby\n",
      "skipping Boulder Opal\n",
      "skipping Burmese Sapphire\n",
      "skipping Cats Eye Moonstone\n",
      "skipping Carnelian\n",
      "skipping Cats Eye Quartz\n",
      "skipping Cats Eye\n",
      "skipping Cats Eye Opal\n",
      "skipping Chrysoberyl\n",
      "skipping Chrome Tourmaline\n",
      "skipping Ceylon Blue Sapphire\n",
      "skipping Chrome Diopside\n",
      "skipping Color Change Sapphire\n",
      "skipping Chrysoberyl Cat’s Eye (Lehsunia)\n",
      "skipping Citrine (Sunela)\n",
      "skipping Colombian Emerald\n",
      "skipping Color Change Garnet\n",
      "skipping Color Change Fluorite\n",
      "skipping Chrysocolla\n",
      "skipping Ethiopian Emerald\n",
      "skipping Cultured Pearls\n",
      "skipping Clinohumite\n",
      "skipping Demantoid Garnet\n",
      "skipping Fire Agate\n",
      "skipping Diopside\n",
      "skipping Emerald (Panna)\n",
      "skipping Fire Opal\n",
      "skipping Cornflower Blue Sapphire\n",
      "skipping Fluorite\n",
      "skipping Cubic Zirconia\n",
      "skipping Ethiopian Opal\n",
      "skipping Freshwater Pearls\n",
      "skipping Garnet\n",
      "skipping Danburite\n",
      "skipping Goshenite\n",
      "skipping Golden Sapphire\n",
      "skipping Green Sapphire\n",
      "skipping Green Amethyst (Prasiolite)\n",
      "skipping Glass Filled Ruby\n",
      "skipping Golden Topaz\n",
      "skipping Green Tanzanite\n",
      "skipping Grandidierite\n",
      "skipping Green Apatite\n",
      "skipping Green Garnet\n",
      "skipping Green Tourmaline (Verdelite)\n",
      "skipping Howlite\n",
      "skipping Imperial Topaz\n",
      "skipping Hessonite (Gomed)\n",
      "skipping Heliodor\n",
      "skipping Insignificant Oil Emerald\n",
      "skipping Iolite (Neeli)\n",
      "skipping Green Kyanite\n",
      "skipping Indraneelam\n",
      "skipping Iranian Turquoise (Irani Feroza)\n",
      "skipping Indian Emerald\n",
      "skipping Indian Ruby\n",
      "skipping Jade\n",
      "skipping Jade Nephrite\n",
      "skipping Keshi Pearls\n",
      "skipping Khooni Neelam\n",
      "skipping Jasper\n",
      "skipping Kunzite\n",
      "skipping Kashmir Blue Sapphire\n",
      "skipping Grey Sapphire\n",
      "skipping Labradorite\n",
      "skipping Jadeite\n",
      "skipping Lapis Lazuli\n",
      "skipping Japanese Red Coral\n",
      "skipping Kyanite\n",
      "skipping Lavender Quartz\n",
      "skipping Mandarin Garnet\n",
      "skipping Lemon Quartz\n",
      "skipping Moonstone\n",
      "skipping Malachite\n",
      "skipping Navratna\n",
      "skipping Mocha Scapolite\n",
      "skipping Moldavite\n",
      "skipping No Oil Emerald\n",
      "skipping Obsidian\n",
      "skipping Morganite\n",
      "skipping Monazite\n",
      "skipping Onyx (Chalcedony)\n",
      "skipping Orange Kyanite\n",
      "skipping Natural Pearls\n",
      "skipping Mozambique Ruby\n",
      "skipping Mogok Ruby\n",
      "skipping Opal Doublet\n",
      "skipping Moss Agate\n",
      "skipping Orange Sapphire\n",
      "skipping Orthoclase\n",
      "skipping Padparadscha Sapphire\n",
      "skipping Mexican Fire Opal\n",
      "skipping Neon Apatite\n",
      "skipping Peacock Tanzanite\n",
      "skipping Opal\n",
      "skipping London Blue Topaz\n",
      "skipping Peridot\n",
      "skipping Persian Turquoise\n",
      "skipping Petalite\n",
      "skipping Peach Sapphire\n",
      "skipping Pearl (Moti)\n",
      "skipping Pink Coral\n",
      "skipping Petrified Wood\n",
      "skipping Panjshir Emerald\n",
      "skipping Pink Spinel\n",
      "skipping Paraiba Tourmaline\n",
      "skipping Pink Topaz\n",
      "skipping Pink Tourmaline\n",
      "skipping Pink Morganite\n",
      "skipping Pink Opal\n",
      "skipping Pigeon Blood Ruby\n",
      "skipping Purple Sapphire\n",
      "skipping Prehnite\n",
      "skipping Rainbow Fluorite\n",
      "skipping Rainbow Moonstone\n",
      "skipping Red Spinel\n",
      "skipping Pink Fluorite\n",
      "skipping Pitambari Neelam\n",
      "skipping Rhodonite\n",
      "skipping Red Tourmaline\n",
      "skipping Purple Garnet\n",
      "skipping Peach Morganite\n",
      "skipping Ruby (Manik)\n",
      "skipping Ruby Cabochon\n",
      "skipping Royal Blue Sapphire\n",
      "skipping Russian Alexandrite\n",
      "skipping Russian Emerald\n",
      "skipping Pink Sapphire\n",
      "skipping Rubellite\n",
      "skipping Red Zircon\n",
      "skipping Sillimanite Cats Eye\n",
      "skipping Rose Quartz\n",
      "skipping Rhodochrosite\n",
      "skipping Sky Blue Topaz\n",
      "skipping Smoky Quartz\n",
      "skipping Sang-E-Maryam\n",
      "skipping Sphalerite\n",
      "skipping Spectrolite\n",
      "skipping Sri Lanka Moonstone\n",
      "skipping Rutilated Quartz\n",
      "skipping South Sea Pearls\n",
      "skipping Star Garnet\n",
      "skipping Sapphire\n",
      "skipping Sunstone\n",
      "skipping Spessartite\n",
      "skipping Serpentine\n",
      "skipping Star Sapphire\n",
      "skipping Star Ruby\n",
      "skipping Red Coral (Moonga)\n",
      "skipping Sodalite\n",
      "skipping Tibetian Turquoise\n",
      "skipping Swiss Blue Topaz\n",
      "skipping Teal Sapphire\n",
      "skipping Tahitian Pearls\n",
      "skipping Tanzanite\n",
      "skipping Spinel\n",
      "skipping Schorl Tourmaline\n",
      "skipping Taaffeite\n",
      "skipping Tourmaline\n",
      "skipping Trapiche Emerald\n",
      "skipping Topaz\n",
      "skipping Tsavorite\n",
      "skipping Turquoise\n",
      "skipping White Coral\n",
      "skipping Titanite (Sphene)\n",
      "skipping Tanzania Ruby\n",
      "skipping Vivid Green Emerald\n",
      "skipping Watermelon Tourmaline\n",
      "skipping Tiger Eye\n",
      "skipping White Opal\n",
      "skipping White Sapphire\n",
      "skipping Yellow Beryl\n",
      "skipping Yellow Fluorite\n",
      "skipping Yellow Sapphire - Pukhraj\n",
      "skipping Yellow Topaz\n",
      "skipping Yellow Zircon\n",
      "skipping Zambian Emerald\n",
      "skipping White Topaz\n",
      "skipping Zircon\n",
      "skipping Zultanite\n",
      "skipping White Zircon\n"
     ]
    },
    {
     "name": "stderr",
     "output_type": "stream",
     "text": [
      "100%|██████████| 222/222 [00:59<00:00,  3.75it/s]"
     ]
    },
    {
     "name": "stdout",
     "output_type": "stream",
     "text": [
      "succesfully collected all product links\n",
      "succesfully collected all product links\n"
     ]
    },
    {
     "name": "stderr",
     "output_type": "stream",
     "text": [
      "\n",
      "c:\\Users\\david\\miniforge3\\envs\\cuda\\lib\\site-packages\\gevent\\hub.py:161: UserWarning: libuv only supports millisecond timer resolution; all times less will be set to 1 ms\n",
      "  with loop.timer(seconds, ref=ref) as t:\n"
     ]
    }
   ],
   "source": [
    "import requests\n",
    "def get_individual_gem_links(data):\n",
    "    gem = data[0]\n",
    "    links = data[1]\n",
    "\n",
    "    if os.path.exists('../dat/product_links/' + gem + '.csv'):\n",
    "        print('skipping', gem)\n",
    "        return\n",
    "    gem_product_links = []\n",
    "    # check if csv file exists\n",
    "    for page in links:\n",
    "        html = requests.get(page, headers=HEADERS).text\n",
    "        soup = bs(html, 'html.parser')\n",
    "        gem_product_pages = soup.find_all('a', {'class': 'product-image dataimage'})\n",
    "        gem_product_links.extend([page.get('href') for page in gem_product_pages])\n",
    "        # sleep for a random time to avoid being blocked\n",
    "        sleep(random()*2)\n",
    "        if random() < 0.1:\n",
    "            sleep(randint(1, 5))\n",
    "    pd.DataFrame(gem_product_links, columns=[gem]).to_csv(os.path.join('../dat/product_links/', gem.replace('/', '_') + '.csv'), index=False)\n",
    "    sleep(10)\n",
    "    return 1\n",
    "def get_gem_product_links(gem_page_links):\n",
    "    futures = [executor.submit(get_individual_gem_links, [gem, gem_page_links[gem]]) for gem in gem_page_links]\n",
    "    with tqdm(total=len(futures)) as pbar:\n",
    "        for future in cf.as_completed(futures):\n",
    "            result = future.result()\n",
    "            pbar.update()\n",
    "    print('succesfully collected all product links')\n",
    "    \n",
    "print('starting to collect all product links')\n",
    "get_gem_product_links(all_pages)\n",
    "print('succesfully collected all product links')"
   ]
  },
  {
   "attachments": {},
   "cell_type": "markdown",
   "metadata": {},
   "source": [
    "For each product page, we will scrape the image links contained within the page.\n",
    "This is again done using multiple threads to speed up the process.\n",
    "\n",
    "The collected image links will be saved as a CSV file in the `dat/image_links/` directory.\n"
   ]
  },
  {
   "cell_type": "code",
   "execution_count": 3,
   "metadata": {},
   "outputs": [],
   "source": [
    "def get_img_links(data):\n",
    "    gem, links = data\n",
    "\n",
    "    def extract_img_links(response):\n",
    "        if response.status_code == 200:\n",
    "            soup = bs(response.content, 'lxml')  # Use 'lxml' for faster parsing\n",
    "            img_links = [img['src'].split('?')[0] for div in soup.find_all(\"div\", class_=\"item product_thumb_forHeight\")\n",
    "                         for img in div.find_all('img')\n",
    "                         if 'certi' not in img['src'] and 'hand' not in img['src']]\n",
    "            return img_links\n",
    "        else:\n",
    "            return [] \n",
    "        \n",
    "    responses = []\n",
    "    futures = [executor.submit(session.get, link, headers=HEADERS) for link in links]\n",
    "    with tqdm(total=len(links)) as pbar:\n",
    "        for future in cf.as_completed(futures):\n",
    "            response = future.result()\n",
    "            responses.append(response)\n",
    "            pbar.update()\n",
    "\n",
    "    gem_img_links = []\n",
    "\n",
    "    future_to_response = [executor.submit(extract_img_links, response) for response in responses]\n",
    "\n",
    "    with tqdm(total=len(links)) as pbar:\n",
    "        for future in cf.as_completed(future_to_response):\n",
    "            gem_img_links.extend(future.result())\n",
    "            pbar.update()\n",
    "\n",
    "    # Save results\n",
    "    pd.DataFrame(gem_img_links, columns=[gem]).to_csv(f'../dat/image_links/{gem}.csv')\n",
    "\n",
    "def read_gem_product_links():\n",
    "    gem_product_links = {}\n",
    "    for file in os.listdir('../dat/product_links'):\n",
    "        data = pd.read_csv(f'../dat/product_links/{file}', index_col=0)\n",
    "        gem = data.columns[0]\n",
    "        gem_product_links[gem] = data[gem].tolist()\n",
    "    return gem_product_links\n",
    "\n",
    "def get_all_gem_image_links():\n",
    "    for file in os.listdir('../dat/product_links/'):\n",
    "        if os.path.exists(f'../dat/image_links/{file}'):\n",
    "            print('skipping', file.split('.')[0])  # Corrected to display the gem name being skipped\n",
    "            continue\n",
    "        data = pd.read_csv(f'../dat/product_links/{file}', index_col=0)\n",
    "        if data.empty:\n",
    "            print('empty, skipping', file.split('.')[0])  # Corrected to display the gem name being skipped\n",
    "            continue\n",
    "        gem = data.columns[0]\n",
    "        links = data[gem].tolist()\n",
    "\n",
    "        print('getting image links for', gem)\n",
    "        get_img_links([gem, links])\n",
    "        print('done')\n"
   ]
  },
  {
   "cell_type": "code",
   "execution_count": 4,
   "metadata": {},
   "outputs": [
    {
     "name": "stdout",
     "output_type": "stream",
     "text": [
      "skipping Alexandrite Cats Eye\n",
      "skipping Alexandrite\n",
      "skipping Almandine Garnet (Pyrope)\n",
      "skipping Amber\n",
      "empty, skipping Amethyst Cabochon\n",
      "skipping Amethyst\n",
      "skipping Ametrine\n",
      "skipping Ammolite\n",
      "empty, skipping Andalusite\n",
      "empty, skipping Andesine Labradorite\n",
      "empty, skipping Andesine\n",
      "skipping Angel Skin Coral\n",
      "skipping Apatite Cat's Eye\n",
      "skipping Apatite\n",
      "skipping Aquamarine\n",
      "skipping Australian Opal\n",
      "skipping Aventurine\n",
      "empty, skipping Azurite\n",
      "skipping Basra Pearls\n",
      "skipping Beryl\n",
      "empty, skipping Bicolor Sapphire\n",
      "empty, skipping Bixbite\n",
      "skipping Black Onyx\n",
      "skipping Black Opal\n",
      "skipping Black Pearls\n",
      "skipping Black Spinel\n",
      "skipping Black Tourmaline\n",
      "empty, skipping Blizzard Stone\n",
      "skipping Bloodstone\n",
      "empty, skipping Blue Fluorite\n",
      "skipping Blue Moonstone\n",
      "skipping Blue Opal\n",
      "skipping Blue Sapphire (Neelam)\n",
      "skipping Blue Spinel\n",
      "skipping Blue Topaz\n",
      "empty, skipping Blue Tourmaline_Indicolite Tourmaline\n",
      "skipping Blue Zircon\n",
      "empty, skipping Boulder Opal\n",
      "skipping Brazilian Emerald\n",
      "skipping Brown Moonstone\n",
      "skipping Brown Zircon\n",
      "skipping Burmese Ruby\n",
      "skipping Burmese Sapphire\n",
      "empty, skipping Carnelian\n",
      "skipping Cats Eye Moonstone\n",
      "skipping Cats Eye Opal\n",
      "skipping Cats Eye Quartz\n",
      "skipping Cats Eye\n",
      "skipping Ceylon Blue Sapphire\n",
      "skipping Chrome Diopside\n",
      "skipping Chrome Tourmaline\n",
      "skipping Chrysoberyl Cat’s Eye (Lehsunia)\n",
      "skipping Chrysoberyl\n",
      "skipping Chrysocolla\n",
      "skipping Citrine (Sunela)\n",
      "skipping Clinohumite\n",
      "skipping Colombian Emerald\n",
      "empty, skipping Color Change Fluorite\n",
      "empty, skipping Color Change Garnet\n",
      "skipping Color Change Sapphire\n",
      "skipping Cornflower Blue Sapphire\n",
      "empty, skipping Cubic Zirconia\n",
      "skipping Cultured Pearls\n",
      "skipping Danburite\n",
      "empty, skipping Demantoid Garnet\n",
      "empty, skipping Diopside\n",
      "skipping Emerald (Panna)\n",
      "skipping Ethiopian Emerald\n",
      "skipping Ethiopian Opal\n",
      "empty, skipping Fire Agate\n",
      "skipping Fire Opal\n",
      "skipping Fluorite\n",
      "empty, skipping Freshwater Pearls\n",
      "skipping Garnet\n",
      "skipping Glass Filled Ruby\n",
      "empty, skipping Golden Sapphire\n",
      "skipping Golden Topaz\n",
      "skipping Goshenite\n",
      "skipping Grandidierite\n",
      "skipping Green Amethyst (Prasiolite)\n",
      "skipping Green Apatite\n",
      "empty, skipping Green Garnet\n",
      "skipping Green Kyanite\n",
      "skipping Green Sapphire\n",
      "skipping Green Tanzanite\n",
      "skipping Green Tourmaline (Verdelite)\n",
      "skipping Grey Sapphire\n",
      "skipping Heliodor\n",
      "skipping Hessonite (Gomed)\n",
      "skipping Howlite\n",
      "skipping Imperial Topaz\n",
      "empty, skipping Indian Emerald\n",
      "skipping Indian Ruby\n",
      "empty, skipping Indraneelam\n",
      "skipping Insignificant Oil Emerald\n",
      "skipping Iolite (Neeli)\n",
      "skipping Iranian Turquoise (Irani Feroza)\n",
      "skipping Jade Nephrite\n",
      "skipping Jade\n",
      "skipping Jadeite\n",
      "skipping Japanese Red Coral\n",
      "skipping Jasper\n",
      "skipping Kashmir Blue Sapphire\n",
      "skipping Keshi Pearls\n",
      "skipping Khooni Neelam\n",
      "skipping Kunzite\n",
      "skipping Kyanite\n",
      "skipping Labradorite\n",
      "skipping Lapis Lazuli\n",
      "skipping Lavender Quartz\n",
      "skipping Lemon Quartz\n",
      "skipping London Blue Topaz\n",
      "skipping Malachite\n",
      "skipping Mandarin Garnet\n",
      "skipping Mexican Fire Opal\n",
      "skipping Mocha Scapolite\n",
      "empty, skipping Mogok Ruby\n",
      "skipping Moldavite\n",
      "empty, skipping Monazite\n",
      "skipping Moonstone\n",
      "getting image links for Morganite\n"
     ]
    },
    {
     "name": "stderr",
     "output_type": "stream",
     "text": [
      "100%|██████████| 247/247 [14:38<00:00,  3.56s/it]\n",
      "100%|██████████| 247/247 [06:23<00:00,  1.55s/it]\n"
     ]
    },
    {
     "name": "stdout",
     "output_type": "stream",
     "text": [
      "done\n",
      "getting image links for Moss Agate\n"
     ]
    },
    {
     "name": "stderr",
     "output_type": "stream",
     "text": [
      "100%|██████████| 27/27 [00:25<00:00,  1.04it/s]\n",
      "100%|██████████| 27/27 [00:16<00:00,  1.63it/s]\n"
     ]
    },
    {
     "name": "stdout",
     "output_type": "stream",
     "text": [
      "done\n",
      "getting image links for Mozambique Ruby\n"
     ]
    },
    {
     "name": "stderr",
     "output_type": "stream",
     "text": [
      "100%|██████████| 822/822 [41:08<00:00,  3.00s/it]  \n",
      "100%|██████████| 822/822 [11:35<00:00,  1.18it/s]\n"
     ]
    },
    {
     "name": "stdout",
     "output_type": "stream",
     "text": [
      "done\n",
      "getting image links for Natural Pearls\n"
     ]
    },
    {
     "name": "stderr",
     "output_type": "stream",
     "text": [
      "100%|██████████| 144/144 [01:30<00:00,  1.59it/s]\n",
      "100%|██████████| 144/144 [01:01<00:00,  2.33it/s]\n"
     ]
    },
    {
     "name": "stdout",
     "output_type": "stream",
     "text": [
      "done\n",
      "skipping Navratna\n",
      "getting image links for Neon Apatite\n"
     ]
    },
    {
     "name": "stderr",
     "output_type": "stream",
     "text": [
      "100%|██████████| 108/108 [05:33<00:00,  3.09s/it]\n",
      "100%|██████████| 108/108 [01:46<00:00,  1.01it/s]\n"
     ]
    },
    {
     "name": "stdout",
     "output_type": "stream",
     "text": [
      "done\n",
      "skipping No Oil Emerald\n",
      "getting image links for Obsidian\n"
     ]
    },
    {
     "name": "stderr",
     "output_type": "stream",
     "text": [
      "100%|██████████| 83/83 [04:29<00:00,  3.25s/it] \n",
      "100%|██████████| 83/83 [01:21<00:00,  1.02it/s]\n"
     ]
    },
    {
     "name": "stdout",
     "output_type": "stream",
     "text": [
      "done\n",
      "getting image links for Onyx (Chalcedony)\n"
     ]
    },
    {
     "name": "stderr",
     "output_type": "stream",
     "text": [
      "100%|██████████| 1825/1825 [42:39<00:00,  1.40s/it] \n",
      "100%|██████████| 1825/1825 [14:45<00:00,  2.06it/s] \n"
     ]
    },
    {
     "name": "stdout",
     "output_type": "stream",
     "text": [
      "done\n",
      "getting image links for Opal Doublet\n"
     ]
    },
    {
     "name": "stderr",
     "output_type": "stream",
     "text": [
      "100%|██████████| 182/182 [01:18<00:00,  2.33it/s]\n",
      "100%|██████████| 182/182 [01:06<00:00,  2.73it/s]\n"
     ]
    },
    {
     "name": "stdout",
     "output_type": "stream",
     "text": [
      "done\n",
      "skipping Opal\n",
      "getting image links for Orange Kyanite\n"
     ]
    },
    {
     "name": "stderr",
     "output_type": "stream",
     "text": [
      "100%|██████████| 8/8 [00:17<00:00,  2.15s/it]\n",
      "100%|██████████| 8/8 [00:06<00:00,  1.25it/s]\n"
     ]
    },
    {
     "name": "stdout",
     "output_type": "stream",
     "text": [
      "done\n",
      "getting image links for Orange Sapphire\n"
     ]
    },
    {
     "name": "stderr",
     "output_type": "stream",
     "text": [
      "100%|██████████| 15/15 [00:21<00:00,  1.41s/it]\n",
      "100%|██████████| 15/15 [00:11<00:00,  1.33it/s]\n"
     ]
    },
    {
     "name": "stdout",
     "output_type": "stream",
     "text": [
      "done\n",
      "getting image links for Orthoclase\n"
     ]
    },
    {
     "name": "stderr",
     "output_type": "stream",
     "text": [
      "100%|██████████| 1/1 [00:09<00:00,  9.07s/it]\n",
      "100%|██████████| 1/1 [00:00<00:00,  1.96it/s]\n"
     ]
    },
    {
     "name": "stdout",
     "output_type": "stream",
     "text": [
      "done\n",
      "skipping Padparadscha Sapphire\n",
      "empty, skipping Pakistan Emerald_Swat Emerald\n",
      "skipping Panjshir Emerald\n",
      "skipping Paraiba Tourmaline\n",
      "getting image links for Peach Morganite\n"
     ]
    },
    {
     "name": "stderr",
     "output_type": "stream",
     "text": [
      "100%|██████████| 54/54 [00:49<00:00,  1.10it/s]\n",
      "100%|██████████| 54/54 [00:34<00:00,  1.58it/s]\n"
     ]
    },
    {
     "name": "stdout",
     "output_type": "stream",
     "text": [
      "done\n",
      "empty, skipping Peach Sapphire\n",
      "empty, skipping Peacock Tanzanite\n",
      "skipping Pearl (Moti)\n",
      "skipping Peridot\n",
      "empty, skipping Persian Turquoise\n",
      "empty, skipping Petalite\n",
      "getting image links for Petrified Wood\n"
     ]
    },
    {
     "name": "stderr",
     "output_type": "stream",
     "text": [
      "100%|██████████| 1/1 [00:06<00:00,  6.81s/it]\n",
      "100%|██████████| 1/1 [00:01<00:00,  1.26s/it]\n"
     ]
    },
    {
     "name": "stdout",
     "output_type": "stream",
     "text": [
      "done\n",
      "skipping Pigeon Blood Ruby\n",
      "getting image links for Pink Coral\n"
     ]
    },
    {
     "name": "stderr",
     "output_type": "stream",
     "text": [
      "100%|██████████| 59/59 [00:30<00:00,  1.93it/s]\n",
      "100%|██████████| 59/59 [00:25<00:00,  2.29it/s]\n"
     ]
    },
    {
     "name": "stdout",
     "output_type": "stream",
     "text": [
      "done\n",
      "empty, skipping Pink Fluorite\n",
      "getting image links for Pink Morganite\n"
     ]
    },
    {
     "name": "stderr",
     "output_type": "stream",
     "text": [
      "100%|██████████| 166/166 [05:20<00:00,  1.93s/it]\n",
      "100%|██████████| 166/166 [04:16<00:00,  1.54s/it]\n"
     ]
    },
    {
     "name": "stdout",
     "output_type": "stream",
     "text": [
      "done\n",
      "getting image links for Pink Opal\n"
     ]
    },
    {
     "name": "stderr",
     "output_type": "stream",
     "text": [
      "100%|██████████| 225/225 [01:34<00:00,  2.37it/s]\n",
      "100%|██████████| 225/225 [01:54<00:00,  1.96it/s]\n"
     ]
    },
    {
     "name": "stdout",
     "output_type": "stream",
     "text": [
      "done\n",
      "skipping Pink Sapphire\n",
      "getting image links for Pink Spinel\n"
     ]
    },
    {
     "name": "stderr",
     "output_type": "stream",
     "text": [
      "100%|██████████| 128/128 [02:50<00:00,  1.33s/it]\n",
      "100%|██████████| 128/128 [02:21<00:00,  1.10s/it]\n"
     ]
    },
    {
     "name": "stdout",
     "output_type": "stream",
     "text": [
      "done\n",
      "getting image links for Pink Topaz\n"
     ]
    },
    {
     "name": "stderr",
     "output_type": "stream",
     "text": [
      "100%|██████████| 50/50 [01:12<00:00,  1.46s/it]\n",
      "100%|██████████| 50/50 [00:56<00:00,  1.14s/it]\n"
     ]
    },
    {
     "name": "stdout",
     "output_type": "stream",
     "text": [
      "done\n",
      "getting image links for Pink Tourmaline\n"
     ]
    },
    {
     "name": "stderr",
     "output_type": "stream",
     "text": [
      "100%|██████████| 288/288 [06:29<00:00,  1.35s/it]\n",
      "100%|██████████| 288/288 [06:10<00:00,  1.29s/it]\n"
     ]
    },
    {
     "name": "stdout",
     "output_type": "stream",
     "text": [
      "done\n",
      "skipping Pitambari Neelam\n",
      "empty, skipping Prehnite\n",
      "getting image links for Purple Garnet\n"
     ]
    },
    {
     "name": "stderr",
     "output_type": "stream",
     "text": [
      "100%|██████████| 74/74 [01:42<00:00,  1.39s/it]\n",
      "100%|██████████| 74/74 [01:24<00:00,  1.14s/it]\n"
     ]
    },
    {
     "name": "stdout",
     "output_type": "stream",
     "text": [
      "done\n",
      "getting image links for Purple Sapphire\n"
     ]
    },
    {
     "name": "stderr",
     "output_type": "stream",
     "text": [
      "100%|██████████| 103/103 [02:16<00:00,  1.33s/it]\n",
      "100%|██████████| 103/103 [01:57<00:00,  1.14s/it]\n"
     ]
    },
    {
     "name": "stdout",
     "output_type": "stream",
     "text": [
      "done\n",
      "empty, skipping Rainbow Fluorite\n",
      "getting image links for Rainbow Moonstone\n"
     ]
    },
    {
     "name": "stderr",
     "output_type": "stream",
     "text": [
      "100%|██████████| 73/73 [01:02<00:00,  1.17it/s]\n",
      "100%|██████████| 73/73 [00:52<00:00,  1.40it/s]\n"
     ]
    },
    {
     "name": "stdout",
     "output_type": "stream",
     "text": [
      "done\n",
      "skipping Red Coral (Moonga)\n",
      "getting image links for Red Spinel\n"
     ]
    },
    {
     "name": "stderr",
     "output_type": "stream",
     "text": [
      "100%|██████████| 42/42 [01:02<00:00,  1.49s/it]\n",
      "100%|██████████| 42/42 [00:39<00:00,  1.06it/s]\n"
     ]
    },
    {
     "name": "stdout",
     "output_type": "stream",
     "text": [
      "done\n",
      "getting image links for Red Tourmaline\n"
     ]
    },
    {
     "name": "stderr",
     "output_type": "stream",
     "text": [
      "100%|██████████| 16/16 [00:28<00:00,  1.77s/it]\n",
      "100%|██████████| 16/16 [00:16<00:00,  1.02s/it]\n"
     ]
    },
    {
     "name": "stdout",
     "output_type": "stream",
     "text": [
      "done\n",
      "getting image links for Red Zircon\n"
     ]
    },
    {
     "name": "stderr",
     "output_type": "stream",
     "text": [
      "100%|██████████| 7/7 [00:14<00:00,  2.04s/it]\n",
      "100%|██████████| 7/7 [00:07<00:00,  1.02s/it]\n"
     ]
    },
    {
     "name": "stdout",
     "output_type": "stream",
     "text": [
      "done\n",
      "empty, skipping Rhodochrosite\n",
      "empty, skipping Rhodonite\n",
      "getting image links for Rose Quartz\n"
     ]
    },
    {
     "name": "stderr",
     "output_type": "stream",
     "text": [
      "100%|██████████| 153/153 [01:20<00:00,  1.89it/s]\n",
      "100%|██████████| 153/153 [01:27<00:00,  1.75it/s]\n"
     ]
    },
    {
     "name": "stdout",
     "output_type": "stream",
     "text": [
      "done\n",
      "skipping Royal Blue Sapphire\n",
      "getting image links for Rubellite\n"
     ]
    },
    {
     "name": "stderr",
     "output_type": "stream",
     "text": [
      "100%|██████████| 227/227 [06:52<00:00,  1.82s/it]\n",
      "100%|██████████| 227/227 [04:37<00:00,  1.22s/it]\n"
     ]
    },
    {
     "name": "stdout",
     "output_type": "stream",
     "text": [
      "done\n",
      "skipping Ruby (Manik)\n",
      "getting image links for Ruby Cabochon\n"
     ]
    },
    {
     "name": "stderr",
     "output_type": "stream",
     "text": [
      "100%|██████████| 174/174 [03:06<00:00,  1.07s/it]\n",
      "100%|██████████| 174/174 [01:33<00:00,  1.86it/s]\n"
     ]
    },
    {
     "name": "stdout",
     "output_type": "stream",
     "text": [
      "done\n",
      "getting image links for Russian Alexandrite\n"
     ]
    },
    {
     "name": "stderr",
     "output_type": "stream",
     "text": [
      "100%|██████████| 3/3 [00:17<00:00,  5.77s/it]\n",
      "100%|██████████| 3/3 [00:02<00:00,  1.23it/s]\n"
     ]
    },
    {
     "name": "stdout",
     "output_type": "stream",
     "text": [
      "done\n",
      "getting image links for Russian Emerald\n"
     ]
    },
    {
     "name": "stderr",
     "output_type": "stream",
     "text": [
      "100%|██████████| 33/33 [00:48<00:00,  1.48s/it]\n",
      "100%|██████████| 33/33 [00:29<00:00,  1.11it/s]\n"
     ]
    },
    {
     "name": "stdout",
     "output_type": "stream",
     "text": [
      "done\n",
      "empty, skipping Rutilated Quartz\n",
      "empty, skipping Sang-E-Maryam\n",
      "empty, skipping Sapphire\n",
      "empty, skipping Schorl Tourmaline\n",
      "empty, skipping Serpentine\n",
      "empty, skipping Sillimanite Cats Eye\n",
      "getting image links for Sky Blue Topaz\n"
     ]
    },
    {
     "name": "stderr",
     "output_type": "stream",
     "text": [
      "100%|██████████| 246/246 [07:28<00:00,  1.82s/it]\n",
      "100%|██████████| 246/246 [03:48<00:00,  1.08it/s]\n"
     ]
    },
    {
     "name": "stdout",
     "output_type": "stream",
     "text": [
      "done\n",
      "getting image links for Smoky Quartz\n"
     ]
    },
    {
     "name": "stderr",
     "output_type": "stream",
     "text": [
      "100%|██████████| 136/136 [02:27<00:00,  1.08s/it]\n",
      "100%|██████████| 136/136 [01:12<00:00,  1.86it/s]\n"
     ]
    },
    {
     "name": "stdout",
     "output_type": "stream",
     "text": [
      "done\n",
      "empty, skipping Sodalite\n",
      "getting image links for South Sea Pearls\n"
     ]
    },
    {
     "name": "stderr",
     "output_type": "stream",
     "text": [
      "100%|██████████| 755/755 [13:53<00:00,  1.10s/it]\n",
      "100%|██████████| 755/755 [06:12<00:00,  2.03it/s]\n"
     ]
    },
    {
     "name": "stdout",
     "output_type": "stream",
     "text": [
      "done\n",
      "getting image links for Spectrolite\n"
     ]
    },
    {
     "name": "stderr",
     "output_type": "stream",
     "text": [
      "100%|██████████| 23/23 [01:10<00:00,  3.08s/it]\n",
      "100%|██████████| 23/23 [00:11<00:00,  1.97it/s]\n"
     ]
    },
    {
     "name": "stdout",
     "output_type": "stream",
     "text": [
      "done\n",
      "getting image links for Spessartite\n"
     ]
    },
    {
     "name": "stderr",
     "output_type": "stream",
     "text": [
      "100%|██████████| 65/65 [04:05<00:00,  3.78s/it]\n",
      "100%|██████████| 65/65 [01:24<00:00,  1.31s/it]\n"
     ]
    },
    {
     "name": "stdout",
     "output_type": "stream",
     "text": [
      "done\n",
      "getting image links for Sphalerite\n"
     ]
    },
    {
     "name": "stderr",
     "output_type": "stream",
     "text": [
      "100%|██████████| 4/4 [00:14<00:00,  3.62s/it]\n",
      "100%|██████████| 4/4 [00:03<00:00,  1.02it/s]\n"
     ]
    },
    {
     "name": "stdout",
     "output_type": "stream",
     "text": [
      "done\n",
      "skipping Spinel\n",
      "getting image links for Sri Lanka Moonstone\n"
     ]
    },
    {
     "name": "stderr",
     "output_type": "stream",
     "text": [
      "100%|██████████| 2/2 [00:09<00:00,  4.56s/it]\n",
      "100%|██████████| 2/2 [00:01<00:00,  1.94it/s]\n"
     ]
    },
    {
     "name": "stdout",
     "output_type": "stream",
     "text": [
      "done\n",
      "getting image links for Star Garnet\n"
     ]
    },
    {
     "name": "stderr",
     "output_type": "stream",
     "text": [
      "100%|██████████| 105/105 [04:59<00:00,  2.85s/it]\n",
      "100%|██████████| 105/105 [01:27<00:00,  1.21it/s]\n"
     ]
    },
    {
     "name": "stdout",
     "output_type": "stream",
     "text": [
      "done\n",
      "skipping Star Ruby\n",
      "getting image links for Star Sapphire\n"
     ]
    },
    {
     "name": "stderr",
     "output_type": "stream",
     "text": [
      "100%|██████████| 114/114 [02:45<00:00,  1.45s/it]\n",
      "100%|██████████| 114/114 [01:09<00:00,  1.65it/s]\n"
     ]
    },
    {
     "name": "stdout",
     "output_type": "stream",
     "text": [
      "done\n",
      "getting image links for Sunstone\n"
     ]
    },
    {
     "name": "stderr",
     "output_type": "stream",
     "text": [
      "100%|██████████| 286/286 [07:47<00:00,  1.63s/it]\n",
      "100%|██████████| 286/286 [03:23<00:00,  1.41it/s]\n"
     ]
    },
    {
     "name": "stdout",
     "output_type": "stream",
     "text": [
      "done\n",
      "getting image links for Swiss Blue Topaz\n"
     ]
    },
    {
     "name": "stderr",
     "output_type": "stream",
     "text": [
      "100%|██████████| 241/241 [07:49<00:00,  1.95s/it]\n",
      "100%|██████████| 241/241 [04:20<00:00,  1.08s/it]\n"
     ]
    },
    {
     "name": "stdout",
     "output_type": "stream",
     "text": [
      "done\n",
      "getting image links for Taaffeite\n"
     ]
    },
    {
     "name": "stderr",
     "output_type": "stream",
     "text": [
      "100%|██████████| 4/4 [00:04<00:00,  1.05s/it]\n",
      "100%|██████████| 4/4 [00:00<00:00,  4.87it/s]\n"
     ]
    },
    {
     "name": "stdout",
     "output_type": "stream",
     "text": [
      "done\n",
      "getting image links for Tahitian Pearls\n"
     ]
    },
    {
     "name": "stderr",
     "output_type": "stream",
     "text": [
      "100%|██████████| 65/65 [00:30<00:00,  2.11it/s]\n",
      "100%|██████████| 65/65 [00:33<00:00,  1.95it/s]\n"
     ]
    },
    {
     "name": "stdout",
     "output_type": "stream",
     "text": [
      "done\n",
      "getting image links for Tanzania Ruby\n"
     ]
    },
    {
     "name": "stderr",
     "output_type": "stream",
     "text": [
      "100%|██████████| 12/12 [00:16<00:00,  1.35s/it]\n",
      "100%|██████████| 12/12 [00:08<00:00,  1.43it/s]\n"
     ]
    },
    {
     "name": "stdout",
     "output_type": "stream",
     "text": [
      "done\n",
      "skipping Tanzanite\n",
      "getting image links for Teal Sapphire\n"
     ]
    },
    {
     "name": "stderr",
     "output_type": "stream",
     "text": [
      "100%|██████████| 61/61 [01:17<00:00,  1.28s/it]\n",
      "100%|██████████| 61/61 [01:03<00:00,  1.04s/it]\n"
     ]
    },
    {
     "name": "stdout",
     "output_type": "stream",
     "text": [
      "done\n",
      "getting image links for Tibetian Turquoise\n"
     ]
    },
    {
     "name": "stderr",
     "output_type": "stream",
     "text": [
      "100%|██████████| 355/355 [04:18<00:00,  1.38it/s]\n",
      "100%|██████████| 355/355 [04:24<00:00,  1.34it/s]\n"
     ]
    },
    {
     "name": "stdout",
     "output_type": "stream",
     "text": [
      "done\n",
      "getting image links for Tiger Eye\n"
     ]
    },
    {
     "name": "stderr",
     "output_type": "stream",
     "text": [
      "100%|██████████| 24/24 [00:22<00:00,  1.07it/s]\n",
      "100%|██████████| 24/24 [00:14<00:00,  1.62it/s]\n"
     ]
    },
    {
     "name": "stdout",
     "output_type": "stream",
     "text": [
      "done\n",
      "empty, skipping Titanite (Sphene)\n",
      "getting image links for Topaz\n"
     ]
    },
    {
     "name": "stderr",
     "output_type": "stream",
     "text": [
      "100%|██████████| 26/26 [01:03<00:00,  2.44s/it]\n",
      "100%|██████████| 26/26 [00:36<00:00,  1.39s/it]\n"
     ]
    },
    {
     "name": "stdout",
     "output_type": "stream",
     "text": [
      "done\n",
      "skipping Tourmaline\n",
      "getting image links for Trapiche Emerald\n"
     ]
    },
    {
     "name": "stderr",
     "output_type": "stream",
     "text": [
      "100%|██████████| 1/1 [00:02<00:00,  2.27s/it]\n",
      "100%|██████████| 1/1 [00:00<00:00,  7.56it/s]\n"
     ]
    },
    {
     "name": "stdout",
     "output_type": "stream",
     "text": [
      "done\n",
      "getting image links for Tsavorite\n"
     ]
    },
    {
     "name": "stderr",
     "output_type": "stream",
     "text": [
      "100%|██████████| 24/24 [00:36<00:00,  1.51s/it]\n",
      "100%|██████████| 24/24 [00:25<00:00,  1.06s/it]\n"
     ]
    },
    {
     "name": "stdout",
     "output_type": "stream",
     "text": [
      "done\n",
      "skipping Turquoise\n",
      "getting image links for Vivid Green Emerald\n"
     ]
    },
    {
     "name": "stderr",
     "output_type": "stream",
     "text": [
      "100%|██████████| 12/12 [00:16<00:00,  1.36s/it]\n",
      "100%|██████████| 12/12 [00:06<00:00,  1.75it/s]\n"
     ]
    },
    {
     "name": "stdout",
     "output_type": "stream",
     "text": [
      "done\n",
      "getting image links for Watermelon Tourmaline\n"
     ]
    },
    {
     "name": "stderr",
     "output_type": "stream",
     "text": [
      "100%|██████████| 24/24 [00:34<00:00,  1.43s/it]\n",
      "100%|██████████| 24/24 [00:24<00:00,  1.03s/it]\n"
     ]
    },
    {
     "name": "stdout",
     "output_type": "stream",
     "text": [
      "done\n",
      "skipping White Coral\n",
      "getting image links for White Opal\n"
     ]
    },
    {
     "name": "stderr",
     "output_type": "stream",
     "text": [
      "100%|██████████| 30/30 [20:00<00:00, 40.03s/it]  \n",
      "100%|██████████| 30/30 [00:00<00:00, 364722.09it/s]\n"
     ]
    },
    {
     "name": "stdout",
     "output_type": "stream",
     "text": [
      "done\n",
      "skipping White Sapphire\n",
      "getting image links for White Topaz\n"
     ]
    },
    {
     "name": "stderr",
     "output_type": "stream",
     "text": [
      "100%|██████████| 24/24 [00:00<00:00, 25.78it/s]\n",
      "100%|██████████| 24/24 [00:00<00:00, 23513.97it/s]\n"
     ]
    },
    {
     "name": "stdout",
     "output_type": "stream",
     "text": [
      "done\n",
      "getting image links for White Zircon\n"
     ]
    },
    {
     "name": "stderr",
     "output_type": "stream",
     "text": [
      "100%|██████████| 26/26 [00:00<00:00, 30.42it/s]\n",
      "100%|██████████| 26/26 [00:00<00:00, 26151.54it/s]\n"
     ]
    },
    {
     "name": "stdout",
     "output_type": "stream",
     "text": [
      "done\n",
      "getting image links for Yellow Beryl\n"
     ]
    },
    {
     "name": "stderr",
     "output_type": "stream",
     "text": [
      "100%|██████████| 24/24 [00:00<00:00, 27.68it/s]\n",
      "100%|██████████| 24/24 [00:00<00:00, 23933.26it/s]\n"
     ]
    },
    {
     "name": "stdout",
     "output_type": "stream",
     "text": [
      "done\n",
      "empty, skipping Yellow Fluorite\n",
      "skipping Yellow Sapphire - Pukhraj\n",
      "skipping Yellow Topaz\n",
      "getting image links for Yellow Zircon\n"
     ]
    },
    {
     "name": "stderr",
     "output_type": "stream",
     "text": [
      "100%|██████████| 25/25 [00:00<00:00, 28.04it/s]\n",
      "100%|██████████| 25/25 [00:00<00:00, 7997.07it/s]\n"
     ]
    },
    {
     "name": "stdout",
     "output_type": "stream",
     "text": [
      "done\n",
      "getting image links for Zambian Emerald\n"
     ]
    },
    {
     "name": "stderr",
     "output_type": "stream",
     "text": [
      "100%|██████████| 30/30 [00:00<00:00, 33.42it/s]\n",
      "100%|██████████| 30/30 [00:00<00:00, 13736.80it/s]\n"
     ]
    },
    {
     "name": "stdout",
     "output_type": "stream",
     "text": [
      "done\n",
      "skipping Zircon\n",
      "getting image links for Zultanite\n"
     ]
    },
    {
     "name": "stderr",
     "output_type": "stream",
     "text": [
      "100%|██████████| 5/5 [00:00<00:00, 25.83it/s]\n",
      "100%|██████████| 5/5 [00:00<00:00, 4661.37it/s]"
     ]
    },
    {
     "name": "stdout",
     "output_type": "stream",
     "text": [
      "done\n"
     ]
    },
    {
     "name": "stderr",
     "output_type": "stream",
     "text": [
      "\n"
     ]
    }
   ],
   "source": [
    "get_all_gem_image_links()"
   ]
  },
  {
   "attachments": {},
   "cell_type": "markdown",
   "metadata": {},
   "source": [
    "### Downloading images"
   ]
  },
  {
   "attachments": {},
   "cell_type": "markdown",
   "metadata": {},
   "source": [
    "Now wo download all the collected images to the `dat/images` directory."
   ]
  },
  {
   "cell_type": "code",
   "execution_count": 5,
   "metadata": {},
   "outputs": [
    {
     "name": "stderr",
     "output_type": "stream",
     "text": [
      "  0%|          | 0/178 [00:00<?, ?it/s]"
     ]
    }
   ],
   "source": [
    "#import grequests\n",
    "def save_image(gem, response):\n",
    "    filename = response.url.split('/')[-1]\n",
    "    try:\n",
    "        img = Image.open(io.BytesIO(response.content))\n",
    "        if img.mode != 'RGB':\n",
    "            img = img.convert('RGB')  # Convert to RGB if necessary\n",
    "        img.save(os.path.join(img_path, gem, filename + '.jpg'), format='JPEG')\n",
    "    except:\n",
    "        print('failed to save', filename)\n",
    "        return\n",
    "# Asynchronous image downloads\n",
    "def process_gem(gem, links):\n",
    "    # reqs = (grequests.get(link, stream=True, headers=HEADERS) for link in links if os.path.exists(os.path.join(img_path, gem, link.split('/p')[-1].split('/')[1].split('?')[0] + '.jpg')) is False)\n",
    "    # responses = grequests.imap(reqs, size=4)  # Adjust pool size\n",
    "\n",
    "    # with tqdm(total=len(links)) as pbar:\n",
    "    #     for response in responses:\n",
    "    #         if response:  # Skip failures\n",
    "    #             save_image(gem, response)\n",
    "    #         pbar.update()\n",
    "    session = requests.Session()\n",
    "    for link in links:\n",
    "        if os.path.exists(os.path.join(img_path, gem, link.split('/')[-1] + '.jpg')):\n",
    "            continue\n",
    "        response = session.get(link, headers=HEADERS)\n",
    "        save_image(gem, response)\n",
    "    session.close()\n",
    "\n",
    "def process_file(file):\n",
    "    data = pd.read_csv(file, index_col=0)\n",
    "    gem = data.columns[0]\n",
    "    links = data[gem].tolist()\n",
    "    if not os.path.exists(img_path + gem):\n",
    "        os.makedirs(img_path + gem, exist_ok=True)\n",
    "    process_gem(gem, links)\n",
    "link_path = '../dat/image_links'\n",
    "img_path = '../dat/images/'\n",
    "\n",
    "executor._max_workers = 24\n",
    "futures = [executor.submit(process_file, os.path.join(link_path, file)) for file in os.listdir(link_path)]\n",
    "with tqdm(total=len(futures)) as pbar:\n",
    "    for future in cf.as_completed(futures):\n",
    "        future.result()\n",
    "        pbar.update()"
   ]
  },
  {
   "cell_type": "code",
   "execution_count": 10,
   "metadata": {},
   "outputs": [
    {
     "name": "stdout",
     "output_type": "stream",
     "text": [
      "Alexandrite 1064\n",
      "Alexandrite Cats Eye 0\n",
      "deleted Alexandrite Cats Eye\n",
      "Almandine Garnet (Pyrope) 0\n",
      "deleted Almandine Garnet (Pyrope)\n",
      "Amber 112\n",
      "Amethyst 2004\n",
      "Ametrine 633\n",
      "Ammolite 0\n",
      "deleted Ammolite\n",
      "Angel Skin Coral 0\n",
      "deleted Angel Skin Coral\n",
      "Apatite 0\n",
      "deleted Apatite\n",
      "Apatite Cat's Eye 0\n",
      "deleted Apatite Cat's Eye\n",
      "Aquamarine 2648\n",
      "Australian Opal 0\n",
      "deleted Australian Opal\n",
      "Aventurine 0\n",
      "deleted Aventurine\n",
      "Basra Pearls 0\n",
      "deleted Basra Pearls\n",
      "Beryl 0\n",
      "deleted Beryl\n",
      "Black Onyx 0\n",
      "deleted Black Onyx\n",
      "Blue Sapphire (Neelam) 5874\n",
      "Blue Topaz 1375\n",
      "Blue Zircon 449\n",
      "Burmese Ruby 1158\n",
      "Cats Eye 1826\n",
      "Citrine (Sunela) 1620\n",
      "Colombian Emerald 1179\n",
      "Cornflower Blue Sapphire 40\n",
      "Emerald (Panna) 8516\n",
      "Fire Opal 390\n",
      "Garnet 1637\n",
      "Hessonite (Gomed) 1849\n",
      "Iolite (Neeli) 416\n",
      "Kashmir Blue Sapphire 122\n",
      "Kyanite 262\n",
      "Lapis Lazuli 144\n",
      "Moldavite 1150\n",
      "Moonstone 372\n",
      "Navratna 1\n",
      "No Oil Emerald 5\n",
      "Opal 3397\n",
      "Padparadscha Sapphire 16\n",
      "Panjshir Emerald 17\n",
      "Paraiba Tourmaline 17\n",
      "Pearl (Moti) 144\n",
      "Peridot 17\n",
      "Pigeon Blood Ruby 14\n",
      "Pink Sapphire 18\n",
      "Pitambari Neelam 38\n",
      "Red Coral (Moonga) 580\n",
      "Royal Blue Sapphire 12\n",
      "Ruby (Manik) 2218\n",
      "Spinel 725\n",
      "Star Ruby 934\n",
      "Tanzanite 411\n",
      "Tourmaline 1844\n",
      "Turquoise 2717\n",
      "White Coral 323\n",
      "White Sapphire 245\n",
      "Yellow Sapphire - Pukhraj 1040\n",
      "Yellow Topaz 145\n",
      "Zircon 191\n"
     ]
    },
    {
     "name": "stderr",
     "output_type": "stream",
     "text": [
      "c:\\Users\\david\\miniforge3\\envs\\cuda\\lib\\site-packages\\gevent\\hub.py:161: UserWarning: libuv only supports millisecond timer resolution; all times less will be set to 1 ms\n",
      "  with loop.timer(seconds, ref=ref) as t:\n"
     ]
    }
   ],
   "source": [
    "for dir in os.listdir(img_path):\n",
    "    print(dir, len(os.listdir(img_path + dir)))\n",
    "    if len(os.listdir(img_path + dir)) == 0:\n",
    "        shutil.rmtree(img_path + dir)\n",
    "        print('deleted', dir)"
   ]
  },
  {
   "cell_type": "code",
   "execution_count": 15,
   "metadata": {},
   "outputs": [
    {
     "name": "stderr",
     "output_type": "stream",
     "text": [
      "c:\\Users\\david\\miniconda3\\envs\\gemstone\\lib\\site-packages\\gevent\\hub.py:161: UserWarning: libuv only supports millisecond timer resolution; all times less will be set to 1 ms\n",
      "  with loop.timer(seconds, ref=ref) as t:\n"
     ]
    }
   ],
   "source": [
    "import os\n",
    "import pandas as pd\n",
    "link_path = '../dat/image_links'\n",
    "img_path = '../dat/images/'\n",
    "\n",
    "wrong = {}\n",
    "for file in os.listdir(link_path):\n",
    "    if os.path.exists(os.path.join(img_path, file.split('.')[0])):\n",
    "        data = pd.read_csv(os.path.join(link_path, file), index_col=0)\n",
    "        image_count = len(os.listdir(os.path.join(img_path, file.split('.')[0])))\n",
    "        if data.shape[0] != image_count:\n",
    "            wrong[file] = (data.shape[0], image_count)\n",
    "# sort the dictionary by the number of missing images\n",
    "wrong = sorted(wrong.items(), key=lambda item: item[1], reverse=True)"
   ]
  },
  {
   "cell_type": "code",
   "execution_count": 16,
   "metadata": {},
   "outputs": [
    {
     "data": {
      "text/plain": [
       "[('Emerald (Panna).csv', (22414, 8516)),\n",
       " ('Opal.csv', (16316, 3397)),\n",
       " ('Ruby (Manik).csv', (11262, 2218)),\n",
       " ('Ethiopian Opal.csv', (9425, 342)),\n",
       " ('Blue Sapphire (Neelam).csv', (8470, 5874)),\n",
       " ('Ceylon Blue Sapphire.csv', (6929, 190)),\n",
       " ('Australian Opal.csv', (6316, 0)),\n",
       " ('Indian Ruby.csv', (6170, 0)),\n",
       " ('Brazilian Emerald.csv', (4776, 1251)),\n",
       " ('Aquamarine.csv', (4161, 2648)),\n",
       " ('Turquoise.csv', (3822, 2717)),\n",
       " ('Amethyst.csv', (3320, 2004)),\n",
       " ('Hessonite (Gomed).csv', (3247, 1849)),\n",
       " ('Cultured Pearls.csv', (2937, 555)),\n",
       " ('Red Coral (Moonga).csv', (2830, 580)),\n",
       " ('Cats Eye.csv', (2726, 1826)),\n",
       " ('Mexican Fire Opal.csv', (2662, 0)),\n",
       " ('Colombian Emerald.csv', (2593, 1179)),\n",
       " ('Tourmaline.csv', (2564, 1844)),\n",
       " ('Citrine (Sunela).csv', (2525, 1620)),\n",
       " ('Mozambique Ruby.csv', (2355, 0)),\n",
       " ('Garnet.csv', (2296, 1637)),\n",
       " ('South Sea Pearls.csv', (2263, 0)),\n",
       " ('Blue Topaz.csv', (2153, 1375)),\n",
       " ('Black Opal.csv', (2029, 0)),\n",
       " ('Glass Filled Ruby.csv', (1929, 389)),\n",
       " ('Burmese Ruby.csv', (1778, 1158)),\n",
       " ('Alexandrite.csv', (1760, 1064)),\n",
       " ('Onyx (Chalcedony).csv', (1748, 0)),\n",
       " ('Green Tourmaline (Verdelite).csv', (1747, 0)),\n",
       " ('Moldavite.csv', (1744, 1150)),\n",
       " ('Jade.csv', (1639, 0)),\n",
       " ('Pearl (Moti).csv', (1469, 144)),\n",
       " ('Spinel.csv', (1444, 725)),\n",
       " ('Yellow Sapphire - Pukhraj.csv', (1432, 1040)),\n",
       " ('Black Onyx.csv', (1396, 0)),\n",
       " ('Japanese Red Coral.csv', (1288, 0)),\n",
       " ('Star Ruby.csv', (1232, 934)),\n",
       " ('Chrysoberyl Cat’s Eye (Lehsunia).csv', (1136, 798)),\n",
       " ('Iranian Turquoise (Irani Feroza).csv', (1121, 0)),\n",
       " ('Ametrine.csv', (1115, 633)),\n",
       " ('Labradorite.csv', (891, 0)),\n",
       " ('Tibetian Turquoise.csv', (869, 0)),\n",
       " ('Pink Tourmaline.csv', (845, 0)),\n",
       " ('Keshi Pearls.csv', (767, 0)),\n",
       " ('Blue Zircon.csv', (765, 449)),\n",
       " ('Morganite.csv', (729, 0)),\n",
       " ('Swiss Blue Topaz.csv', (727, 0)),\n",
       " ('Sky Blue Topaz.csv', (717, 0)),\n",
       " ('Blue Opal.csv', (710, 709)),\n",
       " ('Bloodstone.csv', (691, 638)),\n",
       " ('Heliodor.csv', (666, 0)),\n",
       " ('Rubellite.csv', (658, 0)),\n",
       " ('Pink Opal.csv', (647, 0)),\n",
       " ('Jadeite.csv', (640, 0)),\n",
       " ('Almandine Garnet (Pyrope).csv', (636, 0)),\n",
       " ('Sunstone.csv', (612, 0)),\n",
       " ('Brown Zircon.csv', (611, 608)),\n",
       " ('Tanzanite.csv', (598, 411)),\n",
       " (\"Apatite Cat's Eye.csv\", (584, 0)),\n",
       " ('Iolite (Neeli).csv', (545, 416)),\n",
       " ('Opal Doublet.csv', (545, 0)),\n",
       " ('London Blue Topaz.csv', (504, 0)),\n",
       " ('Fire Opal.csv', (501, 390)),\n",
       " ('Natural Pearls.csv', (489, 0)),\n",
       " ('Moonstone.csv', (488, 372)),\n",
       " ('Pink Morganite.csv', (479, 0)),\n",
       " ('Green Amethyst (Prasiolite).csv', (456, 106)),\n",
       " ('Beryl.csv', (452, 0)),\n",
       " ('White Coral.csv', (438, 323)),\n",
       " ('Aventurine.csv', (418, 0)),\n",
       " ('Black Spinel.csv', (415, 266)),\n",
       " ('Kunzite.csv', (408, 0)),\n",
       " ('White Sapphire.csv', (394, 245)),\n",
       " ('Pink Spinel.csv', (385, 0)),\n",
       " ('Zircon.csv', (376, 191)),\n",
       " ('Jade Nephrite.csv', (374, 0)),\n",
       " ('Ruby Cabochon.csv', (370, 0)),\n",
       " ('Rose Quartz.csv', (359, 0)),\n",
       " ('Lapis Lazuli.csv', (356, 144)),\n",
       " ('Star Sapphire.csv', (342, 0)),\n",
       " ('Purple Sapphire.csv', (318, 0)),\n",
       " ('Imperial Topaz.csv', (297, 0)),\n",
       " ('Star Garnet.csv', (296, 0)),\n",
       " ('Kyanite.csv', (288, 262)),\n",
       " ('Smoky Quartz.csv', (286, 0)),\n",
       " ('Apatite.csv', (280, 0)),\n",
       " ('Neon Apatite.csv', (251, 0)),\n",
       " ('Blue Spinel.csv', (247, 216)),\n",
       " ('Purple Garnet.csv', (228, 0)),\n",
       " ('Rainbow Moonstone.csv', (228, 0)),\n",
       " ('Golden Topaz.csv', (226, 225)),\n",
       " ('Goshenite.csv', (215, 114)),\n",
       " ('Lemon Quartz.csv', (210, 0)),\n",
       " ('Obsidian.csv', (210, 0)),\n",
       " ('Green Kyanite.csv', (207, 60)),\n",
       " ('Spessartite.csv', (204, 0)),\n",
       " ('Green Sapphire.csv', (203, 0)),\n",
       " ('Pitambari Neelam.csv', (201, 38)),\n",
       " ('Black Pearls.csv', (195, 0)),\n",
       " ('Khooni Neelam.csv', (195, 0)),\n",
       " ('Tahitian Pearls.csv', (195, 0)),\n",
       " ('Yellow Topaz.csv', (193, 145)),\n",
       " ('Lavender Quartz.csv', (190, 0)),\n",
       " ('Teal Sapphire.csv', (185, 0)),\n",
       " ('Pink Coral.csv', (177, 0)),\n",
       " ('Kashmir Blue Sapphire.csv', (172, 122)),\n",
       " ('Peach Morganite.csv', (168, 0)),\n",
       " ('Alexandrite Cats Eye.csv', (153, 0)),\n",
       " ('Malachite.csv', (142, 0)),\n",
       " ('Amber.csv', (132, 112)),\n",
       " ('Red Spinel.csv', (131, 0)),\n",
       " ('Ammolite.csv', (123, 0)),\n",
       " ('Angel Skin Coral.csv', (117, 0)),\n",
       " ('Pink Topaz.csv', (112, 0)),\n",
       " ('Russian Emerald.csv', (106, 0)),\n",
       " ('Basra Pearls.csv', (105, 0)),\n",
       " ('Jasper.csv', (97, 0)),\n",
       " ('Moss Agate.csv', (81, 0)),\n",
       " ('Howlite.csv', (74, 0)),\n",
       " ('Tiger Eye.csv', (72, 0)),\n",
       " ('Tsavorite.csv', (72, 0)),\n",
       " ('Watermelon Tourmaline.csv', (72, 0)),\n",
       " ('Mocha Scapolite.csv', (66, 0)),\n",
       " ('Topaz.csv', (66, 0)),\n",
       " ('Cornflower Blue Sapphire.csv', (57, 40)),\n",
       " ('Danburite.csv', (57, 40)),\n",
       " ('Spectrolite.csv', (51, 0)),\n",
       " ('Red Tourmaline.csv', (43, 0)),\n",
       " ('Orange Sapphire.csv', (42, 0)),\n",
       " ('Blue Moonstone.csv', (41, 39)),\n",
       " ('Tanzania Ruby.csv', (35, 0)),\n",
       " ('Vivid Green Emerald.csv', (34, 0)),\n",
       " ('Pink Sapphire.csv', (24, 18)),\n",
       " ('Orange Kyanite.csv', (24, 0)),\n",
       " ('Peridot.csv', (22, 17)),\n",
       " ('Padparadscha Sapphire.csv', (21, 16)),\n",
       " ('Red Zircon.csv', (21, 0)),\n",
       " ('Pigeon Blood Ruby.csv', (19, 14)),\n",
       " ('Panjshir Emerald.csv', (18, 17)),\n",
       " ('Paraiba Tourmaline.csv', (18, 17)),\n",
       " ('Royal Blue Sapphire.csv', (18, 12)),\n",
       " ('Mandarin Garnet.csv', (18, 0)),\n",
       " ('Grey Sapphire.csv', (15, 0)),\n",
       " ('Russian Alexandrite.csv', (15, 0)),\n",
       " ('Navratna.csv', (12, 1)),\n",
       " ('Taaffeite.csv', (12, 0)),\n",
       " ('Sphalerite.csv', (10, 0)),\n",
       " ('Green Tanzanite.csv', (9, 0)),\n",
       " ('Insignificant Oil Emerald.csv', (9, 0)),\n",
       " ('No Oil Emerald.csv', (6, 5)),\n",
       " ('Sri Lanka Moonstone.csv', (5, 0)),\n",
       " ('Orthoclase.csv', (3, 0)),\n",
       " ('Petrified Wood.csv', (3, 0)),\n",
       " ('Trapiche Emerald.csv', (2, 0))]"
      ]
     },
     "execution_count": 16,
     "metadata": {},
     "output_type": "execute_result"
    }
   ],
   "source": [
    "wrong"
   ]
  },
  {
   "cell_type": "code",
   "execution_count": null,
   "metadata": {},
   "outputs": [],
   "source": []
  }
 ],
 "metadata": {
  "kernelspec": {
   "display_name": "gemstone",
   "language": "python",
   "name": "python3"
  },
  "language_info": {
   "codemirror_mode": {
    "name": "ipython",
    "version": 3
   },
   "file_extension": ".py",
   "mimetype": "text/x-python",
   "name": "python",
   "nbconvert_exporter": "python",
   "pygments_lexer": "ipython3",
   "version": "3.10.13"
  },
  "orig_nbformat": 4,
  "vscode": {
   "interpreter": {
    "hash": "f762acd087eee1e20edab5fbefd8c93a224f39ec9e7e44d927d5a8eeabcf7075"
   }
  }
 },
 "nbformat": 4,
 "nbformat_minor": 2
}
