{
 "cells": [
  {
   "attachments": {},
   "cell_type": "markdown",
   "metadata": {},
   "source": [
    "# Evaluating Model Performance\n",
    "We will evaluate and compare the performance of the models using the following metrics:\n",
    "- Accuracy\n",
    "- Precision\n",
    "- Recall\n"
   ]
  },
  {
   "cell_type": "code",
   "execution_count": null,
   "metadata": {},
   "outputs": [],
   "source": [
    "import os\n",
    "import tensorflow as tf\n",
    "from tensorflow import keras\n",
    "from tensorflow.keras.preprocessing.image import ImageDataGenerator\n",
    "from sklearn.metrics import confusion_matrix, accuracy_score\n",
    "import matplotlib.pyplot as plt\n",
    "import itertools\n",
    "from sklearn.metrics import confusion_matrix, accuracy_score"
   ]
  },
  {
   "cell_type": "code",
   "execution_count": null,
   "metadata": {},
   "outputs": [],
   "source": [
    "def plot_confusion_matrix(cm, classes, title='Confusion Matrix', normalize=False, cmap=plt.cm.Blues):\n",
    "    plt.imshow(cm, interpolation='nearest', cmap=cmap)\n",
    "    plt.title(title)\n",
    "    plt.colorbar()\n",
    "    tick_marks = np.arange(len(classes))\n",
    "    plt.xticks(tick_marks, classes, rotation=45)\n",
    "    plt.yticks(tick_marks, classes)\n",
    "\n",
    "    if normalize:\n",
    "        cm = cm.astype('float') / cm.sum(axis=1)[:, np.newaxis]\n",
    "\n",
    "    thresh = cm.max() / 2.\n",
    "    for i, j in itertools.product(range(cm.shape[0]), range(cm.shape[1])):\n",
    "        plt.text(j, i, cm[i, j],\n",
    "                 horizontalalignment=\"center\",\n",
    "                 color=\"white\" if cm[i, j] > thresh else \"black\")\n",
    "\n",
    "    plt.tight_layout()\n",
    "    plt.ylabel('True label')\n",
    "    plt.xlabel('Predicted label')\n",
    "\n",
    "# Function to load a model\n",
    "def load_model(model_path):\n",
    "    return keras.models.load_model(model_path)"
   ]
  },
  {
   "cell_type": "code",
   "execution_count": null,
   "metadata": {},
   "outputs": [],
   "source": [
    "# Configuration\n",
    "data_dir = \"../dat/images_augmented\"  # Path to your image dataset\n",
    "model_dir = \"../mod/\"  # Path to where the saved models are\n",
    "target_size = (224, 224)\n",
    "batch_size = 32\n",
    "\n",
    "validation_split = 0.2  # Percentage of data to use for validation\n",
    "\n",
    "datagen = ImageDataGenerator(rescale=1./255, validation_split=validation_split)\n",
    "\n",
    "val_data = datagen.flow_from_directory(\n",
    "    data_dir,\n",
    "    target_size=target_size,\n",
    "    batch_size=batch_size,\n",
    "    class_mode='categorical',\n",
    "    subset='validation' \n",
    ")\n",
    "\n",
    "# Evaluation\n",
    "model_paths = [os.path.join(model_dir, file) for file in os.listdir(model_dir) if file.endswith('.h5')]\n",
    "\n",
    "for model_path in model_paths:\n",
    "    model_name = os.path.splitext(os.path.basename(model_path))[0] \n",
    "    model = load_model(model_path)\n",
    "\n",
    "    print(f\"\\nEvaluating model: {model_name}\")\n",
    "\n",
    "    # Predictions\n",
    "    y_pred = model.predict(val_data)\n",
    "    y_pred = np.argmax(y_pred, axis=1)\n",
    "    y_true = val_data.classes\n",
    "\n",
    "    # Metrics\n",
    "    accuracy = accuracy_score(y_true, y_pred)\n",
    "    top_3_accuracy = keras.metrics.sparse_top_k_categorical_accuracy(y_true, y_pred, k=3)\n",
    "    top_5_accuracy = keras.metrics.sparse_top_k_categorical_accuracy(y_true, y_pred, k=5)\n",
    "\n",
    "    print(f\"Accuracy: {accuracy:.3f}\")\n",
    "    print(f\"Top-3 Accuracy: {top_3_accuracy:.3f}\")\n",
    "    print(f\"Top-5 Accuracy: {top_5_accuracy:.3f}\")\n",
    "\n",
    "    # Confusion Matrix\n",
    "    cm = confusion_matrix(y_true, y_pred)\n",
    "    plot_confusion_matrix(cm, classes=val_data.class_indices, title=f'Confusion Matrix - {model_name}')\n",
    "    plt.show()"
   ]
  }
 ],
 "metadata": {
  "kernelspec": {
   "display_name": "gemstone",
   "language": "python",
   "name": "python3"
  },
  "language_info": {
   "name": "python",
   "version": "3.10.13 | packaged by Anaconda, Inc. | (main, Sep 11 2023, 13:24:38) [MSC v.1916 64 bit (AMD64)]"
  },
  "orig_nbformat": 4,
  "vscode": {
   "interpreter": {
    "hash": "f762acd087eee1e20edab5fbefd8c93a224f39ec9e7e44d927d5a8eeabcf7075"
   }
  }
 },
 "nbformat": 4,
 "nbformat_minor": 2
}
