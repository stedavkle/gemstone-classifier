{
 "cells": [
  {
   "attachments": {},
   "cell_type": "markdown",
   "metadata": {},
   "source": [
    "# Evaluating Model Performance\n",
    "We will evaluate and compare the performance of the models using the following metrics:\n",
    "- Accuracy\n",
    "- Precision\n",
    "- Recall\n"
   ]
  },
  {
   "cell_type": "code",
   "execution_count": null,
   "metadata": {},
   "outputs": [],
   "source": []
  }
 ],
 "metadata": {
  "kernelspec": {
   "display_name": "ultralytics",
   "language": "python",
   "name": "python3"
  },
  "language_info": {
   "name": "python",
   "version": "3.10.13 | packaged by Anaconda, Inc. | (main, Sep 11 2023, 13:24:38) [MSC v.1916 64 bit (AMD64)]"
  },
  "orig_nbformat": 4,
  "vscode": {
   "interpreter": {
    "hash": "64925d1bd519b94d2acb8a3ed518b8ec8502ae1a6fd27d7ce7bd5a7bf96d2166"
   }
  }
 },
 "nbformat": 4,
 "nbformat_minor": 2
}
