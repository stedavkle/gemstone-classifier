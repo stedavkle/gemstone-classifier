{
 "cells": [
  {
   "attachments": {},
   "cell_type": "markdown",
   "metadata": {},
   "source": [
    "# Data preparation and cleaning\n",
    "Before we work with the data and use it to train a model, we need to prepare it. This includes cleaning the data, transforming it into a format that is suitable for training a model, and splitting it into a training and test set. In this notebook, we will perform the following steps:\n",
    "- Analyze the scraped dataset (class distribution)\n",
    "- Use Canny edge detection to extract ROI from the images\n",
    "- Crop the images to a fixed size including the ROI\n",
    "- Perform data augmentation\n",
    "- Construct datasets for training and testing"
   ]
  },
  {
   "cell_type": "code",
   "execution_count": 1,
   "metadata": {},
   "outputs": [],
   "source": [
    "import os\n",
    "import pandas as pd\n",
    "import matplotlib.pyplot as plt\n",
    "import cv2\n",
    "import numpy as np\n",
    "from PIL import Image\n",
    "\n",
    "from skimage import transform\n",
    "import concurrent.futures as cf\n",
    "from tqdm import tqdm\n",
    "import shutil\n",
    "\n",
    "executor = cf.ThreadPoolExecutor(max_workers=4)\n",
    "image_path = '../dat/gempundit_2022'"
   ]
  },
  {
   "cell_type": "code",
   "execution_count": 2,
   "metadata": {},
   "outputs": [],
   "source": [
    "# TODO remove\n",
    "os.chdir(r'C:\\Users\\david\\projects\\University\\gemstone-classifier\\src')"
   ]
  },
  {
   "cell_type": "markdown",
   "metadata": {},
   "source": [
    "#### Ensure that all files are valid `jpg` and there are no errors when loading the image. Also remove any leftover certificates."
   ]
  },
  {
   "cell_type": "code",
   "execution_count": 2,
   "metadata": {},
   "outputs": [
    {
     "name": "stderr",
     "output_type": "stream",
     "text": [
      "0it [00:00, ?it/s]\n",
      "100%|██████████| 365/365 [00:01<00:00, 276.66it/s]\n",
      "100%|██████████| 125/125 [00:00<00:00, 253.88it/s]\n",
      "100%|██████████| 101/101 [00:00<00:00, 255.06it/s]\n",
      "100%|██████████| 141/141 [00:00<00:00, 377.01it/s]\n",
      "100%|██████████| 2509/2509 [00:09<00:00, 264.03it/s]\n",
      "100%|██████████| 5/5 [00:00<00:00, 556.98it/s]\n",
      "100%|██████████| 732/732 [00:02<00:00, 284.08it/s]\n",
      "100%|██████████| 132/132 [00:00<00:00, 445.63it/s]\n",
      "100%|██████████| 60/60 [00:00<00:00, 214.54it/s]\n",
      "100%|██████████| 271/271 [00:00<00:00, 279.93it/s]\n",
      "100%|██████████| 716/716 [00:02<00:00, 279.67it/s]\n",
      "100%|██████████| 1663/1663 [00:05<00:00, 280.31it/s]\n",
      "100%|██████████| 3104/3104 [00:10<00:00, 290.96it/s]\n",
      "100%|██████████| 561/561 [00:02<00:00, 276.54it/s]\n",
      "100%|██████████| 266/266 [00:01<00:00, 259.79it/s]\n",
      "100%|██████████| 184/184 [00:00<00:00, 279.96it/s]\n",
      "100%|██████████| 1718/1718 [00:06<00:00, 284.49it/s]\n",
      "100%|██████████| 1213/1213 [00:04<00:00, 263.83it/s]\n",
      "100%|██████████| 240/240 [00:00<00:00, 314.56it/s]\n",
      "100%|██████████| 316/316 [00:01<00:00, 252.70it/s]\n",
      "100%|██████████| 40/40 [00:00<00:00, 284.45it/s]\n",
      "100%|██████████| 6/6 [00:00<00:00, 501.35it/s]\n",
      "100%|██████████| 767/767 [00:02<00:00, 277.25it/s]\n",
      "100%|██████████| 70/70 [00:00<00:00, 291.32it/s]\n",
      "100%|██████████| 217/217 [00:00<00:00, 402.18it/s]\n",
      " 19%|█▉        | 1180/6157 [00:04<00:26, 188.46it/s]"
     ]
    },
    {
     "name": "stdout",
     "output_type": "stream",
     "text": [
      "error with ../dat/gempundit_2022\\Blue Sapphire (Neelam)\\gp38761-1-080521.jpg\n"
     ]
    },
    {
     "name": "stderr",
     "output_type": "stream",
     "text": [
      " 54%|█████▍    | 3314/6157 [00:20<00:19, 143.17it/s]"
     ]
    },
    {
     "name": "stdout",
     "output_type": "stream",
     "text": [
      "removed ../dat/gempundit_2022\\Blue Sapphire (Neelam)\\gp72318-_8.62ct_.jpg\n",
      "removed ../dat/gempundit_2022\\Blue Sapphire (Neelam)\\gp72421-_8.34ct_.jpg\n",
      "removed ../dat/gempundit_2022\\Blue Sapphire (Neelam)\\gp72423_7.90ct_.jpg\n",
      "removed ../dat/gempundit_2022\\Blue Sapphire (Neelam)\\gp72435-_9.10ct_.jpg\n",
      "removed ../dat/gempundit_2022\\Blue Sapphire (Neelam)\\gp72436-_9.06ct_.jpg\n"
     ]
    },
    {
     "name": "stderr",
     "output_type": "stream",
     "text": [
      " 75%|███████▍  | 4589/6157 [00:29<00:10, 143.38it/s]"
     ]
    },
    {
     "name": "stdout",
     "output_type": "stream",
     "text": [
      "removed ../dat/gempundit_2022\\Blue Sapphire (Neelam)\\gp90831-_4-03ct_.jpg\n"
     ]
    },
    {
     "name": "stderr",
     "output_type": "stream",
     "text": [
      " 84%|████████▎ | 5153/6157 [00:33<00:08, 124.85it/s]"
     ]
    },
    {
     "name": "stdout",
     "output_type": "stream",
     "text": [
      "removed ../dat/gempundit_2022\\Blue Sapphire (Neelam)\\gp95853-_13-89ct_.jpg\n"
     ]
    },
    {
     "name": "stderr",
     "output_type": "stream",
     "text": [
      "100%|██████████| 6157/6157 [00:41<00:00, 146.76it/s]\n",
      "100%|██████████| 21/21 [00:00<00:00, 179.97it/s]\n",
      "100%|██████████| 1173/1173 [00:08<00:00, 136.33it/s]\n",
      "100%|██████████| 246/246 [00:01<00:00, 130.14it/s]\n",
      "100%|██████████| 1271/1271 [00:09<00:00, 137.20it/s]\n",
      "100%|██████████| 370/370 [00:02<00:00, 132.68it/s]\n",
      "100%|██████████| 241/241 [00:01<00:00, 205.18it/s]\n",
      "100%|██████████| 1121/1121 [00:08<00:00, 130.02it/s]\n",
      "100%|██████████| 109/109 [00:00<00:00, 134.67it/s]\n",
      "100%|██████████| 260/260 [00:01<00:00, 143.95it/s]\n",
      "100%|██████████| 2555/2555 [00:18<00:00, 139.31it/s]\n",
      "100%|██████████| 133/133 [00:00<00:00, 153.10it/s]\n",
      "100%|██████████| 54/54 [00:00<00:00, 165.07it/s]\n",
      "100%|██████████| 214/214 [00:01<00:00, 154.67it/s]\n",
      "100%|██████████| 2/2 [00:00<00:00, 250.66it/s]\n",
      "100%|██████████| 15/15 [00:00<00:00, 135.50it/s]\n",
      "100%|██████████| 1262/1262 [00:08<00:00, 147.84it/s]\n",
      "100%|██████████| 275/275 [00:02<00:00, 120.77it/s]\n",
      "100%|██████████| 730/730 [00:05<00:00, 138.53it/s]\n",
      "100%|██████████| 1217/1217 [00:09<00:00, 127.18it/s]\n",
      "100%|██████████| 47/47 [00:00<00:00, 136.60it/s]\n",
      "100%|██████████| 23/23 [00:00<00:00, 127.65it/s]\n",
      "100%|██████████| 2467/2467 [00:17<00:00, 143.26it/s]\n",
      " 54%|█████▍    | 1512/2788 [00:11<00:09, 134.20it/s]"
     ]
    },
    {
     "name": "stdout",
     "output_type": "stream",
     "text": [
      "removed ../dat/gempundit_2022\\CVN15J~1\\gp72318-_8.62ct_.jpg\n",
      "removed ../dat/gempundit_2022\\CVN15J~1\\gp72421-_8.34ct_.jpg\n",
      "removed ../dat/gempundit_2022\\CVN15J~1\\gp72423_7.90ct_.jpg\n"
     ]
    },
    {
     "name": "stderr",
     "output_type": "stream",
     "text": [
      " 71%|███████▏  | 1990/2788 [00:15<00:06, 123.81it/s]"
     ]
    },
    {
     "name": "stdout",
     "output_type": "stream",
     "text": [
      "removed ../dat/gempundit_2022\\CVN15J~1\\gp90831-_4-03ct_.jpg\n"
     ]
    },
    {
     "name": "stderr",
     "output_type": "stream",
     "text": [
      " 74%|███████▍  | 2065/2788 [00:15<00:05, 132.07it/s]"
     ]
    },
    {
     "name": "stdout",
     "output_type": "stream",
     "text": [
      "removed ../dat/gempundit_2022\\CVN15J~1\\gp95853-_13-89ct_.jpg\n"
     ]
    },
    {
     "name": "stderr",
     "output_type": "stream",
     "text": [
      "100%|██████████| 2788/2788 [00:20<00:00, 132.98it/s]\n",
      "100%|██████████| 4/4 [00:00<00:00, 154.25it/s]\n",
      "100%|██████████| 9685/9685 [01:15<00:00, 128.52it/s]\n",
      "100%|██████████| 213/213 [00:01<00:00, 127.83it/s]\n",
      " 51%|█████▏    | 1633/3171 [00:12<00:10, 145.46it/s]"
     ]
    },
    {
     "name": "stdout",
     "output_type": "stream",
     "text": [
      "error with ../dat/gempundit_2022\\Ethiopian Opal\\gp65463-1-061020.jpg\n"
     ]
    },
    {
     "name": "stderr",
     "output_type": "stream",
     "text": [
      "100%|██████████| 3171/3171 [00:23<00:00, 134.35it/s]\n",
      "100%|██████████| 396/396 [00:02<00:00, 141.37it/s]\n",
      "100%|██████████| 163/163 [00:01<00:00, 138.95it/s]\n",
      "100%|██████████| 780/780 [00:05<00:00, 139.26it/s]\n",
      "100%|██████████| 1684/1684 [00:13<00:00, 126.05it/s]\n",
      "100%|██████████| 215/215 [00:01<00:00, 117.87it/s]\n",
      "100%|██████████| 98/98 [00:00<00:00, 132.36it/s]\n",
      "100%|██████████| 102/102 [00:00<00:00, 146.10it/s]\n",
      "100%|██████████| 418/418 [00:03<00:00, 137.05it/s]\n",
      "100%|██████████| 210/210 [00:01<00:00, 128.18it/s]\n",
      "100%|██████████| 55/55 [00:00<00:00, 136.92it/s]\n",
      "100%|██████████| 21/21 [00:00<00:00, 132.43it/s]\n",
      "100%|██████████| 450/450 [00:03<00:00, 137.97it/s]\n",
      "100%|██████████| 27/27 [00:00<00:00, 127.70it/s]\n",
      "100%|██████████| 188/188 [00:01<00:00, 147.61it/s]\n",
      "100%|██████████| 1230/1230 [00:08<00:00, 153.60it/s]\n",
      "100%|██████████| 224/224 [00:01<00:00, 127.00it/s]\n",
      "100%|██████████| 24/24 [00:00<00:00, 126.65it/s]\n",
      "100%|██████████| 243/243 [00:01<00:00, 126.67it/s]\n",
      "100%|██████████| 29/29 [00:00<00:00, 95.02it/s]\n",
      "100%|██████████| 260/260 [00:01<00:00, 169.01it/s]\n",
      "100%|██████████| 215/215 [00:00<00:00, 252.21it/s]\n",
      "100%|██████████| 537/537 [00:03<00:00, 141.95it/s]\n",
      "100%|██████████| 143/143 [00:00<00:00, 197.22it/s]\n",
      "100%|██████████| 409/409 [00:02<00:00, 157.67it/s]\n",
      "100%|██████████| 171/171 [00:01<00:00, 141.82it/s]\n",
      "100%|██████████| 1/1 [00:00<00:00, 200.53it/s]\n",
      "100%|██████████| 91/91 [00:00<00:00, 132.08it/s]\n",
      "100%|██████████| 450/450 [00:03<00:00, 142.46it/s]\n",
      "100%|██████████| 42/42 [00:00<00:00, 138.98it/s]\n",
      "100%|██████████| 222/222 [00:01<00:00, 129.86it/s]\n",
      "100%|██████████| 1367/1367 [00:07<00:00, 191.47it/s]\n",
      "100%|██████████| 179/179 [00:01<00:00, 132.74it/s]\n",
      "100%|██████████| 33/33 [00:00<00:00, 137.30it/s]\n",
      "100%|██████████| 162/162 [00:01<00:00, 133.68it/s]\n",
      "100%|██████████| 41/41 [00:00<00:00, 131.20it/s]\n",
      "100%|██████████| 198/198 [00:01<00:00, 136.77it/s]\n",
      "100%|██████████| 4/4 [00:00<00:00, 143.24it/s]\n",
      "100%|██████████| 18/18 [00:00<00:00, 150.40it/s]\n",
      "100%|██████████| 420/420 [00:03<00:00, 136.22it/s]\n",
      "100%|██████████| 27/27 [00:00<00:00, 139.45it/s]\n",
      "100%|██████████| 1851/1851 [00:14<00:00, 127.34it/s]\n",
      "100%|██████████| 1576/1576 [00:11<00:00, 142.80it/s]\n",
      "100%|██████████| 293/293 [00:01<00:00, 161.30it/s]\n",
      "100%|██████████| 3/3 [00:00<00:00, 176.94it/s]\n",
      "100%|██████████| 1165/1165 [00:08<00:00, 134.20it/s]\n",
      "100%|██████████| 289/289 [00:01<00:00, 144.71it/s]\n",
      "100%|██████████| 1/1 [00:00<00:00, 200.50it/s]\n",
      "100%|██████████| 194/194 [00:01<00:00, 132.78it/s]\n",
      "100%|██████████| 148/148 [00:01<00:00, 133.41it/s]\n",
      "100%|██████████| 4342/4342 [00:29<00:00, 148.57it/s]\n",
      "100%|██████████| 8751/8751 [00:59<00:00, 146.46it/s]\n",
      "100%|██████████| 24/24 [00:00<00:00, 136.73it/s]\n",
      "100%|██████████| 6/6 [00:00<00:00, 261.56it/s]\n",
      "100%|██████████| 99/99 [00:00<00:00, 129.69it/s]\n",
      "100%|██████████| 46/46 [00:00<00:00, 131.96it/s]\n",
      " 77%|███████▋  | 137/177 [00:01<00:00, 144.12it/s]"
     ]
    },
    {
     "name": "stdout",
     "output_type": "stream",
     "text": [
      "error with ../dat/gempundit_2022\\Paraiba Tourmaline\\gp98519-3-300422.jpg\n",
      "error with ../dat/gempundit_2022\\Paraiba Tourmaline\\gp98524-3-300422.jpg\n"
     ]
    },
    {
     "name": "stderr",
     "output_type": "stream",
     "text": [
      "100%|██████████| 177/177 [00:01<00:00, 137.26it/s]\n",
      "100%|██████████| 39/39 [00:00<00:00, 315.36it/s]\n",
      "100%|██████████| 15/15 [00:00<00:00, 141.41it/s]\n",
      "100%|██████████| 3053/3053 [00:19<00:00, 153.63it/s]\n",
      "100%|██████████| 602/602 [00:04<00:00, 142.48it/s]\n",
      "100%|██████████| 1/1 [00:00<00:00, 167.12it/s]\n",
      "100%|██████████| 157/157 [00:01<00:00, 145.48it/s]\n",
      "100%|██████████| 87/87 [00:00<00:00, 150.90it/s]\n",
      "100%|██████████| 86/86 [00:00<00:00, 183.86it/s]\n",
      "100%|██████████| 50/50 [00:00<00:00, 172.82it/s]\n",
      "100%|██████████| 411/411 [00:02<00:00, 145.63it/s]\n",
      "100%|██████████| 135/135 [00:00<00:00, 155.80it/s]\n",
      "100%|██████████| 126/126 [00:00<00:00, 145.44it/s]\n",
      "100%|██████████| 273/273 [00:01<00:00, 148.32it/s]\n",
      "100%|██████████| 1118/1118 [00:07<00:00, 139.83it/s]\n",
      "100%|██████████| 216/216 [00:01<00:00, 139.87it/s]\n",
      "100%|██████████| 168/168 [00:01<00:00, 137.58it/s]\n",
      "100%|██████████| 68/68 [00:00<00:00, 143.84it/s]\n",
      "100%|██████████| 2290/2290 [00:15<00:00, 152.03it/s]\n",
      "100%|██████████| 35/35 [00:00<00:00, 133.44it/s]\n",
      "100%|██████████| 8/8 [00:00<00:00, 160.43it/s]\n",
      "100%|██████████| 217/217 [00:01<00:00, 151.41it/s]\n",
      "100%|██████████| 96/96 [00:00<00:00, 142.65it/s]\n",
      "100%|██████████| 175/175 [00:01<00:00, 153.38it/s]\n",
      "100%|██████████| 6609/6609 [00:48<00:00, 136.28it/s]\n",
      "100%|██████████| 39/39 [00:00<00:00, 139.66it/s]\n",
      " 49%|████▉     | 5921/12129 [00:41<00:45, 137.12it/s]"
     ]
    },
    {
     "name": "stdout",
     "output_type": "stream",
     "text": [
      "removed ../dat/gempundit_2022\\Sapphire\\gp72318-_8.62ct_.jpg\n"
     ]
    },
    {
     "name": "stderr",
     "output_type": "stream",
     "text": [
      " 49%|████▉     | 5938/12129 [00:41<00:44, 137.92it/s]"
     ]
    },
    {
     "name": "stdout",
     "output_type": "stream",
     "text": [
      "removed ../dat/gempundit_2022\\Sapphire\\gp72421-_8.34ct_.jpg\n",
      "removed ../dat/gempundit_2022\\Sapphire\\gp72423_7.90ct_.jpg\n",
      "removed ../dat/gempundit_2022\\Sapphire\\gp72435-_9.10ct_.jpg\n",
      "removed ../dat/gempundit_2022\\Sapphire\\gp72436-_9.06ct_.jpg\n"
     ]
    },
    {
     "name": "stderr",
     "output_type": "stream",
     "text": [
      " 75%|███████▍  | 9066/12129 [01:04<00:22, 136.65it/s]"
     ]
    },
    {
     "name": "stdout",
     "output_type": "stream",
     "text": [
      "removed ../dat/gempundit_2022\\Sapphire\\gp90831-_4-03ct_.jpg\n"
     ]
    },
    {
     "name": "stderr",
     "output_type": "stream",
     "text": [
      " 84%|████████▎ | 10136/12129 [01:11<00:13, 150.87it/s]"
     ]
    },
    {
     "name": "stdout",
     "output_type": "stream",
     "text": [
      "removed ../dat/gempundit_2022\\Sapphire\\gp95853-_13-89ct_.jpg\n"
     ]
    },
    {
     "name": "stderr",
     "output_type": "stream",
     "text": [
      "100%|██████████| 12129/12129 [01:26<00:00, 140.86it/s]\n",
      "100%|██████████| 774/774 [00:05<00:00, 139.54it/s]\n",
      "100%|██████████| 212/212 [00:01<00:00, 146.20it/s]\n",
      "100%|██████████| 2005/2005 [00:13<00:00, 144.97it/s]\n",
      "100%|██████████| 2/2 [00:00<?, ?it/s]\n"
     ]
    },
    {
     "name": "stdout",
     "output_type": "stream",
     "text": [
      "removed ../dat/gempundit_2022\\Spectrolite\\3.jpg\n",
      "removed ../dat/gempundit_2022\\Spectrolite\\1.jpg\n"
     ]
    },
    {
     "name": "stderr",
     "output_type": "stream",
     "text": [
      "100%|██████████| 81/81 [00:00<00:00, 141.69it/s]\n",
      "100%|██████████| 535/535 [00:03<00:00, 142.81it/s]\n",
      "100%|██████████| 7/7 [00:00<00:00, 305.16it/s]\n",
      "100%|██████████| 12/12 [00:00<00:00, 139.91it/s]\n",
      "100%|██████████| 1211/1211 [00:08<00:00, 134.57it/s]\n",
      "100%|██████████| 184/184 [00:01<00:00, 144.70it/s]\n",
      "100%|██████████| 95/95 [00:00<00:00, 134.99it/s]\n",
      "100%|██████████| 401/401 [00:02<00:00, 155.37it/s]\n",
      "100%|██████████| 240/240 [00:01<00:00, 145.03it/s]\n",
      "100%|██████████| 5/5 [00:00<00:00, 122.28it/s]\n",
      "100%|██████████| 392/392 [00:02<00:00, 142.69it/s]\n",
      "100%|██████████| 3/3 [00:00<00:00, 130.78it/s]\n",
      "100%|██████████| 96/96 [00:00<00:00, 124.36it/s]\n",
      "100%|██████████| 4/4 [00:00<00:00, 167.12it/s]\n",
      "100%|██████████| 1776/1776 [00:12<00:00, 146.60it/s]\n",
      "100%|██████████| 1079/1079 [00:07<00:00, 145.92it/s]\n",
      "100%|██████████| 157/157 [00:01<00:00, 146.08it/s]\n",
      "100%|██████████| 882/882 [00:05<00:00, 174.15it/s]\n",
      "100%|██████████| 1534/1534 [00:08<00:00, 179.26it/s]\n",
      "100%|██████████| 20/20 [00:00<00:00, 137.35it/s]\n",
      "100%|██████████| 228/228 [00:01<00:00, 170.88it/s]\n",
      "100%|██████████| 5971/5971 [00:39<00:00, 151.41it/s]\n",
      "100%|██████████| 1626/1626 [00:11<00:00, 147.61it/s]\n",
      "100%|██████████| 109/109 [00:00<00:00, 135.91it/s]\n",
      "100%|██████████| 635/635 [00:04<00:00, 156.07it/s]\n",
      "100%|██████████| 206/206 [00:01<00:00, 145.49it/s]\n",
      "100%|██████████| 4875/4875 [00:35<00:00, 136.84it/s]\n",
      "100%|██████████| 240/240 [00:01<00:00, 136.04it/s]\n",
      "100%|██████████| 45/45 [00:00<00:00, 142.34it/s]\n",
      "100%|██████████| 4924/4924 [00:36<00:00, 136.50it/s]\n",
      "100%|██████████| 1225/1225 [00:07<00:00, 160.61it/s]\n"
     ]
    },
    {
     "name": "stdout",
     "output_type": "stream",
     "text": [
      "Error processing gp96284-5-060522.jpg in Alexandrite\n",
      "Error processing gp96285-5-060522.jpg in Alexandrite\n",
      "Error processing gp96347-1-090622.jpg in Alexandrite\n",
      "Error processing Thumbs.db in Alexandrite\n",
      "Error processing gp96284-5-060522.jpg in Alexandrite\n",
      "Error processing gp96285-5-060522.jpg in Alexandrite\n",
      "Error processing gp96347-1-090622.jpg in Alexandrite\n",
      "Error processing Thumbs.db in Alexandrite\n",
      "Error processing Thumbs.db in Amethyst\n",
      "Error processing gp99225-3-200722.jpg in Australian Opal\n",
      "Error processing gp99228-3-200722.jpg in Australian Opal\n",
      "Error processing gp99231-3-200722.jpg in Australian Opal\n",
      "Error processing gp99232-3-200722.jpg in Australian Opal\n",
      "Error processing gp99233-3-200722.jpg in Australian Opal\n",
      "Error processing gp99237-3-200722.jpg in Australian Opal\n",
      "Error processing gp62919-1-080521.jpg in Blue Sapphire (Neelam)\n",
      "Error processing gp100335-3-130722.jpg in Chrysoberyl Cats Eye (Lehsunia)\n",
      "Error processing 3.jpg in Chrysoberyl Cats Eye (Lehsunia)\n",
      "Error processing gp100335-2-130722.jpg in Chrysoberyl Cats Eye (Lehsunia)\n",
      "Error processing gp100336-1-130722.jpg in Chrysoberyl Cats Eye (Lehsunia)\n",
      "Error processing gp100336-3-130722.jpg in Chrysoberyl Cats Eye (Lehsunia)\n",
      "Error processing gp100335-1-130722.jpg in Chrysoberyl Cats Eye (Lehsunia)\n",
      "Error processing gp100337-1-130722.jpg in Chrysoberyl Cats Eye (Lehsunia)\n",
      "Error processing gp100336-2-130722.jpg in Chrysoberyl Cats Eye (Lehsunia)\n",
      "Error processing gp100337-2-130722.jpg in Chrysoberyl Cats Eye (Lehsunia)\n",
      "Error processing gp100337-3-130722.jpg in Chrysoberyl Cats Eye (Lehsunia)Error processing gp102050-1-170922.jpg in Chrysoberyl Cats Eye (Lehsunia)\n",
      "Error processing gp102050-2-170922.jpg in Chrysoberyl Cats Eye (Lehsunia)\n",
      "Error processing gp102050-3-170922.jpg in Chrysoberyl Cats Eye (Lehsunia)\n",
      "\n",
      "Error processing gp102051-1-170922.jpg in Chrysoberyl Cats Eye (Lehsunia)\n",
      "Error processing gp102051-3-170922.jpg in Chrysoberyl Cats Eye (Lehsunia)\n",
      "Error processing gp102052-2-170922.jpg in Chrysoberyl Cats Eye (Lehsunia)\n",
      "Error processing gp102052-1-170922.jpg in Chrysoberyl Cats Eye (Lehsunia)\n",
      "Error processing gp102053-1-170922.jpg in Chrysoberyl Cats Eye (Lehsunia)\n",
      "Error processing gp102053-2-170922.jpg in Chrysoberyl Cats Eye (Lehsunia)\n",
      "Error processing gp102051-2-170922.jpg in Chrysoberyl Cats Eye (Lehsunia)\n",
      "Error processing gp102054-1-170922.jpg in Chrysoberyl Cats Eye (Lehsunia)\n",
      "Error processing gp102054-3-170922.jpg in Chrysoberyl Cats Eye (Lehsunia)\n",
      "Error processing gp102053-3-170922.jpg in Chrysoberyl Cats Eye (Lehsunia)\n",
      "Error processing gp103477-1-020922.jpg in Chrysoberyl Cats Eye (Lehsunia)\n",
      "Error processing gp102052-3-170922.jpg in Chrysoberyl Cats Eye (Lehsunia)\n",
      "Error processing gp103477-2-020922.jpg in Chrysoberyl Cats Eye (Lehsunia)\n",
      "Error processing gp103477-3-020922.jpg in Chrysoberyl Cats Eye (Lehsunia)\n",
      "Error processing gp102054-2-170922.jpg in Chrysoberyl Cats Eye (Lehsunia)\n",
      "Error processing gp103478-1-020922.jpg in Chrysoberyl Cats Eye (Lehsunia)\n",
      "Error processing gp103478-2-020922.jpg in Chrysoberyl Cats Eye (Lehsunia)\n",
      "Error processing gp103478-3-020922.jpg in Chrysoberyl Cats Eye (Lehsunia)\n",
      "Error processing gp103480-1-020922.jpg in Chrysoberyl Cats Eye (Lehsunia)\n",
      "Error processing gp103479-2-020922.jpg in Chrysoberyl Cats Eye (Lehsunia)\n",
      "Error processing gp103479-3-020922.jpg in Chrysoberyl Cats Eye (Lehsunia)\n",
      "Error processing gp103480-3-020922.jpg in Chrysoberyl Cats Eye (Lehsunia)\n",
      "Error processing gp103481-1-020922.jpg in Chrysoberyl Cats Eye (Lehsunia)\n",
      "Error processing gp103480-2-020922.jpg in Chrysoberyl Cats Eye (Lehsunia)\n",
      "Error processing gp103481-2-020922.jpg in Chrysoberyl Cats Eye (Lehsunia)\n",
      "Error processing gp103481-3-020922.jpg in Chrysoberyl Cats Eye (Lehsunia)\n",
      "Error processing gp103482-1-020922.jpg in Chrysoberyl Cats Eye (Lehsunia)\n",
      "Error processing gp103482-3-020922.jpg in Chrysoberyl Cats Eye (Lehsunia)\n",
      "Error processing gp103482-2-020922.jpg in Chrysoberyl Cats Eye (Lehsunia)\n",
      "Error processing gp103479-1-020922.jpg in Chrysoberyl Cats Eye (Lehsunia)\n",
      "Error processing gp103483-1-020922.jpg in Chrysoberyl Cats Eye (Lehsunia)\n",
      "Error processing gp103483-2-020922.jpg in Chrysoberyl Cats Eye (Lehsunia)\n",
      "Error processing gp103483-3-020922.jpg in Chrysoberyl Cats Eye (Lehsunia)\n",
      "Error processing gp103484-2-020922.jpg in Chrysoberyl Cats Eye (Lehsunia)\n",
      "Error processing gp103484-1-020922.jpg in Chrysoberyl Cats Eye (Lehsunia)\n",
      "Error processing gp103484-3-020922.jpg in Chrysoberyl Cats Eye (Lehsunia)\n",
      "Error processing gp103485-3-020922.jpg in Chrysoberyl Cats Eye (Lehsunia)\n",
      "Error processing gp103485-2-020922.jpg in Chrysoberyl Cats Eye (Lehsunia)\n",
      "Error processing gp103485-1-020922.jpg in Chrysoberyl Cats Eye (Lehsunia)\n",
      "Error processing gp103486-2-020922.jpg in Chrysoberyl Cats Eye (Lehsunia)\n",
      "Error processing gp103486-3-020922.jpg in Chrysoberyl Cats Eye (Lehsunia)\n",
      "Error processing gp103486-1-020922.jpg in Chrysoberyl Cats Eye (Lehsunia)\n",
      "Error processing gp103487-1-020922.jpg in Chrysoberyl Cats Eye (Lehsunia)\n",
      "Error processing gp103487-2-020922.jpg in Chrysoberyl Cats Eye (Lehsunia)\n",
      "Error processing gp103487-3-020922.jpg in Chrysoberyl Cats Eye (Lehsunia)\n",
      "Error processing gp103488-1-020922.jpg in Chrysoberyl Cats Eye (Lehsunia)\n",
      "Error processing gp103488-2-020922.jpg in Chrysoberyl Cats Eye (Lehsunia)\n",
      "Error processing gp103488-3-020922.jpg in Chrysoberyl Cats Eye (Lehsunia)\n",
      "Error processing gp103489-1-020922.jpg in Chrysoberyl Cats Eye (Lehsunia)\n",
      "Error processing gp103489-2-020922.jpg in Chrysoberyl Cats Eye (Lehsunia)\n",
      "Error processing gp103489-3-020922.jpg in Chrysoberyl Cats Eye (Lehsunia)\n",
      "Error processing gp103510-1-230922.jpg in Chrysoberyl Cats Eye (Lehsunia)\n",
      "Error processing gp103510-2-230922.jpg in Chrysoberyl Cats Eye (Lehsunia)\n",
      "Error processing gp103510-3-230922.jpg in Chrysoberyl Cats Eye (Lehsunia)\n",
      "Error processing gp103511-1-220922.jpg in Chrysoberyl Cats Eye (Lehsunia)\n",
      "Error processing gp103511-3-220922.jpg in Chrysoberyl Cats Eye (Lehsunia)\n",
      "Error processing gp103511-2-220922.jpg in Chrysoberyl Cats Eye (Lehsunia)\n",
      "Error processing gp104156-1-220922.jpg in Chrysoberyl Cats Eye (Lehsunia)\n",
      "Error processing gp104156-2-220922.jpg in Chrysoberyl Cats Eye (Lehsunia)\n",
      "Error processing gp104156-3-220922.jpg in Chrysoberyl Cats Eye (Lehsunia)\n",
      "Error processing gp104157-3-151022.jpg in Chrysoberyl Cats Eye (Lehsunia)\n",
      "Error processing gp104157-2-151022.jpg in Chrysoberyl Cats Eye (Lehsunia)\n",
      "Error processing gp104158-1-220922.jpg in Chrysoberyl Cats Eye (Lehsunia)\n",
      "Error processing gp104158-2-220922.jpg in Chrysoberyl Cats Eye (Lehsunia)\n",
      "Error processing gp104158-3-220922.jpg in Chrysoberyl Cats Eye (Lehsunia)\n",
      "Error processing gp104157-1-151022.jpg in Chrysoberyl Cats Eye (Lehsunia)\n",
      "Error processing gp104159-3-220922.jpg in Chrysoberyl Cats Eye (Lehsunia)\n",
      "Error processing gp104159-2-220922.jpg in Chrysoberyl Cats Eye (Lehsunia)\n",
      "Error processing gp104159-1-220922.jpg in Chrysoberyl Cats Eye (Lehsunia)\n",
      "Error processing gp104160-1-220922.jpg in Chrysoberyl Cats Eye (Lehsunia)\n",
      "Error processing gp104160-3-220922.jpg in Chrysoberyl Cats Eye (Lehsunia)\n",
      "Error processing gp104161-1-230922.jpg in Chrysoberyl Cats Eye (Lehsunia)\n",
      "Error processing gp104162-1-220922.jpg in Chrysoberyl Cats Eye (Lehsunia)\n",
      "Error processing gp104161-3-230922.jpg in Chrysoberyl Cats Eye (Lehsunia)\n",
      "Error processing gp104160-2-220922.jpg in Chrysoberyl Cats Eye (Lehsunia)\n",
      "Error processing gp104162-3-220922.jpg in Chrysoberyl Cats Eye (Lehsunia)\n",
      "Error processing gp104163-2-220922.jpg in Chrysoberyl Cats Eye (Lehsunia)\n",
      "Error processing gp104163-3-220922.jpg in Chrysoberyl Cats Eye (Lehsunia)\n",
      "Error processing gp104205-1-220922.jpg in Chrysoberyl Cats Eye (Lehsunia)\n",
      "Error processing gp104205-2-220922.jpg in Chrysoberyl Cats Eye (Lehsunia)\n",
      "Error processing gp104205-3-220922.jpg in Chrysoberyl Cats Eye (Lehsunia)\n",
      "Error processing gp104206-1-220922.jpg in Chrysoberyl Cats Eye (Lehsunia)\n",
      "Error processing gp104206-2-220922.jpg in Chrysoberyl Cats Eye (Lehsunia)\n",
      "Error processing gp104163-1-220922.jpg in Chrysoberyl Cats Eye (Lehsunia)\n",
      "Error processing gp104207-1-220922.jpg in Chrysoberyl Cats Eye (Lehsunia)\n",
      "Error processing gp104207-2-220922.jpg in Chrysoberyl Cats Eye (Lehsunia)\n",
      "Error processing gp104207-3-220922.jpg in Chrysoberyl Cats Eye (Lehsunia)\n",
      "Error processing gp104208-1-220922.jpg in Chrysoberyl Cats Eye (Lehsunia)\n",
      "Error processing gp104206-3-220922.jpg in Chrysoberyl Cats Eye (Lehsunia)\n",
      "Error processing gp104208-3-220922.jpg in Chrysoberyl Cats Eye (Lehsunia)\n",
      "Error processing gp104209-1-230922.jpg in Chrysoberyl Cats Eye (Lehsunia)\n",
      "Error processing gp104209-2-230922.jpg in Chrysoberyl Cats Eye (Lehsunia)\n",
      "Error processing gp104209-3-230922.jpg in Chrysoberyl Cats Eye (Lehsunia)\n",
      "Error processing gp104162-2-220922.jpg in Chrysoberyl Cats Eye (Lehsunia)\n",
      "Error processing gp104161-2-230922.jpg in Chrysoberyl Cats Eye (Lehsunia)\n",
      "Error processing gp104210-2-220922.jpg in Chrysoberyl Cats Eye (Lehsunia)\n",
      "Error processing gp104210-1-220922.jpg in Chrysoberyl Cats Eye (Lehsunia)\n",
      "Error processing gp104210-3-220922.jpg in Chrysoberyl Cats Eye (Lehsunia)\n",
      "Error processing gp104211-1-230922.jpg in Chrysoberyl Cats Eye (Lehsunia)\n",
      "Error processing gp104516-1-220922.jpg in Chrysoberyl Cats Eye (Lehsunia)\n",
      "Error processing gp104516-2-220922.jpg in Chrysoberyl Cats Eye (Lehsunia)\n",
      "Error processing gp104211-3-230922.jpg in Chrysoberyl Cats Eye (Lehsunia)\n",
      "Error processing gp104208-2-220922.jpg in Chrysoberyl Cats Eye (Lehsunia)\n",
      "Error processing gp104517-2-170922.jpg in Chrysoberyl Cats Eye (Lehsunia)\n",
      "Error processing gp104517-3-170922.jpg in Chrysoberyl Cats Eye (Lehsunia)\n",
      "Error processing gp104518-1-170922.jpg in Chrysoberyl Cats Eye (Lehsunia)\n",
      "Error processing gp104518-2-170922.jpg in Chrysoberyl Cats Eye (Lehsunia)\n",
      "Error processing gp104518-3-170922.jpg in Chrysoberyl Cats Eye (Lehsunia)\n",
      "Error processing gp104519-1-151022.jpg in Chrysoberyl Cats Eye (Lehsunia)\n",
      "Error processing gp104517-1-170922.jpg in Chrysoberyl Cats Eye (Lehsunia)\n",
      "Error processing gp104519-3-151022.jpg in Chrysoberyl Cats Eye (Lehsunia)\n",
      "Error processing gp104520-1-170922.jpg in Chrysoberyl Cats Eye (Lehsunia)\n",
      "Error processing gp104211-2-230922.jpg in Chrysoberyl Cats Eye (Lehsunia)\n",
      "Error processing gp104520-2-170922.jpg in Chrysoberyl Cats Eye (Lehsunia)\n",
      "Error processing gp104519-2-151022.jpg in Chrysoberyl Cats Eye (Lehsunia)\n",
      "Error processing gp104520-3-170922.jpg in Chrysoberyl Cats Eye (Lehsunia)\n",
      "Error processing gp104516-3-220922.jpg in Chrysoberyl Cats Eye (Lehsunia)\n",
      "Error processing gp104522-3-170922.jpg in Chrysoberyl Cats Eye (Lehsunia)\n",
      "Error processing gp104522-2-170922.jpg in Chrysoberyl Cats Eye (Lehsunia)\n",
      "Error processing gp104523-3-170922.jpg in Chrysoberyl Cats Eye (Lehsunia)\n",
      "Error processing gp104522-1-170922.jpg in Chrysoberyl Cats Eye (Lehsunia)\n",
      "Error processing gp104524-2-220922.jpg in Chrysoberyl Cats Eye (Lehsunia)\n",
      "Error processing gp104523-2-170922.jpg in Chrysoberyl Cats Eye (Lehsunia)\n",
      "Error processing gp104523-1-170922.jpg in Chrysoberyl Cats Eye (Lehsunia)\n",
      "Error processing gp104524-1-220922.jpg in Chrysoberyl Cats Eye (Lehsunia)\n",
      "Error processing gp104525-2-220922.jpg in Chrysoberyl Cats Eye (Lehsunia)\n",
      "Error processing gp104525-1-220922.jpg in Chrysoberyl Cats Eye (Lehsunia)\n",
      "Error processing gp104524-3-220922.jpg in Chrysoberyl Cats Eye (Lehsunia)\n",
      "Error processing gp104526-2-220922.jpg in Chrysoberyl Cats Eye (Lehsunia)\n",
      "Error processing gp104526-1-220922.jpg in Chrysoberyl Cats Eye (Lehsunia)\n",
      "Error processing gp104525-3-220922.jpg in Chrysoberyl Cats Eye (Lehsunia)\n",
      "Error processing gp104527-2-170922.jpg in Chrysoberyl Cats Eye (Lehsunia)\n",
      "Error processing gp104527-1-170922.jpg in Chrysoberyl Cats Eye (Lehsunia)\n",
      "Error processing gp104526-3-220922.jpg in Chrysoberyl Cats Eye (Lehsunia)\n",
      "Error processing gp104528-2-170922.jpg in Chrysoberyl Cats Eye (Lehsunia)\n",
      "Error processing gp104528-1-170922.jpg in Chrysoberyl Cats Eye (Lehsunia)\n",
      "Error processing gp104529-1-170922.jpg in Chrysoberyl Cats Eye (Lehsunia)\n",
      "Error processing gp104529-3-170922.jpg in Chrysoberyl Cats Eye (Lehsunia)\n",
      "Error processing gp104529-2-170922.jpg in Chrysoberyl Cats Eye (Lehsunia)\n",
      "Error processing gp104527-3-170922.jpg in Chrysoberyl Cats Eye (Lehsunia)\n",
      "Error processing gp104528-3-170922.jpg in Chrysoberyl Cats Eye (Lehsunia)\n",
      "Error processing gp104530-2-170922.jpg in Chrysoberyl Cats Eye (Lehsunia)\n",
      "Error processing gp104531-1-170922.jpg in Chrysoberyl Cats Eye (Lehsunia)\n",
      "Error processing gp104530-3-170922.jpg in Chrysoberyl Cats Eye (Lehsunia)\n",
      "Error processing gp104531-3-170922.jpg in Chrysoberyl Cats Eye (Lehsunia)\n",
      "Error processing gp104532-1-230922.jpg in Chrysoberyl Cats Eye (Lehsunia)\n",
      "Error processing gp104530-1-170922.jpg in Chrysoberyl Cats Eye (Lehsunia)\n",
      "Error processing gp104531-2-170922.jpg in Chrysoberyl Cats Eye (Lehsunia)\n",
      "Error processing gp104532-3-230922.jpg in Chrysoberyl Cats Eye (Lehsunia)\n",
      "Error processing gp104532-2-230922.jpg in Chrysoberyl Cats Eye (Lehsunia)\n",
      "Error processing gp104533-3-170922.jpg in Chrysoberyl Cats Eye (Lehsunia)\n",
      "Error processing gp104533-1-170922.jpg in Chrysoberyl Cats Eye (Lehsunia)\n",
      "Error processing gp104534-1-170922.jpg in Chrysoberyl Cats Eye (Lehsunia)\n",
      "Error processing gp104534-3-170922.jpg in Chrysoberyl Cats Eye (Lehsunia)\n",
      "Error processing gp104534-2-170922.jpg in Chrysoberyl Cats Eye (Lehsunia)\n",
      "Error processing gp104535-1-170922.jpg in Chrysoberyl Cats Eye (Lehsunia)\n",
      "Error processing gp104535-2-170922.jpg in Chrysoberyl Cats Eye (Lehsunia)\n",
      "Error processing gp104536-1-170922.jpg in Chrysoberyl Cats Eye (Lehsunia)\n",
      "Error processing gp104535-3-170922.jpg in Chrysoberyl Cats Eye (Lehsunia)\n",
      "Error processing gp104533-2-170922.jpg in Chrysoberyl Cats Eye (Lehsunia)\n",
      "Error processing gp15195-1-210521.jpg in Chrysoberyl Cats Eye (Lehsunia)\n",
      "Error processing gp104536-2-170922.jpg in Chrysoberyl Cats Eye (Lehsunia)\n",
      "Error processing gp15197-1-210521.jpg in Chrysoberyl Cats Eye (Lehsunia)\n",
      "Error processing gp15195-2-210521.jpg in Chrysoberyl Cats Eye (Lehsunia)\n",
      "Error processing gp15195-3-210521.jpg in Chrysoberyl Cats Eye (Lehsunia)\n",
      "Error processing gp104536-3-170922.jpg in Chrysoberyl Cats Eye (Lehsunia)\n",
      "Error processing gp15197-2-210521.jpg in Chrysoberyl Cats Eye (Lehsunia)\n",
      "Error processing gp15197-3-210521.jpg in Chrysoberyl Cats Eye (Lehsunia)\n",
      "Error processing gp17186-1-141021_1.jpg in Chrysoberyl Cats Eye (Lehsunia)\n",
      "Error processing gp17186-2-141021.jpg in Chrysoberyl Cats Eye (Lehsunia)\n",
      "Error processing gp17187-1-141021.jpg in Chrysoberyl Cats Eye (Lehsunia)\n",
      "Error processing gp17186-3-141021.jpg in Chrysoberyl Cats Eye (Lehsunia)\n",
      "Error processing gp17187-2-141021.jpg in Chrysoberyl Cats Eye (Lehsunia)\n",
      "Error processing gp17187-3-141021.jpg in Chrysoberyl Cats Eye (Lehsunia)\n",
      "Error processing gp17188-1-81021_1.jpg in Chrysoberyl Cats Eye (Lehsunia)\n",
      "Error processing gp17188-2-81021.jpg in Chrysoberyl Cats Eye (Lehsunia)\n",
      "Error processing gp17192-1-210521.jpg in Chrysoberyl Cats Eye (Lehsunia)\n",
      "Error processing gp17192-2-210521.jpg in Chrysoberyl Cats Eye (Lehsunia)\n",
      "Error processing gp17188-2-81021_2.jpg in Chrysoberyl Cats Eye (Lehsunia)\n",
      "Error processing gp17188-3-81021_1.jpg in Chrysoberyl Cats Eye (Lehsunia)\n",
      "Error processing gp17188-3-81021.jpg in Chrysoberyl Cats Eye (Lehsunia)\n",
      "Error processing gp17195-1-141021.jpg in Chrysoberyl Cats Eye (Lehsunia)\n",
      "Error processing gp17192-3-210521.jpg in Chrysoberyl Cats Eye (Lehsunia)\n",
      "Error processing gp17195-3-141021.jpg in Chrysoberyl Cats Eye (Lehsunia)\n",
      "Error processing gp17195-2-141021.jpg in Chrysoberyl Cats Eye (Lehsunia)\n",
      "Error processing gp17209-1-141021.jpg in Chrysoberyl Cats Eye (Lehsunia)\n",
      "Error processing gp17213-2-210521.jpg in Chrysoberyl Cats Eye (Lehsunia)\n",
      "Error processing gp17209-2-141021.jpg in Chrysoberyl Cats Eye (Lehsunia)\n",
      "Error processing gp17213-1-210521.jpg in Chrysoberyl Cats Eye (Lehsunia)\n",
      "Error processing gp17213-3-210521.jpg in Chrysoberyl Cats Eye (Lehsunia)\n",
      "Error processing gp17217-1-100322.jpg in Chrysoberyl Cats Eye (Lehsunia)\n",
      "Error processing gp17217-2-100322.jpg in Chrysoberyl Cats Eye (Lehsunia)\n",
      "Error processing gp17209-3-141021.jpg in Chrysoberyl Cats Eye (Lehsunia)\n",
      "Error processing gp17217-3-100322.jpg in Chrysoberyl Cats Eye (Lehsunia)\n",
      "Error processing gp17218-1-100322.jpg in Chrysoberyl Cats Eye (Lehsunia)\n",
      "Error processing gp17221-1-100322.jpg in Chrysoberyl Cats Eye (Lehsunia)\n",
      "Error processing gp17218-2-100322.jpg in Chrysoberyl Cats Eye (Lehsunia)\n",
      "Error processing gp17218-3-100322.jpg in Chrysoberyl Cats Eye (Lehsunia)\n",
      "Error processing gp17221-3-100322.jpg in Chrysoberyl Cats Eye (Lehsunia)\n",
      "Error processing gp17224-1-100322.jpg in Chrysoberyl Cats Eye (Lehsunia)\n",
      "Error processing gp17224-2-100322.jpg in Chrysoberyl Cats Eye (Lehsunia)\n",
      "Error processing gp17224-3-100322.jpg in Chrysoberyl Cats Eye (Lehsunia)\n",
      "Error processing gp17226-2-100322.jpg in Chrysoberyl Cats Eye (Lehsunia)\n",
      "Error processing gp17228-1-100322.jpg in Chrysoberyl Cats Eye (Lehsunia)\n",
      "Error processing gp17226-1-100322.jpg in Chrysoberyl Cats Eye (Lehsunia)\n",
      "Error processing gp17221-2-100322.jpg in Chrysoberyl Cats Eye (Lehsunia)\n",
      "Error processing gp17226-3-100322.jpg in Chrysoberyl Cats Eye (Lehsunia)\n",
      "Error processing gp17228-3-100322.jpg in Chrysoberyl Cats Eye (Lehsunia)\n",
      "Error processing gp17231-2-100322.jpg in Chrysoberyl Cats Eye (Lehsunia)\n",
      "Error processing gp17231-3-100322.jpg in Chrysoberyl Cats Eye (Lehsunia)\n",
      "Error processing gp17228-2-100322.jpg in Chrysoberyl Cats Eye (Lehsunia)\n",
      "Error processing gp17231-1-100322.jpg in Chrysoberyl Cats Eye (Lehsunia)\n",
      "Error processing gp17232-1-100322.jpg in Chrysoberyl Cats Eye (Lehsunia)\n",
      "Error processing gp17232-3-100322.jpg in Chrysoberyl Cats Eye (Lehsunia)\n",
      "Error processing gp17232-2-100322.jpg in Chrysoberyl Cats Eye (Lehsunia)\n",
      "Error processing gp22252-1-210521.jpg in Chrysoberyl Cats Eye (Lehsunia)\n",
      "Error processing gp22252-3-210521.jpg in Chrysoberyl Cats Eye (Lehsunia)\n",
      "Error processing gp22268-3-210521.jpg in Chrysoberyl Cats Eye (Lehsunia)\n",
      "Error processing gp22268-2-210521.jpg in Chrysoberyl Cats Eye (Lehsunia)\n",
      "Error processing gp22252-2-210521.jpg in Chrysoberyl Cats Eye (Lehsunia)\n",
      "Error processing gp22594-2-210521.jpg in Chrysoberyl Cats Eye (Lehsunia)\n",
      "Error processing gp22594-1-210521.jpg in Chrysoberyl Cats Eye (Lehsunia)\n",
      "Error processing gp39730-2-210521.jpg in Chrysoberyl Cats Eye (Lehsunia)\n",
      "Error processing gp39730-AGR-Certified-190701.jpg in Chrysoberyl Cats Eye (Lehsunia)\n",
      "Error processing gp22268-1-210521.jpg in Chrysoberyl Cats Eye (Lehsunia)\n",
      "Error processing gp22594-3-210521.jpg in Chrysoberyl Cats Eye (Lehsunia)\n",
      "Error processing gp39738-1-210521.jpg in Chrysoberyl Cats Eye (Lehsunia)\n",
      "Error processing gp39738-AGR-Certified-190701.jpg in Chrysoberyl Cats Eye (Lehsunia)\n",
      "Error processing gp39739-2-210521.jpg in Chrysoberyl Cats Eye (Lehsunia)\n",
      "Error processing gp39738-2-210521.jpg in Chrysoberyl Cats Eye (Lehsunia)\n",
      "Error processing gp39739-AGR-Certified-190701.jpg in Chrysoberyl Cats Eye (Lehsunia)\n",
      "Error processing gp39740-2-210521.jpg in Chrysoberyl Cats Eye (Lehsunia)\n",
      "Error processing gp39740-AGR-Certified-190701.jpg in Chrysoberyl Cats Eye (Lehsunia)\n",
      "Error processing gp39741-1-210521.jpg in Chrysoberyl Cats Eye (Lehsunia)\n",
      "Error processing gp39739-1-210521.jpg in Chrysoberyl Cats Eye (Lehsunia)\n",
      "Error processing gp39741-3-210521.jpg in Chrysoberyl Cats Eye (Lehsunia)\n",
      "Error processing gp39740-1-210521.jpg in Chrysoberyl Cats Eye (Lehsunia)\n",
      "Error processing gp39741-2-210521.jpg in Chrysoberyl Cats Eye (Lehsunia)\n",
      "Error processing gp39741-AGR-Certified-190701.jpg in Chrysoberyl Cats Eye (Lehsunia)\n",
      "Error processing gp39744-1-210521.jpg in Chrysoberyl Cats Eye (Lehsunia)\n",
      "Error processing gp39744-AGR-Certified-190701.jpg in Chrysoberyl Cats Eye (Lehsunia)\n",
      "Error processing gp39730-1-210521.jpg in Chrysoberyl Cats Eye (Lehsunia)\n",
      "Error processing gp39746-2-210521.jpg in Chrysoberyl Cats Eye (Lehsunia)\n",
      "Error processing gp39744-2-210521.jpg in Chrysoberyl Cats Eye (Lehsunia)\n",
      "Error processing gp39746-1-210521.jpg in Chrysoberyl Cats Eye (Lehsunia)\n",
      "Error processing gp39749-1-210521.jpg in Chrysoberyl Cats Eye (Lehsunia)\n",
      "Error processing gp39746-AGR-Certified-190701.jpg in Chrysoberyl Cats Eye (Lehsunia)\n",
      "Error processing gp39749-AGR-Certified-190701.jpg in Chrysoberyl Cats Eye (Lehsunia)\n",
      "Error processing gp39750-1-210521.jpg in Chrysoberyl Cats Eye (Lehsunia)\n",
      "Error processing gp39749-2-210521.jpg in Chrysoberyl Cats Eye (Lehsunia)\n",
      "Error processing gp39752-2-210521.jpg in Chrysoberyl Cats Eye (Lehsunia)\n",
      "Error processing gp39752-3-210521.jpg in Chrysoberyl Cats Eye (Lehsunia)\n",
      "Error processing gp39752-AGR-Certified-190701.jpg in Chrysoberyl Cats Eye (Lehsunia)\n",
      "Error processing gp39753-1-210521.jpg in Chrysoberyl Cats Eye (Lehsunia)\n",
      "Error processing gp39753-2-210521.jpg in Chrysoberyl Cats Eye (Lehsunia)\n",
      "Error processing gp39750-AGR-Certified-190701.jpg in Chrysoberyl Cats Eye (Lehsunia)\n",
      "Error processing gp39750-2-210521.jpg in Chrysoberyl Cats Eye (Lehsunia)\n",
      "Error processing gp41082-1-210521.jpg in Chrysoberyl Cats Eye (Lehsunia)\n",
      "Error processing gp41082-2-210521.jpg in Chrysoberyl Cats Eye (Lehsunia)\n",
      "Error processing gp39752-1-210521.jpg in Chrysoberyl Cats Eye (Lehsunia)\n",
      "Error processing gp41082-3-210521.jpg in Chrysoberyl Cats Eye (Lehsunia)\n",
      "Error processing gp41082-AGR-Certified-190701.jpg in Chrysoberyl Cats Eye (Lehsunia)\n",
      "Error processing gp39753-AGR-Certified-190701.jpg in Chrysoberyl Cats Eye (Lehsunia)\n",
      "Error processing gp41084-1-210521.jpg in Chrysoberyl Cats Eye (Lehsunia)\n",
      "Error processing gp41091-1-210521.jpg in Chrysoberyl Cats Eye (Lehsunia)\n",
      "Error processing gp41084-AGR-Certified-190701.jpg in Chrysoberyl Cats Eye (Lehsunia)\n",
      "Error processing gp41084-2-210521.jpg in Chrysoberyl Cats Eye (Lehsunia)\n",
      "Error processing gp41084-3-210521.jpg in Chrysoberyl Cats Eye (Lehsunia)\n",
      "Error processing gp41091-3-210521.jpg in Chrysoberyl Cats Eye (Lehsunia)\n",
      "Error processing gp41091-2-210521.jpg in Chrysoberyl Cats Eye (Lehsunia)\n",
      "Error processing gp41091-AGR-Certified-190701.jpg in Chrysoberyl Cats Eye (Lehsunia)\n",
      "Error processing gp41094-1-210521.jpg in Chrysoberyl Cats Eye (Lehsunia)\n",
      "Error processing gp41094-2-210521.jpg in Chrysoberyl Cats Eye (Lehsunia)\n",
      "Error processing gp41094-3-210521.jpg in Chrysoberyl Cats Eye (Lehsunia)\n",
      "Error processing gp41100-1-191020.jpg in Chrysoberyl Cats Eye (Lehsunia)\n",
      "Error processing gp41094-AGR-Certified-190701.jpg in Chrysoberyl Cats Eye (Lehsunia)\n",
      "Error processing gp41100-2-191020.jpg in Chrysoberyl Cats Eye (Lehsunia)\n",
      "Error processing gp41100-3-191020.jpg in Chrysoberyl Cats Eye (Lehsunia)\n",
      "Error processing gp41106-1-210521.jpg in Chrysoberyl Cats Eye (Lehsunia)\n",
      "Error processing gp41106-2-210521.jpg in Chrysoberyl Cats Eye (Lehsunia)\n",
      "Error processing gp41106-3-210521.jpg in Chrysoberyl Cats Eye (Lehsunia)\n",
      "Error processing gp41107-1-210521.jpg in Chrysoberyl Cats Eye (Lehsunia)\n",
      "Error processing gp41106-AGR-Certified-190701.jpg in Chrysoberyl Cats Eye (Lehsunia)\n",
      "Error processing gp41107-2-210521.jpg in Chrysoberyl Cats Eye (Lehsunia)\n",
      "Error processing gp41109-1-210521.jpg in Chrysoberyl Cats Eye (Lehsunia)\n",
      "Error processing gp41109-2-210521.jpg in Chrysoberyl Cats Eye (Lehsunia)\n",
      "Error processing gp41107-3-210521.jpg in Chrysoberyl Cats Eye (Lehsunia)\n",
      "Error processing gp41109-3-210521.jpg in Chrysoberyl Cats Eye (Lehsunia)\n",
      "Error processing gp41107-AGR-Certified-190701.jpg in Chrysoberyl Cats Eye (Lehsunia)\n",
      "Error processing gp41114-1-210521.jpg in Chrysoberyl Cats Eye (Lehsunia)\n",
      "Error processing gp41109-AGR-Certified-190701.jpg in Chrysoberyl Cats Eye (Lehsunia)\n",
      "Error processing gp41114-2-210521.jpg in Chrysoberyl Cats Eye (Lehsunia)\n",
      "Error processing gp41114-3-210521.jpg in Chrysoberyl Cats Eye (Lehsunia)\n",
      "Error processing gp41114-AGR-Certified-190701.jpg in Chrysoberyl Cats Eye (Lehsunia)\n",
      "Error processing gp41117-1-210521.jpg in Chrysoberyl Cats Eye (Lehsunia)\n",
      "Error processing gp41117-3-210521.jpg in Chrysoberyl Cats Eye (Lehsunia)\n",
      "Error processing gp41117-2-210521.jpg in Chrysoberyl Cats Eye (Lehsunia)\n",
      "Error processing gp41117-AGR-Certified-190701.jpg in Chrysoberyl Cats Eye (Lehsunia)\n",
      "Error processing gp46244-1-210521.jpg in Chrysoberyl Cats Eye (Lehsunia)\n",
      "Error processing gp46244-2-210521.jpg in Chrysoberyl Cats Eye (Lehsunia)\n",
      "Error processing gp46244-3-210521.jpg in Chrysoberyl Cats Eye (Lehsunia)\n",
      "Error processing gp46247-1-210521.jpg in Chrysoberyl Cats Eye (Lehsunia)\n",
      "Error processing gp46247-2-210521.jpg in Chrysoberyl Cats Eye (Lehsunia)\n",
      "Error processing gp46247-3-210521.jpg in Chrysoberyl Cats Eye (Lehsunia)\n",
      "Error processing gp46250-1-210521.jpg in Chrysoberyl Cats Eye (Lehsunia)\n",
      "Error processing gp46250-2-210521.jpg in Chrysoberyl Cats Eye (Lehsunia)\n",
      "Error processing gp46250-3-210521.jpg in Chrysoberyl Cats Eye (Lehsunia)\n",
      "Error processing gp46253-1-210521.jpg in Chrysoberyl Cats Eye (Lehsunia)\n",
      "Error processing gp46253-2-210521.jpg in Chrysoberyl Cats Eye (Lehsunia)\n",
      "Error processing gp46253-3-210521.jpg in Chrysoberyl Cats Eye (Lehsunia)\n",
      "Error processing gp46257-2-210521.jpg in Chrysoberyl Cats Eye (Lehsunia)\n",
      "Error processing gp46257-1-210521.jpg in Chrysoberyl Cats Eye (Lehsunia)\n",
      "Error processing gp46258-1-210521.jpg in Chrysoberyl Cats Eye (Lehsunia)\n",
      "Error processing gp46258-2-210521.jpg in Chrysoberyl Cats Eye (Lehsunia)\n",
      "Error processing gp46257-3-210521.jpg in Chrysoberyl Cats Eye (Lehsunia)\n",
      "Error processing gp46261-1-210521.jpg in Chrysoberyl Cats Eye (Lehsunia)\n",
      "Error processing gp46261-2-210521.jpg in Chrysoberyl Cats Eye (Lehsunia)\n",
      "Error processing gp46258-3-210521.jpg in Chrysoberyl Cats Eye (Lehsunia)\n",
      "Error processing gp46261-3-210521.jpg in Chrysoberyl Cats Eye (Lehsunia)\n",
      "Error processing gp46264-1-210521.jpg in Chrysoberyl Cats Eye (Lehsunia)\n",
      "Error processing gp46264-2-210521.jpg in Chrysoberyl Cats Eye (Lehsunia)\n",
      "Error processing gp46264-3-210521.jpg in Chrysoberyl Cats Eye (Lehsunia)\n",
      "Error processing gp46266-1-210521.jpg in Chrysoberyl Cats Eye (Lehsunia)\n",
      "Error processing gp46266-2-210521.jpg in Chrysoberyl Cats Eye (Lehsunia)\n",
      "Error processing gp46267-1-210521.jpg in Chrysoberyl Cats Eye (Lehsunia)\n",
      "Error processing gp46266-3-210521.jpg in Chrysoberyl Cats Eye (Lehsunia)\n",
      "Error processing gp46267-3-210521.jpg in Chrysoberyl Cats Eye (Lehsunia)\n",
      "Error processing gp46267-2-210521.jpg in Chrysoberyl Cats Eye (Lehsunia)\n",
      "Error processing gp46966-3-210521.jpg in Chrysoberyl Cats Eye (Lehsunia)\n",
      "Error processing gp46966-1-210521.jpg in Chrysoberyl Cats Eye (Lehsunia)\n",
      "Error processing gp46966-2-210521.jpg in Chrysoberyl Cats Eye (Lehsunia)\n",
      "Error processing gp47473-1-210521.jpg in Chrysoberyl Cats Eye (Lehsunia)\n",
      "Error processing gp47473-3-210521.jpg in Chrysoberyl Cats Eye (Lehsunia)\n",
      "Error processing gp47475-1-210521.jpg in Chrysoberyl Cats Eye (Lehsunia)\n",
      "Error processing gp47475-2-210521.jpg in Chrysoberyl Cats Eye (Lehsunia)\n",
      "Error processing gp47473-2-210521.jpg in Chrysoberyl Cats Eye (Lehsunia)\n",
      "Error processing gp47475-3-210521.jpg in Chrysoberyl Cats Eye (Lehsunia)\n",
      "Error processing gp47476-1-210521.jpg in Chrysoberyl Cats Eye (Lehsunia)\n",
      "Error processing gp47476-2-210521.jpg in Chrysoberyl Cats Eye (Lehsunia)\n",
      "Error processing gp47476-3-210521.jpg in Chrysoberyl Cats Eye (Lehsunia)\n",
      "Error processing gp47477-1-051120.jpg in Chrysoberyl Cats Eye (Lehsunia)\n",
      "Error processing gp47477-2-051120.jpg in Chrysoberyl Cats Eye (Lehsunia)\n",
      "Error processing gp47477-3-051120.jpg in Chrysoberyl Cats Eye (Lehsunia)\n",
      "Error processing gp47478-1-210521.jpg in Chrysoberyl Cats Eye (Lehsunia)\n",
      "Error processing gp47478-2-210521.jpg in Chrysoberyl Cats Eye (Lehsunia)\n",
      "Error processing gp47479-1-210521.jpg in Chrysoberyl Cats Eye (Lehsunia)\n",
      "Error processing gp47478-3-210521.jpg in Chrysoberyl Cats Eye (Lehsunia)\n",
      "Error processing gp47479-3-210521.jpg in Chrysoberyl Cats Eye (Lehsunia)\n",
      "Error processing gp47481-1-210521.jpg in Chrysoberyl Cats Eye (Lehsunia)\n",
      "Error processing gp47481-2-210521.jpg in Chrysoberyl Cats Eye (Lehsunia)\n",
      "Error processing gp47481-3-210521.jpg in Chrysoberyl Cats Eye (Lehsunia)\n",
      "Error processing gp47479-2-210521.jpg in Chrysoberyl Cats Eye (Lehsunia)\n",
      "Error processing gp47890-1-210521.jpg in Chrysoberyl Cats Eye (Lehsunia)\n",
      "Error processing gp47890-3-210521.jpg in Chrysoberyl Cats Eye (Lehsunia)\n",
      "Error processing gp47890-2-210521.jpg in Chrysoberyl Cats Eye (Lehsunia)\n",
      "Error processing gp47891-1-210521.jpg in Chrysoberyl Cats Eye (Lehsunia)\n",
      "Error processing gp47891-2-210521.jpg in Chrysoberyl Cats Eye (Lehsunia)\n",
      "Error processing gp47892-2-210521.jpg in Chrysoberyl Cats Eye (Lehsunia)\n",
      "Error processing gp47891-3-210521.jpg in Chrysoberyl Cats Eye (Lehsunia)\n",
      "Error processing gp47892-1-210521.jpg in Chrysoberyl Cats Eye (Lehsunia)\n",
      "Error processing gp47892-3-210521.jpg in Chrysoberyl Cats Eye (Lehsunia)\n",
      "Error processing gp52244-1-210521.jpg in Chrysoberyl Cats Eye (Lehsunia)\n",
      "Error processing gp52244-2-210521.jpg in Chrysoberyl Cats Eye (Lehsunia)\n",
      "Error processing gp52244-3-210521.jpg in Chrysoberyl Cats Eye (Lehsunia)\n",
      "Error processing gp47893-3-210521.jpg in Chrysoberyl Cats Eye (Lehsunia)\n",
      "Error processing gp47893-2-210521.jpg in Chrysoberyl Cats Eye (Lehsunia)\n",
      "Error processing gp52248-2-210521.jpg in Chrysoberyl Cats Eye (Lehsunia)\n",
      "Error processing gp47893-1-210521.jpg in Chrysoberyl Cats Eye (Lehsunia)\n",
      "Error processing gp52248-3-210521.jpg in Chrysoberyl Cats Eye (Lehsunia)\n",
      "Error processing gp52250-1-210521.jpg in Chrysoberyl Cats Eye (Lehsunia)\n",
      "Error processing gp52250-2-210521.jpg in Chrysoberyl Cats Eye (Lehsunia)\n",
      "Error processing gp52250-3-210521.jpg in Chrysoberyl Cats Eye (Lehsunia)\n",
      "Error processing gp52264-1-210521.jpg in Chrysoberyl Cats Eye (Lehsunia)\n",
      "Error processing gp52264-2-210521.jpg in Chrysoberyl Cats Eye (Lehsunia)\n",
      "Error processing gp52265-1-210521.jpg in Chrysoberyl Cats Eye (Lehsunia)\n",
      "Error processing gp52265-3-210521.jpg in Chrysoberyl Cats Eye (Lehsunia)\n",
      "Error processing gp52268-1.jpg in Chrysoberyl Cats Eye (Lehsunia)\n",
      "Error processing gp52268-2.jpg in Chrysoberyl Cats Eye (Lehsunia)\n",
      "Error processing gp52268-3.jpg in Chrysoberyl Cats Eye (Lehsunia)\n",
      "Error processing gp52269-1-210521.jpg in Chrysoberyl Cats Eye (Lehsunia)\n",
      "Error processing gp52269-2-210521.jpg in Chrysoberyl Cats Eye (Lehsunia)\n",
      "Error processing gp52269-3-210521.jpg in Chrysoberyl Cats Eye (Lehsunia)\n",
      "Error processing gp52271-1-210521.jpg in Chrysoberyl Cats Eye (Lehsunia)\n",
      "Error processing gp52271-2-210521.jpg in Chrysoberyl Cats Eye (Lehsunia)\n",
      "Error processing gp52265-2-210521.jpg in Chrysoberyl Cats Eye (Lehsunia)\n",
      "Error processing gp52275-1-210521.jpg in Chrysoberyl Cats Eye (Lehsunia)\n",
      "Error processing gp52271-3-210521.jpg in Chrysoberyl Cats Eye (Lehsunia)\n",
      "Error processing gp52275-3-210521.jpg in Chrysoberyl Cats Eye (Lehsunia)\n",
      "Error processing gp54498-1-210521.jpg in Chrysoberyl Cats Eye (Lehsunia)\n",
      "Error processing gp54498-2-210521.jpg in Chrysoberyl Cats Eye (Lehsunia)\n",
      "Error processing gp54498-3-210521.jpg in Chrysoberyl Cats Eye (Lehsunia)\n",
      "Error processing gp52248-1-210521.jpg in Chrysoberyl Cats Eye (Lehsunia)\n",
      "Error processing gp54501-2-210521.jpg in Chrysoberyl Cats Eye (Lehsunia)\n",
      "Error processing gp52264-3-210521.jpg in Chrysoberyl Cats Eye (Lehsunia)\n",
      "Error processing gp54503-1-210521.jpg in Chrysoberyl Cats Eye (Lehsunia)\n",
      "Error processing gp54503-2-210521.jpg in Chrysoberyl Cats Eye (Lehsunia)\n",
      "Error processing gp54503-3-210521.jpg in Chrysoberyl Cats Eye (Lehsunia)\n",
      "Error processing gp54505-1-210521.jpg in Chrysoberyl Cats Eye (Lehsunia)\n",
      "Error processing gp52275-2-210521.jpg in Chrysoberyl Cats Eye (Lehsunia)\n",
      "Error processing gp54501-1-210521.jpg in Chrysoberyl Cats Eye (Lehsunia)\n",
      "Error processing gp54501-3-210521.jpg in Chrysoberyl Cats Eye (Lehsunia)\n",
      "Error processing gp54505-2-210521.jpg in Chrysoberyl Cats Eye (Lehsunia)\n",
      "Error processing gp54505-3-210521.jpg in Chrysoberyl Cats Eye (Lehsunia)\n",
      "Error processing gp54506-1-210521.jpg in Chrysoberyl Cats Eye (Lehsunia)\n",
      "Error processing gp54507-1-210521.jpg in Chrysoberyl Cats Eye (Lehsunia)\n",
      "Error processing gp54507-3-210521.jpg in Chrysoberyl Cats Eye (Lehsunia)\n",
      "Error processing gp54508-1-210521.jpg in Chrysoberyl Cats Eye (Lehsunia)\n",
      "Error processing gp54508-2-210521.jpg in Chrysoberyl Cats Eye (Lehsunia)Error processing gp54506-2-210521.jpg in Chrysoberyl Cats Eye (Lehsunia)\n",
      "Error processing gp54506-3-210521.jpg in Chrysoberyl Cats Eye (Lehsunia)\n",
      "Error processing gp54507-2-210521.jpg in Chrysoberyl Cats Eye (Lehsunia)\n",
      "Error processing gp54508-3-210521.jpg in Chrysoberyl Cats Eye (Lehsunia)\n",
      "\n",
      "Error processing gp54511-2-210521.jpg in Chrysoberyl Cats Eye (Lehsunia)\n",
      "Error processing gp54511-3-210521.jpg in Chrysoberyl Cats Eye (Lehsunia)\n",
      "Error processing gp54511-1-210521.jpg in Chrysoberyl Cats Eye (Lehsunia)\n",
      "Error processing gp54518-2-210521.jpg in Chrysoberyl Cats Eye (Lehsunia)\n",
      "Error processing gp54518-1-210521.jpg in Chrysoberyl Cats Eye (Lehsunia)\n",
      "Error processing gp54597-1-210521.jpg in Chrysoberyl Cats Eye (Lehsunia)\n",
      "Error processing gp54597-3-210521.jpg in Chrysoberyl Cats Eye (Lehsunia)\n",
      "Error processing gp54518-3-210521.jpg in Chrysoberyl Cats Eye (Lehsunia)\n",
      "Error processing gp54597-2-210521.jpg in Chrysoberyl Cats Eye (Lehsunia)\n",
      "Error processing gp54598-2-210521.jpg in Chrysoberyl Cats Eye (Lehsunia)\n",
      "Error processing gp54598-3-210521.jpg in Chrysoberyl Cats Eye (Lehsunia)\n",
      "Error processing gp54599-1-210521.jpg in Chrysoberyl Cats Eye (Lehsunia)\n",
      "Error processing gp54599-2-210521.jpg in Chrysoberyl Cats Eye (Lehsunia)\n",
      "Error processing gp54599-3-210521.jpg in Chrysoberyl Cats Eye (Lehsunia)\n",
      "Error processing gp54600-1-210521.jpg in Chrysoberyl Cats Eye (Lehsunia)\n",
      "Error processing gp54600-2-210521.jpg in Chrysoberyl Cats Eye (Lehsunia)\n",
      "Error processing gp54598-1-210521.jpg in Chrysoberyl Cats Eye (Lehsunia)\n",
      "Error processing gp54600-3-210521.jpg in Chrysoberyl Cats Eye (Lehsunia)\n",
      "Error processing gp54602-1-210521.jpg in Chrysoberyl Cats Eye (Lehsunia)\n",
      "Error processing gp55327-1-210521.jpg in Chrysoberyl Cats Eye (Lehsunia)\n",
      "Error processing gp54602-2-210521.jpg in Chrysoberyl Cats Eye (Lehsunia)\n",
      "Error processing gp55327-2-210521.jpg in Chrysoberyl Cats Eye (Lehsunia)\n",
      "Error processing gp55327-3-210521.jpg in Chrysoberyl Cats Eye (Lehsunia)\n",
      "Error processing gp54602-3-210521.jpg in Chrysoberyl Cats Eye (Lehsunia)\n",
      "Error processing gp55328-3-210521.jpg in Chrysoberyl Cats Eye (Lehsunia)\n",
      "Error processing gp55328-1-210521.jpg in Chrysoberyl Cats Eye (Lehsunia)\n",
      "Error processing gp55328-2-210521.jpg in Chrysoberyl Cats Eye (Lehsunia)\n",
      "Error processing gp55329-1-210521.jpg in Chrysoberyl Cats Eye (Lehsunia)\n",
      "Error processing gp55329-3-210521.jpg in Chrysoberyl Cats Eye (Lehsunia)\n",
      "Error processing gp55329-2-210521.jpg in Chrysoberyl Cats Eye (Lehsunia)\n",
      "Error processing gp55330-2-210521.jpg in Chrysoberyl Cats Eye (Lehsunia)\n",
      "Error processing gp55330-1-210521.jpg in Chrysoberyl Cats Eye (Lehsunia)\n",
      "Error processing gp55331-1-210521.jpg in Chrysoberyl Cats Eye (Lehsunia)\n",
      "Error processing gp55332-1-210521.jpg in Chrysoberyl Cats Eye (Lehsunia)\n",
      "Error processing gp55332-2-210521.jpg in Chrysoberyl Cats Eye (Lehsunia)\n",
      "Error processing gp55332-3-210521.jpg in Chrysoberyl Cats Eye (Lehsunia)\n",
      "Error processing gp55331-2-210521.jpg in Chrysoberyl Cats Eye (Lehsunia)\n",
      "Error processing gp55331-3-210521.jpg in Chrysoberyl Cats Eye (Lehsunia)\n",
      "Error processing gp55333-3-210521.jpg in Chrysoberyl Cats Eye (Lehsunia)\n",
      "Error processing gp55333-2-210521.jpg in Chrysoberyl Cats Eye (Lehsunia)\n",
      "Error processing gp55333-1-210521.jpg in Chrysoberyl Cats Eye (Lehsunia)\n",
      "Error processing gp55334-1-210521.jpg in Chrysoberyl Cats Eye (Lehsunia)\n",
      "Error processing gp55330-3-210521.jpg in Chrysoberyl Cats Eye (Lehsunia)\n",
      "Error processing gp55334-3-210521.jpg in Chrysoberyl Cats Eye (Lehsunia)\n",
      "Error processing gp56718-2-210521.jpg in Chrysoberyl Cats Eye (Lehsunia)\n",
      "Error processing gp56718-3-210521.jpg in Chrysoberyl Cats Eye (Lehsunia)\n",
      "Error processing gp56718-1-210521.jpg in Chrysoberyl Cats Eye (Lehsunia)\n",
      "Error processing gp56721-3-210521.jpg in Chrysoberyl Cats Eye (Lehsunia)\n",
      "Error processing gp57461-1-210521.jpg in Chrysoberyl Cats Eye (Lehsunia)\n",
      "Error processing gp55334-2-210521.jpg in Chrysoberyl Cats Eye (Lehsunia)\n",
      "Error processing gp57461-2-210521.jpg in Chrysoberyl Cats Eye (Lehsunia)\n",
      "Error processing gp56721-1-210521.jpg in Chrysoberyl Cats Eye (Lehsunia)\n",
      "Error processing gp57461-3-210521.jpg in Chrysoberyl Cats Eye (Lehsunia)\n",
      "Error processing gp56721-2-210521.jpg in Chrysoberyl Cats Eye (Lehsunia)\n",
      "Error processing gp57464-1-210521.jpg in Chrysoberyl Cats Eye (Lehsunia)\n",
      "Error processing gp57464-2-210521.jpg in Chrysoberyl Cats Eye (Lehsunia)\n",
      "Error processing gp57464-3-210521.jpg in Chrysoberyl Cats Eye (Lehsunia)\n",
      "Error processing gp57470-1-210521.jpg in Chrysoberyl Cats Eye (Lehsunia)\n",
      "Error processing gp57470-2-210521.jpg in Chrysoberyl Cats Eye (Lehsunia)\n",
      "Error processing gp57469-1-210521.jpg in Chrysoberyl Cats Eye (Lehsunia)\n",
      "Error processing gp57477-1-210521.jpg in Chrysoberyl Cats Eye (Lehsunia)\n",
      "Error processing gp57469-2-210521.jpg in Chrysoberyl Cats Eye (Lehsunia)\n",
      "Error processing gp57469-3-210521.jpg in Chrysoberyl Cats Eye (Lehsunia)\n",
      "Error processing gp57477-2-210521.jpg in Chrysoberyl Cats Eye (Lehsunia)\n",
      "Error processing gp57477-3-210521.jpg in Chrysoberyl Cats Eye (Lehsunia)\n",
      "Error processing gp57480-1-210521.jpg in Chrysoberyl Cats Eye (Lehsunia)\n",
      "Error processing gp57480-2-210521.jpg in Chrysoberyl Cats Eye (Lehsunia)\n",
      "Error processing gp57485-1-210521.jpg in Chrysoberyl Cats Eye (Lehsunia)\n",
      "Error processing gp57485-2-210521.jpg in Chrysoberyl Cats Eye (Lehsunia)\n",
      "Error processing gp57485-3-210521.jpg in Chrysoberyl Cats Eye (Lehsunia)\n",
      "Error processing gp57480-3-210521.jpg in Chrysoberyl Cats Eye (Lehsunia)\n",
      "Error processing gp57489-3-210521.jpg in Chrysoberyl Cats Eye (Lehsunia)\n",
      "Error processing gp57489-2-210521.jpg in Chrysoberyl Cats Eye (Lehsunia)\n",
      "Error processing gp57491-1-210521.jpg in Chrysoberyl Cats Eye (Lehsunia)\n",
      "Error processing gp57489-1-210521.jpg in Chrysoberyl Cats Eye (Lehsunia)\n",
      "Error processing gp57491-2-210521.jpg in Chrysoberyl Cats Eye (Lehsunia)\n",
      "Error processing gp57491-3-210521.jpg in Chrysoberyl Cats Eye (Lehsunia)\n",
      "Error processing gp57493-1-210521.jpg in Chrysoberyl Cats Eye (Lehsunia)\n",
      "Error processing gp57493-2-210521.jpg in Chrysoberyl Cats Eye (Lehsunia)\n",
      "Error processing gp57470-3-210521.jpg in Chrysoberyl Cats Eye (Lehsunia)\n",
      "Error processing gp57496-3-210521.jpg in Chrysoberyl Cats Eye (Lehsunia)\n",
      "Error processing gp57493-3-210521.jpg in Chrysoberyl Cats Eye (Lehsunia)\n",
      "Error processing gp57496-2-210521.jpg in Chrysoberyl Cats Eye (Lehsunia)\n",
      "Error processing gp57501-1-210521.jpg in Chrysoberyl Cats Eye (Lehsunia)\n",
      "Error processing gp57496-1-210521.jpg in Chrysoberyl Cats Eye (Lehsunia)\n",
      "Error processing gp57602-2-190220.jpg in Chrysoberyl Cats Eye (Lehsunia)\n",
      "Error processing gp57501-3-210521.jpg in Chrysoberyl Cats Eye (Lehsunia)\n",
      "Error processing gp57602-1-190220.jpg in Chrysoberyl Cats Eye (Lehsunia)\n",
      "Error processing gp57604-1-210521.jpg in Chrysoberyl Cats Eye (Lehsunia)\n",
      "Error processing gp57602-3-190220.jpg in Chrysoberyl Cats Eye (Lehsunia)\n",
      "Error processing gp57501-2-210521.jpg in Chrysoberyl Cats Eye (Lehsunia)\n",
      "Error processing gp57606-1-210521.jpg in Chrysoberyl Cats Eye (Lehsunia)\n",
      "Error processing gp57606-2-210521.jpg in Chrysoberyl Cats Eye (Lehsunia)\n",
      "Error processing gp57606-3-210521.jpg in Chrysoberyl Cats Eye (Lehsunia)\n",
      "Error processing gp57604-3-210521.jpg in Chrysoberyl Cats Eye (Lehsunia)\n",
      "Error processing gp59226-2-210521.jpg in Chrysoberyl Cats Eye (Lehsunia)\n",
      "Error processing gp59226-1-210521.jpg in Chrysoberyl Cats Eye (Lehsunia)\n",
      "Error processing gp59226-3-210521.jpg in Chrysoberyl Cats Eye (Lehsunia)\n",
      "Error processing gp57604-2-210521.jpg in Chrysoberyl Cats Eye (Lehsunia)\n",
      "Error processing gp59701-1-210521.jpg in Chrysoberyl Cats Eye (Lehsunia)\n",
      "Error processing gp59701-2-210521.jpg in Chrysoberyl Cats Eye (Lehsunia)\n",
      "Error processing gp59701-3-210521.jpg in Chrysoberyl Cats Eye (Lehsunia)\n",
      "Error processing gp59704-2-210521.jpg in Chrysoberyl Cats Eye (Lehsunia)\n",
      "Error processing gp59704-3-210521.jpg in Chrysoberyl Cats Eye (Lehsunia)\n",
      "Error processing gp59704-1-210521.jpg in Chrysoberyl Cats Eye (Lehsunia)\n",
      "Error processing gp59707-1-210521.jpg in Chrysoberyl Cats Eye (Lehsunia)\n",
      "Error processing gp59707-3-210521.jpg in Chrysoberyl Cats Eye (Lehsunia)\n",
      "Error processing gp59707-2-210521.jpg in Chrysoberyl Cats Eye (Lehsunia)\n",
      "Error processing gp59723-2-210521.jpg in Chrysoberyl Cats Eye (Lehsunia)\n",
      "Error processing gp59726-2-210521.jpg in Chrysoberyl Cats Eye (Lehsunia)\n",
      "Error processing gp59726-1-210521.jpg in Chrysoberyl Cats Eye (Lehsunia)\n",
      "Error processing gp59723-3-210521.jpg in Chrysoberyl Cats Eye (Lehsunia)\n",
      "Error processing gp59723-1-210521.jpg in Chrysoberyl Cats Eye (Lehsunia)\n",
      "Error processing gp59728-3-210521.jpg in Chrysoberyl Cats Eye (Lehsunia)\n",
      "Error processing gp59728-1-210521.jpg in Chrysoberyl Cats Eye (Lehsunia)\n",
      "Error processing gp59728-2-210521.jpg in Chrysoberyl Cats Eye (Lehsunia)\n",
      "Error processing gp59726-3-210521.jpg in Chrysoberyl Cats Eye (Lehsunia)\n",
      "Error processing gp59729-3-210521.jpg in Chrysoberyl Cats Eye (Lehsunia)\n",
      "Error processing gp59730-2-210521.jpg in Chrysoberyl Cats Eye (Lehsunia)\n",
      "Error processing gp59729-2-210521.jpg in Chrysoberyl Cats Eye (Lehsunia)\n",
      "Error processing gp59730-1-210521.jpg in Chrysoberyl Cats Eye (Lehsunia)\n",
      "Error processing gp59732-2-210521.jpg in Chrysoberyl Cats Eye (Lehsunia)\n",
      "Error processing gp59732-1-210521.jpg in Chrysoberyl Cats Eye (Lehsunia)\n",
      "Error processing gp61051-1-210521.jpg in Chrysoberyl Cats Eye (Lehsunia)\n",
      "Error processing gp61051-2-210521.jpg in Chrysoberyl Cats Eye (Lehsunia)\n",
      "Error processing gp61051-3-210521.jpg in Chrysoberyl Cats Eye (Lehsunia)\n",
      "Error processing gp59729-1-210521.jpg in Chrysoberyl Cats Eye (Lehsunia)\n",
      "Error processing gp59730-3-210521.jpg in Chrysoberyl Cats Eye (Lehsunia)\n",
      "Error processing gp62494-1-210521.jpg in Chrysoberyl Cats Eye (Lehsunia)\n",
      "Error processing gp62494-2-210521.jpg in Chrysoberyl Cats Eye (Lehsunia)\n",
      "Error processing gp59732-3-210521.jpg in Chrysoberyl Cats Eye (Lehsunia)\n",
      "Error processing gp62495-3-210521.jpg in Chrysoberyl Cats Eye (Lehsunia)\n",
      "Error processing gp62495-1-210521.jpg in Chrysoberyl Cats Eye (Lehsunia)\n",
      "Error processing gp62495-2-210521.jpg in Chrysoberyl Cats Eye (Lehsunia)\n",
      "Error processing gp62494-3-210521.jpg in Chrysoberyl Cats Eye (Lehsunia)\n",
      "Error processing gp62496-1-210521.jpg in Chrysoberyl Cats Eye (Lehsunia)\n",
      "Error processing gp62496-2-210521.jpg in Chrysoberyl Cats Eye (Lehsunia)\n",
      "Error processing gp62496-3-210521.jpg in Chrysoberyl Cats Eye (Lehsunia)\n",
      "Error processing gp62497-1-210521.jpg in Chrysoberyl Cats Eye (Lehsunia)\n",
      "Error processing gp62497-2-210521.jpg in Chrysoberyl Cats Eye (Lehsunia)\n",
      "Error processing gp62498-2-210521.jpg in Chrysoberyl Cats Eye (Lehsunia)\n",
      "Error processing gp62498-1-210521.jpg in Chrysoberyl Cats Eye (Lehsunia)\n",
      "Error processing gp62497-3-210521.jpg in Chrysoberyl Cats Eye (Lehsunia)\n",
      "Error processing gp62499-2-210521.jpg in Chrysoberyl Cats Eye (Lehsunia)\n",
      "Error processing gp62499-1-210521.jpg in Chrysoberyl Cats Eye (Lehsunia)\n",
      "Error processing gp62500-2-210521.jpg in Chrysoberyl Cats Eye (Lehsunia)\n",
      "Error processing gp62499-3-210521.jpg in Chrysoberyl Cats Eye (Lehsunia)\n",
      "Error processing gp62500-1-210521.jpg in Chrysoberyl Cats Eye (Lehsunia)\n",
      "Error processing gp62498-3-210521.jpg in Chrysoberyl Cats Eye (Lehsunia)\n",
      "Error processing gp62500-3-210521.jpg in Chrysoberyl Cats Eye (Lehsunia)\n",
      "Error processing gp62501-2-210521.jpg in Chrysoberyl Cats Eye (Lehsunia)\n",
      "Error processing gp62501-3-210521.jpg in Chrysoberyl Cats Eye (Lehsunia)\n",
      "Error processing gp62501-1-210521.jpg in Chrysoberyl Cats Eye (Lehsunia)\n",
      "Error processing gp62502-1-210521.jpg in Chrysoberyl Cats Eye (Lehsunia)\n",
      "Error processing gp62502-2-210521.jpg in Chrysoberyl Cats Eye (Lehsunia)\n",
      "Error processing gp62502-3-210521.jpg in Chrysoberyl Cats Eye (Lehsunia)\n",
      "Error processing gp62503-1-210521.jpg in Chrysoberyl Cats Eye (Lehsunia)\n",
      "Error processing gp62504-1-210521.jpg in Chrysoberyl Cats Eye (Lehsunia)\n",
      "Error processing gp62503-3-210521.jpg in Chrysoberyl Cats Eye (Lehsunia)\n",
      "Error processing gp62505-1-210521.jpg in Chrysoberyl Cats Eye (Lehsunia)\n",
      "Error processing gp62504-2-210521.jpg in Chrysoberyl Cats Eye (Lehsunia)\n",
      "Error processing gp62503-2-210521.jpg in Chrysoberyl Cats Eye (Lehsunia)\n",
      "Error processing gp62504-3-210521.jpg in Chrysoberyl Cats Eye (Lehsunia)\n",
      "Error processing gp62505-2-210521.jpg in Chrysoberyl Cats Eye (Lehsunia)\n",
      "Error processing gp62505-3-210521.jpg in Chrysoberyl Cats Eye (Lehsunia)\n",
      "Error processing gp62506-1-210521.jpg in Chrysoberyl Cats Eye (Lehsunia)\n",
      "Error processing gp62506-2-210521.jpg in Chrysoberyl Cats Eye (Lehsunia)\n",
      "Error processing gp62506-3-210521.jpg in Chrysoberyl Cats Eye (Lehsunia)\n",
      "Error processing gp62751-1-210521.jpg in Chrysoberyl Cats Eye (Lehsunia)\n",
      "Error processing gp62751-2-210521.jpg in Chrysoberyl Cats Eye (Lehsunia)\n",
      "Error processing gp62801-1-210521.jpg in Chrysoberyl Cats Eye (Lehsunia)\n",
      "Error processing gp62751-3-210521.jpg in Chrysoberyl Cats Eye (Lehsunia)\n",
      "Error processing gp62801-2-210521.jpg in Chrysoberyl Cats Eye (Lehsunia)\n",
      "Error processing gp62801-3-210521.jpg in Chrysoberyl Cats Eye (Lehsunia)\n",
      "Error processing gp62802-1-210521.jpg in Chrysoberyl Cats Eye (Lehsunia)\n",
      "Error processing gp62802-2-210521.jpg in Chrysoberyl Cats Eye (Lehsunia)\n",
      "Error processing gp62802-3-210521.jpg in Chrysoberyl Cats Eye (Lehsunia)\n",
      "Error processing gp62803-1-210521.jpg in Chrysoberyl Cats Eye (Lehsunia)\n",
      "Error processing gp62803-2-210521.jpg in Chrysoberyl Cats Eye (Lehsunia)\n",
      "Error processing gp62803-3-210521.jpg in Chrysoberyl Cats Eye (Lehsunia)\n",
      "Error processing gp62804-1-210521.jpg in Chrysoberyl Cats Eye (Lehsunia)\n",
      "Error processing gp62804-2-210521.jpg in Chrysoberyl Cats Eye (Lehsunia)\n",
      "Error processing gp62804-3-210521.jpg in Chrysoberyl Cats Eye (Lehsunia)\n",
      "Error processing gp62805-1-210521.jpg in Chrysoberyl Cats Eye (Lehsunia)\n",
      "Error processing gp62805-2-210521.jpg in Chrysoberyl Cats Eye (Lehsunia)\n",
      "Error processing gp62805-3-210521.jpg in Chrysoberyl Cats Eye (Lehsunia)\n",
      "Error processing gp62806-1-210521.jpg in Chrysoberyl Cats Eye (Lehsunia)\n",
      "Error processing gp62806-2-210521.jpg in Chrysoberyl Cats Eye (Lehsunia)\n",
      "Error processing gp62807-3-210521.jpg in Chrysoberyl Cats Eye (Lehsunia)\n",
      "Error processing gp62807-2-210521.jpg in Chrysoberyl Cats Eye (Lehsunia)\n",
      "Error processing gp62806-3-210521.jpg in Chrysoberyl Cats Eye (Lehsunia)\n",
      "Error processing gp62807-1-210521.jpg in Chrysoberyl Cats Eye (Lehsunia)\n",
      "Error processing gp63001-1-210521.jpg in Chrysoberyl Cats Eye (Lehsunia)\n",
      "Error processing gp63008-1-210521.jpg in Chrysoberyl Cats Eye (Lehsunia)\n",
      "Error processing gp63001-3-210521.jpg in Chrysoberyl Cats Eye (Lehsunia)\n",
      "Error processing gp63001-2-210521.jpg in Chrysoberyl Cats Eye (Lehsunia)\n",
      "Error processing gp63008-3-210521.jpg in Chrysoberyl Cats Eye (Lehsunia)\n",
      "Error processing gp63008-2-210521.jpg in Chrysoberyl Cats Eye (Lehsunia)\n",
      "Error processing gp63009-3-210521.jpg in Chrysoberyl Cats Eye (Lehsunia)\n",
      "Error processing gp63009-2-210521.jpg in Chrysoberyl Cats Eye (Lehsunia)\n",
      "Error processing gp63017-1-210521.jpg in Chrysoberyl Cats Eye (Lehsunia)\n",
      "Error processing gp63009-1-210521.jpg in Chrysoberyl Cats Eye (Lehsunia)\n",
      "Error processing gp63017-2-210521.jpg in Chrysoberyl Cats Eye (Lehsunia)\n",
      "Error processing gp63017-3-210521.jpg in Chrysoberyl Cats Eye (Lehsunia)\n",
      "Error processing gp63018-2-210521.jpg in Chrysoberyl Cats Eye (Lehsunia)\n",
      "Error processing gp63018-1-210521.jpg in Chrysoberyl Cats Eye (Lehsunia)\n",
      "Error processing gp63018-3-210521.jpg in Chrysoberyl Cats Eye (Lehsunia)\n",
      "Error processing gp63023-1-210521.jpg in Chrysoberyl Cats Eye (Lehsunia)\n",
      "Error processing gp63020-3-210521.jpg in Chrysoberyl Cats Eye (Lehsunia)\n",
      "Error processing gp63020-1-210521.jpg in Chrysoberyl Cats Eye (Lehsunia)\n",
      "Error processing gp63023-2-210521.jpg in Chrysoberyl Cats Eye (Lehsunia)\n",
      "Error processing gp63023-3-210521.jpg in Chrysoberyl Cats Eye (Lehsunia)\n",
      "Error processing gp63020-2-210521.jpg in Chrysoberyl Cats Eye (Lehsunia)\n",
      "Error processing gp63026-2-210521.jpg in Chrysoberyl Cats Eye (Lehsunia)\n",
      "Error processing gp63027-1-210521.jpg in Chrysoberyl Cats Eye (Lehsunia)\n",
      "Error processing gp63026-3-210521.jpg in Chrysoberyl Cats Eye (Lehsunia)\n",
      "Error processing gp63027-2-210521.jpg in Chrysoberyl Cats Eye (Lehsunia)\n",
      "Error processing gp63027-3-210521.jpg in Chrysoberyl Cats Eye (Lehsunia)\n",
      "Error processing gp63026-1-210521.jpg in Chrysoberyl Cats Eye (Lehsunia)\n",
      "Error processing gp63029-3-210521.jpg in Chrysoberyl Cats Eye (Lehsunia)\n",
      "Error processing gp63029-2-210521.jpg in Chrysoberyl Cats Eye (Lehsunia)\n",
      "Error processing gp72381-1-210521.jpg in Chrysoberyl Cats Eye (Lehsunia)\n",
      "Error processing gp72381-2-210521.jpg in Chrysoberyl Cats Eye (Lehsunia)\n",
      "Error processing gp72381-3-210521.jpg in Chrysoberyl Cats Eye (Lehsunia)\n",
      "Error processing gp63029-1-210521.jpg in Chrysoberyl Cats Eye (Lehsunia)\n",
      "Error processing gp72382-2-210521.jpg in Chrysoberyl Cats Eye (Lehsunia)\n",
      "Error processing gp72382-3-210521.jpg in Chrysoberyl Cats Eye (Lehsunia)\n",
      "Error processing gp72382-1-210521.jpg in Chrysoberyl Cats Eye (Lehsunia)\n",
      "Error processing gp72385-1-210521.jpg in Chrysoberyl Cats Eye (Lehsunia)\n",
      "Error processing gp72383-3-210521.jpg in Chrysoberyl Cats Eye (Lehsunia)\n",
      "Error processing gp72383-1-210521.jpg in Chrysoberyl Cats Eye (Lehsunia)\n",
      "Error processing gp72383-2-210521.jpg in Chrysoberyl Cats Eye (Lehsunia)\n",
      "Error processing gp78030-1-210521.jpg in Chrysoberyl Cats Eye (Lehsunia)\n",
      "Error processing gp72385-3-210521.jpg in Chrysoberyl Cats Eye (Lehsunia)\n",
      "Error processing gp72385-2-210521.jpg in Chrysoberyl Cats Eye (Lehsunia)\n",
      "Error processing gp78030-3-210521.jpg in Chrysoberyl Cats Eye (Lehsunia)\n",
      "Error processing gp78031-3-210521.jpg in Chrysoberyl Cats Eye (Lehsunia)\n",
      "Error processing gp78030-2-210521.jpg in Chrysoberyl Cats Eye (Lehsunia)\n",
      "Error processing gp78032-2-210521.jpg in Chrysoberyl Cats Eye (Lehsunia)\n",
      "Error processing gp78032-3-210521.jpg in Chrysoberyl Cats Eye (Lehsunia)\n",
      "Error processing gp78031-2-210521.jpg in Chrysoberyl Cats Eye (Lehsunia)\n",
      "Error processing gp78031-1-210521.jpg in Chrysoberyl Cats Eye (Lehsunia)\n",
      "Error processing gp78323-2-210521.jpg in Chrysoberyl Cats Eye (Lehsunia)\n",
      "Error processing gp78323-1-210521.jpg in Chrysoberyl Cats Eye (Lehsunia)\n",
      "Error processing gp78032-1-210521.jpg in Chrysoberyl Cats Eye (Lehsunia)\n",
      "Error processing gp78323-3-210521.jpg in Chrysoberyl Cats Eye (Lehsunia)\n",
      "Error processing gp78325-1-210521.jpg in Chrysoberyl Cats Eye (Lehsunia)\n",
      "Error processing gp78328-2-210521.jpg in Chrysoberyl Cats Eye (Lehsunia)\n",
      "Error processing gp78328-1-210521.jpg in Chrysoberyl Cats Eye (Lehsunia)\n",
      "Error processing gp78325-2-210521.jpg in Chrysoberyl Cats Eye (Lehsunia)\n",
      "Error processing gp78325-3-210521.jpg in Chrysoberyl Cats Eye (Lehsunia)\n",
      "Error processing gp78328-3-210521.jpg in Chrysoberyl Cats Eye (Lehsunia)\n",
      "Error processing gp78330-1-210521.jpg in Chrysoberyl Cats Eye (Lehsunia)\n",
      "Error processing gp78330-2-210521.jpg in Chrysoberyl Cats Eye (Lehsunia)\n",
      "Error processing gp78332-1-210521.jpg in Chrysoberyl Cats Eye (Lehsunia)\n",
      "Error processing gp78332-2-210521.jpg in Chrysoberyl Cats Eye (Lehsunia)\n",
      "Error processing gp78332-3-210521.jpg in Chrysoberyl Cats Eye (Lehsunia)\n",
      "Error processing gp78330-3-210521.jpg in Chrysoberyl Cats Eye (Lehsunia)\n",
      "Error processing gp78334-1-210521.jpg in Chrysoberyl Cats Eye (Lehsunia)\n",
      "Error processing gp78334-2-210521.jpg in Chrysoberyl Cats Eye (Lehsunia)\n",
      "Error processing gp78335-1-210521.jpg in Chrysoberyl Cats Eye (Lehsunia)\n",
      "Error processing gp78335-3-210521.jpg in Chrysoberyl Cats Eye (Lehsunia)\n",
      "Error processing gp78334-3-210521.jpg in Chrysoberyl Cats Eye (Lehsunia)\n",
      "Error processing gp78335-2-210521.jpg in Chrysoberyl Cats Eye (Lehsunia)\n",
      "Error processing gp78336-1-210521.jpg in Chrysoberyl Cats Eye (Lehsunia)\n",
      "Error processing gp78336-3-210521.jpg in Chrysoberyl Cats Eye (Lehsunia)\n",
      "Error processing gp78337-2-210521.jpg in Chrysoberyl Cats Eye (Lehsunia)\n",
      "Error processing gp78337-1-210521.jpg in Chrysoberyl Cats Eye (Lehsunia)\n",
      "Error processing gp78337-3-210521.jpg in Chrysoberyl Cats Eye (Lehsunia)\n",
      "Error processing gp78338-1-210521.jpg in Chrysoberyl Cats Eye (Lehsunia)\n",
      "Error processing gp78336-2-210521.jpg in Chrysoberyl Cats Eye (Lehsunia)\n",
      "Error processing gp78338-2-210521.jpg in Chrysoberyl Cats Eye (Lehsunia)\n",
      "Error processing gp78339-1-210521.jpg in Chrysoberyl Cats Eye (Lehsunia)\n",
      "Error processing gp78338-3-210521.jpg in Chrysoberyl Cats Eye (Lehsunia)\n",
      "Error processing gp78339-3-210521.jpg in Chrysoberyl Cats Eye (Lehsunia)\n",
      "Error processing gp78340-1-210521.jpg in Chrysoberyl Cats Eye (Lehsunia)\n",
      "Error processing gp78340-2-210521.jpg in Chrysoberyl Cats Eye (Lehsunia)\n",
      "Error processing gp78341-2-210521.jpg in Chrysoberyl Cats Eye (Lehsunia)\n",
      "Error processing gp78340-3-210521.jpg in Chrysoberyl Cats Eye (Lehsunia)\n",
      "Error processing gp78342-1-210521.jpg in Chrysoberyl Cats Eye (Lehsunia)\n",
      "Error processing gp78341-3-210521.jpg in Chrysoberyl Cats Eye (Lehsunia)\n",
      "Error processing gp78342-3-210521.jpg in Chrysoberyl Cats Eye (Lehsunia)\n",
      "Error processing gp78343-1-210521.jpg in Chrysoberyl Cats Eye (Lehsunia)\n",
      "Error processing gp78343-2-210521.jpg in Chrysoberyl Cats Eye (Lehsunia)\n",
      "Error processing gp78343-3-210521.jpg in Chrysoberyl Cats Eye (Lehsunia)\n",
      "Error processing gp78346-1-210521.jpg in Chrysoberyl Cats Eye (Lehsunia)\n",
      "Error processing gp78346-2-210521.jpg in Chrysoberyl Cats Eye (Lehsunia)\n",
      "Error processing gp78346-3-210521.jpg in Chrysoberyl Cats Eye (Lehsunia)\n",
      "Error processing gp78347-1-210521.jpg in Chrysoberyl Cats Eye (Lehsunia)\n",
      "Error processing gp78347-2-210521.jpg in Chrysoberyl Cats Eye (Lehsunia)\n",
      "Error processing gp78347-3-210521.jpg in Chrysoberyl Cats Eye (Lehsunia)\n",
      "Error processing gp78341-1-210521.jpg in Chrysoberyl Cats Eye (Lehsunia)\n",
      "Error processing gp78353-2-210521.jpg in Chrysoberyl Cats Eye (Lehsunia)\n",
      "Error processing gp78353-3-210521.jpg in Chrysoberyl Cats Eye (Lehsunia)\n",
      "Error processing gp78355-1-210521.jpg in Chrysoberyl Cats Eye (Lehsunia)\n",
      "Error processing gp78355-2-210521.jpg in Chrysoberyl Cats Eye (Lehsunia)\n",
      "Error processing gp78355-3-210521.jpg in Chrysoberyl Cats Eye (Lehsunia)\n",
      "Error processing gp78357-1-210521.jpg in Chrysoberyl Cats Eye (Lehsunia)\n",
      "Error processing gp78357-2-210521.jpg in Chrysoberyl Cats Eye (Lehsunia)\n",
      "Error processing gp78357-3-210521.jpg in Chrysoberyl Cats Eye (Lehsunia)\n",
      "Error processing gp78353-1-210521.jpg in Chrysoberyl Cats Eye (Lehsunia)\n",
      "Error processing gp78342-2-210521.jpg in Chrysoberyl Cats Eye (Lehsunia)\n",
      "Error processing gp78339-2-210521.jpg in Chrysoberyl Cats Eye (Lehsunia)\n",
      "Error processing gp78358-3-210521.jpg in Chrysoberyl Cats Eye (Lehsunia)\n",
      "Error processing gp78359-1-210521.jpg in Chrysoberyl Cats Eye (Lehsunia)\n",
      "Error processing gp78358-2-210521.jpg in Chrysoberyl Cats Eye (Lehsunia)\n",
      "Error processing gp78359-2-210521.jpg in Chrysoberyl Cats Eye (Lehsunia)\n",
      "Error processing gp78358-1-210521.jpg in Chrysoberyl Cats Eye (Lehsunia)\n",
      "Error processing gp78359-3-210521.jpg in Chrysoberyl Cats Eye (Lehsunia)\n",
      "Error processing gp78360-1-210521.jpg in Chrysoberyl Cats Eye (Lehsunia)\n",
      "Error processing gp78360-2-210521.jpg in Chrysoberyl Cats Eye (Lehsunia)\n",
      "Error processing gp78361-1-210521.jpg in Chrysoberyl Cats Eye (Lehsunia)\n",
      "Error processing gp78361-3-210521.jpg in Chrysoberyl Cats Eye (Lehsunia)\n",
      "Error processing gp78362-1-210521.jpg in Chrysoberyl Cats Eye (Lehsunia)\n",
      "Error processing gp78360-3-210521.jpg in Chrysoberyl Cats Eye (Lehsunia)\n",
      "Error processing gp78362-2-210521.jpg in Chrysoberyl Cats Eye (Lehsunia)\n",
      "Error processing gp78361-2-210521.jpg in Chrysoberyl Cats Eye (Lehsunia)\n",
      "Error processing gp78363-1-210521.jpg in Chrysoberyl Cats Eye (Lehsunia)\n",
      "Error processing gp78362-3-210521.jpg in Chrysoberyl Cats Eye (Lehsunia)\n",
      "Error processing gp78363-2-210521.jpg in Chrysoberyl Cats Eye (Lehsunia)\n",
      "Error processing gp78363-3-210521.jpg in Chrysoberyl Cats Eye (Lehsunia)\n",
      "Error processing gp78364-2-210521.jpg in Chrysoberyl Cats Eye (Lehsunia)\n",
      "Error processing gp78364-1-210521.jpg in Chrysoberyl Cats Eye (Lehsunia)\n",
      "Error processing gp78364-3-210521.jpg in Chrysoberyl Cats Eye (Lehsunia)\n",
      "Error processing gp78365-2-210521.jpg in Chrysoberyl Cats Eye (Lehsunia)\n",
      "Error processing gp78365-3-210521.jpg in Chrysoberyl Cats Eye (Lehsunia)\n",
      "Error processing gp78365-1-210521.jpg in Chrysoberyl Cats Eye (Lehsunia)\n",
      "Error processing gp78366-2-210521.jpg in Chrysoberyl Cats Eye (Lehsunia)\n",
      "Error processing gp78366-1-210521.jpg in Chrysoberyl Cats Eye (Lehsunia)\n",
      "Error processing gp78366-3-210521.jpg in Chrysoberyl Cats Eye (Lehsunia)\n",
      "Error processing gp78367-1-210521.jpg in Chrysoberyl Cats Eye (Lehsunia)\n",
      "Error processing gp78367-2-210521.jpg in Chrysoberyl Cats Eye (Lehsunia)\n",
      "Error processing gp78367-3-210521.jpg in Chrysoberyl Cats Eye (Lehsunia)\n",
      "Error processing gp78368-1-210521.jpg in Chrysoberyl Cats Eye (Lehsunia)\n",
      "Error processing gp78368-2-210521.jpg in Chrysoberyl Cats Eye (Lehsunia)\n",
      "Error processing gp78369-1-210521.jpg in Chrysoberyl Cats Eye (Lehsunia)\n",
      "Error processing gp78368-3-210521.jpg in Chrysoberyl Cats Eye (Lehsunia)\n",
      "Error processing gp78370-2-210521.jpg in Chrysoberyl Cats Eye (Lehsunia)\n",
      "Error processing gp78369-3-210521.jpg in Chrysoberyl Cats Eye (Lehsunia)\n",
      "Error processing gp78369-2-210521.jpg in Chrysoberyl Cats Eye (Lehsunia)\n",
      "Error processing gp78370-3-210521.jpg in Chrysoberyl Cats Eye (Lehsunia)\n",
      "Error processing gp78373-1-210521.jpg in Chrysoberyl Cats Eye (Lehsunia)\n",
      "Error processing gp78370-1-210521.jpg in Chrysoberyl Cats Eye (Lehsunia)\n",
      "Error processing gp78373-3-210521.jpg in Chrysoberyl Cats Eye (Lehsunia)\n",
      "Error processing gp78373-2-210521.jpg in Chrysoberyl Cats Eye (Lehsunia)\n",
      "Error processing gp78374-1-210521.jpg in Chrysoberyl Cats Eye (Lehsunia)\n",
      "Error processing gp78374-2-210521.jpg in Chrysoberyl Cats Eye (Lehsunia)\n",
      "Error processing gp78374-3-210521.jpg in Chrysoberyl Cats Eye (Lehsunia)\n",
      "Error processing gp78375-1-210521.jpg in Chrysoberyl Cats Eye (Lehsunia)\n",
      "Error processing gp78376-1-210521.jpg in Chrysoberyl Cats Eye (Lehsunia)\n",
      "Error processing gp78375-2-210521.jpg in Chrysoberyl Cats Eye (Lehsunia)\n",
      "Error processing gp78376-3-210521.jpg in Chrysoberyl Cats Eye (Lehsunia)\n",
      "Error processing gp78375-3-210521.jpg in Chrysoberyl Cats Eye (Lehsunia)\n",
      "Error processing gp78376-2-210521.jpg in Chrysoberyl Cats Eye (Lehsunia)\n",
      "Error processing gp78377-1-210521.jpg in Chrysoberyl Cats Eye (Lehsunia)\n",
      "Error processing gp78377-2-210521.jpg in Chrysoberyl Cats Eye (Lehsunia)\n",
      "Error processing gp78377-3-210521.jpg in Chrysoberyl Cats Eye (Lehsunia)\n",
      "Error processing gp78378-1-210521.jpg in Chrysoberyl Cats Eye (Lehsunia)\n",
      "Error processing gp78378-2-210521.jpg in Chrysoberyl Cats Eye (Lehsunia)\n",
      "Error processing gp78380-1-210521.jpg in Chrysoberyl Cats Eye (Lehsunia)\n",
      "Error processing gp78380-3-210521.jpg in Chrysoberyl Cats Eye (Lehsunia)\n",
      "Error processing gp78380-2-210521.jpg in Chrysoberyl Cats Eye (Lehsunia)\n",
      "Error processing gp78378-3-210521.jpg in Chrysoberyl Cats Eye (Lehsunia)\n",
      "Error processing gp78381-3-210521.jpg in Chrysoberyl Cats Eye (Lehsunia)\n",
      "Error processing gp78381-1-210521.jpg in Chrysoberyl Cats Eye (Lehsunia)\n",
      "Error processing gp78381-2-210521.jpg in Chrysoberyl Cats Eye (Lehsunia)\n",
      "Error processing gp78383-1-210521.jpg in Chrysoberyl Cats Eye (Lehsunia)\n",
      "Error processing gp78382-1-210521.jpg in Chrysoberyl Cats Eye (Lehsunia)\n",
      "Error processing gp78382-3-210521.jpg in Chrysoberyl Cats Eye (Lehsunia)\n",
      "Error processing gp78382-2-210521.jpg in Chrysoberyl Cats Eye (Lehsunia)\n",
      "Error processing gp78383-2-210521.jpg in Chrysoberyl Cats Eye (Lehsunia)\n",
      "Error processing gp78385-2-210521.jpg in Chrysoberyl Cats Eye (Lehsunia)\n",
      "Error processing gp78385-1-210521.jpg in Chrysoberyl Cats Eye (Lehsunia)\n",
      "Error processing gp78383-3-210521.jpg in Chrysoberyl Cats Eye (Lehsunia)\n",
      "Error processing gp78385-3-210521.jpg in Chrysoberyl Cats Eye (Lehsunia)\n",
      "Error processing gp78386-2-210521.jpg in Chrysoberyl Cats Eye (Lehsunia)\n",
      "Error processing gp78529-1-210521.jpg in Chrysoberyl Cats Eye (Lehsunia)\n",
      "Error processing gp78386-3-210521.jpg in Chrysoberyl Cats Eye (Lehsunia)\n",
      "Error processing gp78386-1-210521.jpg in Chrysoberyl Cats Eye (Lehsunia)\n",
      "Error processing gp78529-3-210521.jpg in Chrysoberyl Cats Eye (Lehsunia)\n",
      "Error processing gp78529-2-210521.jpg in Chrysoberyl Cats Eye (Lehsunia)\n",
      "Error processing gp78540-1-210521.jpg in Chrysoberyl Cats Eye (Lehsunia)\n",
      "Error processing gp78540-2-210521.jpg in Chrysoberyl Cats Eye (Lehsunia)\n",
      "Error processing gp78540-3-210521.jpg in Chrysoberyl Cats Eye (Lehsunia)\n",
      "Error processing gp78541-1-210521.jpg in Chrysoberyl Cats Eye (Lehsunia)\n",
      "Error processing gp78541-2-210521.jpg in Chrysoberyl Cats Eye (Lehsunia)\n",
      "Error processing gp78543-2-210521.jpg in Chrysoberyl Cats Eye (Lehsunia)\n",
      "Error processing gp78543-1-210521.jpg in Chrysoberyl Cats Eye (Lehsunia)\n",
      "Error processing gp78541-3-210521.jpg in Chrysoberyl Cats Eye (Lehsunia)\n",
      "Error processing gp78543-3-210521.jpg in Chrysoberyl Cats Eye (Lehsunia)\n",
      "Error processing gp78544-3-210521.jpg in Chrysoberyl Cats Eye (Lehsunia)\n",
      "Error processing gp78544-2-210521.jpg in Chrysoberyl Cats Eye (Lehsunia)\n",
      "Error processing gp78544-1-210521.jpg in Chrysoberyl Cats Eye (Lehsunia)\n",
      "Error processing gp78545-2-210521.jpg in Chrysoberyl Cats Eye (Lehsunia)\n",
      "Error processing gp78545-3-210521.jpg in Chrysoberyl Cats Eye (Lehsunia)\n",
      "Error processing gp78545-1-210521.jpg in Chrysoberyl Cats Eye (Lehsunia)\n",
      "Error processing gp78547-1-210521.jpg in Chrysoberyl Cats Eye (Lehsunia)\n",
      "Error processing gp78547-2-210521.jpg in Chrysoberyl Cats Eye (Lehsunia)\n",
      "Error processing gp78547-3-210521.jpg in Chrysoberyl Cats Eye (Lehsunia)\n",
      "Error processing gp78558-1-210521.jpg in Chrysoberyl Cats Eye (Lehsunia)\n",
      "Error processing gp78558-2-210521.jpg in Chrysoberyl Cats Eye (Lehsunia)\n",
      "Error processing gp78558-3-210521.jpg in Chrysoberyl Cats Eye (Lehsunia)\n",
      "Error processing gp78559-1-210521.jpg in Chrysoberyl Cats Eye (Lehsunia)\n",
      "Error processing gp78559-2-210521.jpg in Chrysoberyl Cats Eye (Lehsunia)\n",
      "Error processing gp78559-3-210521.jpg in Chrysoberyl Cats Eye (Lehsunia)\n",
      "Error processing gp78561-1-210521.jpg in Chrysoberyl Cats Eye (Lehsunia)\n",
      "Error processing gp78561-2-210521.jpg in Chrysoberyl Cats Eye (Lehsunia)\n",
      "Error processing gp78561-3-210521.jpg in Chrysoberyl Cats Eye (Lehsunia)\n",
      "Error processing gp78562-1-210521.jpg in Chrysoberyl Cats Eye (Lehsunia)\n",
      "Error processing gp78562-2-210521.jpg in Chrysoberyl Cats Eye (Lehsunia)\n",
      "Error processing gp78562-3-210521.jpg in Chrysoberyl Cats Eye (Lehsunia)\n",
      "Error processing gp78563-1-210521.jpg in Chrysoberyl Cats Eye (Lehsunia)\n",
      "Error processing gp78563-2-210521.jpg in Chrysoberyl Cats Eye (Lehsunia)\n",
      "Error processing gp78563-3-210521.jpg in Chrysoberyl Cats Eye (Lehsunia)\n",
      "Error processing gp78564-1-210521.jpg in Chrysoberyl Cats Eye (Lehsunia)\n",
      "Error processing gp78564-2-210521.jpg in Chrysoberyl Cats Eye (Lehsunia)\n",
      "Error processing gp78564-3-210521.jpg in Chrysoberyl Cats Eye (Lehsunia)\n",
      "Error processing gp78565-3-210521.jpg in Chrysoberyl Cats Eye (Lehsunia)\n",
      "Error processing gp78565-2-210521.jpg in Chrysoberyl Cats Eye (Lehsunia)\n",
      "Error processing gp78566-1-210521.jpg in Chrysoberyl Cats Eye (Lehsunia)\n",
      "Error processing gp78566-2-210521.jpg in Chrysoberyl Cats Eye (Lehsunia)\n",
      "Error processing gp78566-3-210521.jpg in Chrysoberyl Cats Eye (Lehsunia)\n",
      "Error processing gp78565-1-210521.jpg in Chrysoberyl Cats Eye (Lehsunia)\n",
      "Error processing gp78567-2-210521.jpg in Chrysoberyl Cats Eye (Lehsunia)\n",
      "Error processing gp78567-3-210521.jpg in Chrysoberyl Cats Eye (Lehsunia)\n",
      "Error processing gp78567-1-210521.jpg in Chrysoberyl Cats Eye (Lehsunia)\n",
      "Error processing gp78568-1-210521.jpg in Chrysoberyl Cats Eye (Lehsunia)\n",
      "Error processing gp78568-2-210521.jpg in Chrysoberyl Cats Eye (Lehsunia)\n",
      "Error processing gp78569-2-210521.jpg in Chrysoberyl Cats Eye (Lehsunia)\n",
      "Error processing gp78569-1-210521.jpg in Chrysoberyl Cats Eye (Lehsunia)\n",
      "Error processing gp78568-3-210521.jpg in Chrysoberyl Cats Eye (Lehsunia)\n",
      "Error processing gp78570-1-210521.jpg in Chrysoberyl Cats Eye (Lehsunia)\n",
      "Error processing gp78570-2-210521.jpg in Chrysoberyl Cats Eye (Lehsunia)\n",
      "Error processing gp78569-3-210521.jpg in Chrysoberyl Cats Eye (Lehsunia)\n",
      "Error processing gp78572-1-210521.jpg in Chrysoberyl Cats Eye (Lehsunia)\n",
      "Error processing gp78572-2-210521.jpg in Chrysoberyl Cats Eye (Lehsunia)\n",
      "Error processing gp78570-3-210521.jpg in Chrysoberyl Cats Eye (Lehsunia)\n",
      "Error processing gp78572-3-210521.jpg in Chrysoberyl Cats Eye (Lehsunia)\n",
      "Error processing gp78573-1-210521.jpg in Chrysoberyl Cats Eye (Lehsunia)\n",
      "Error processing gp78573-2-210521.jpg in Chrysoberyl Cats Eye (Lehsunia)\n",
      "Error processing gp78573-3-210521.jpg in Chrysoberyl Cats Eye (Lehsunia)\n",
      "Error processing gp78574-1-210521.jpg in Chrysoberyl Cats Eye (Lehsunia)\n",
      "Error processing gp78575-2-210521.jpg in Chrysoberyl Cats Eye (Lehsunia)\n",
      "Error processing gp78574-3-210521.jpg in Chrysoberyl Cats Eye (Lehsunia)\n",
      "Error processing gp78575-1-210521.jpg in Chrysoberyl Cats Eye (Lehsunia)\n",
      "Error processing gp78575-3-210521.jpg in Chrysoberyl Cats Eye (Lehsunia)\n",
      "Error processing gp80187-2-210521.jpg in Chrysoberyl Cats Eye (Lehsunia)\n",
      "Error processing gp80187-1-210521.jpg in Chrysoberyl Cats Eye (Lehsunia)\n",
      "Error processing gp78574-2-210521.jpg in Chrysoberyl Cats Eye (Lehsunia)\n",
      "Error processing gp80187-3-210521.jpg in Chrysoberyl Cats Eye (Lehsunia)\n",
      "Error processing gp80188-1-210521.jpg in Chrysoberyl Cats Eye (Lehsunia)\n",
      "Error processing gp80188-2-210521.jpg in Chrysoberyl Cats Eye (Lehsunia)\n",
      "Error processing gp80188-3-210521.jpg in Chrysoberyl Cats Eye (Lehsunia)\n",
      "Error processing gp80190-1-210521.jpg in Chrysoberyl Cats Eye (Lehsunia)\n",
      "Error processing gp80190-2-210521.jpg in Chrysoberyl Cats Eye (Lehsunia)\n",
      "Error processing gp80190-3-210521.jpg in Chrysoberyl Cats Eye (Lehsunia)\n",
      "Error processing gp80192-2-210521.jpg in Chrysoberyl Cats Eye (Lehsunia)\n",
      "Error processing gp80195-2-210521.jpg in Chrysoberyl Cats Eye (Lehsunia)\n",
      "Error processing gp80192-1-210521.jpg in Chrysoberyl Cats Eye (Lehsunia)\n",
      "Error processing gp80192-3-210521.jpg in Chrysoberyl Cats Eye (Lehsunia)\n",
      "Error processing gp80196-2-210521.jpg in Chrysoberyl Cats Eye (Lehsunia)\n",
      "Error processing gp80196-3-210521.jpg in Chrysoberyl Cats Eye (Lehsunia)\n",
      "Error processing gp80197-1-210521.jpg in Chrysoberyl Cats Eye (Lehsunia)\n",
      "Error processing gp80195-3-210521.jpg in Chrysoberyl Cats Eye (Lehsunia)\n",
      "Error processing gp80197-3-210521.jpg in Chrysoberyl Cats Eye (Lehsunia)\n",
      "Error processing gp80195-1-210521.jpg in Chrysoberyl Cats Eye (Lehsunia)\n",
      "Error processing gp80197-2-210521.jpg in Chrysoberyl Cats Eye (Lehsunia)\n",
      "Error processing gp80196-1-210521.jpg in Chrysoberyl Cats Eye (Lehsunia)\n",
      "Error processing gp80198-1-210521.jpg in Chrysoberyl Cats Eye (Lehsunia)\n",
      "Error processing gp80198-3-210521.jpg in Chrysoberyl Cats Eye (Lehsunia)\n",
      "Error processing gp80198-2-210521.jpg in Chrysoberyl Cats Eye (Lehsunia)\n",
      "Error processing gp80201-2-210521.jpg in Chrysoberyl Cats Eye (Lehsunia)\n",
      "Error processing gp80201-3-210521.jpg in Chrysoberyl Cats Eye (Lehsunia)\n",
      "Error processing gp80203-3-210521.jpg in Chrysoberyl Cats Eye (Lehsunia)\n",
      "Error processing gp80204-1-210521.jpg in Chrysoberyl Cats Eye (Lehsunia)\n",
      "Error processing gp80204-2-210521.jpg in Chrysoberyl Cats Eye (Lehsunia)\n",
      "Error processing gp80204-3-210521.jpg in Chrysoberyl Cats Eye (Lehsunia)\n",
      "Error processing gp80210-1-210521.jpg in Chrysoberyl Cats Eye (Lehsunia)\n",
      "Error processing gp80210-2-210521.jpg in Chrysoberyl Cats Eye (Lehsunia)\n",
      "Error processing gp80201-1-210521.jpg in Chrysoberyl Cats Eye (Lehsunia)\n",
      "Error processing gp80203-1-210521.jpg in Chrysoberyl Cats Eye (Lehsunia)\n",
      "Error processing gp80212-1-210521.jpg in Chrysoberyl Cats Eye (Lehsunia)\n",
      "Error processing gp80203-2-210521.jpg in Chrysoberyl Cats Eye (Lehsunia)\n",
      "Error processing gp80212-2-210521.jpg in Chrysoberyl Cats Eye (Lehsunia)\n",
      "Error processing gp80213-1-210521.jpg in Chrysoberyl Cats Eye (Lehsunia)\n",
      "Error processing gp80212-3-210521.jpg in Chrysoberyl Cats Eye (Lehsunia)\n",
      "Error processing gp80213-3-210521.jpg in Chrysoberyl Cats Eye (Lehsunia)\n",
      "Error processing gp80216-2-210521.jpg in Chrysoberyl Cats Eye (Lehsunia)\n",
      "Error processing gp80216-3-210521.jpg in Chrysoberyl Cats Eye (Lehsunia)\n",
      "Error processing gp80210-3-210521.jpg in Chrysoberyl Cats Eye (Lehsunia)\n",
      "Error processing gp80213-2-210521.jpg in Chrysoberyl Cats Eye (Lehsunia)\n",
      "Error processing gp80218-1-210521.jpg in Chrysoberyl Cats Eye (Lehsunia)\n",
      "Error processing gp80219-1-210521.jpg in Chrysoberyl Cats Eye (Lehsunia)\n",
      "Error processing gp80218-3-210521.jpg in Chrysoberyl Cats Eye (Lehsunia)\n",
      "Error processing gp80218-2-210521.jpg in Chrysoberyl Cats Eye (Lehsunia)\n",
      "Error processing gp80216-1-210521.jpg in Chrysoberyl Cats Eye (Lehsunia)\n",
      "Error processing gp80220-1-210521.jpg in Chrysoberyl Cats Eye (Lehsunia)\n",
      "Error processing gp80220-3-210521.jpg in Chrysoberyl Cats Eye (Lehsunia)\n",
      "Error processing gp80221-1-210521.jpg in Chrysoberyl Cats Eye (Lehsunia)\n",
      "Error processing gp80219-3-210521.jpg in Chrysoberyl Cats Eye (Lehsunia)\n",
      "Error processing gp80221-3-210521.jpg in Chrysoberyl Cats Eye (Lehsunia)\n",
      "Error processing gp80220-2-210521.jpg in Chrysoberyl Cats Eye (Lehsunia)\n",
      "Error processing gp80219-2-210521.jpg in Chrysoberyl Cats Eye (Lehsunia)\n",
      "Error processing gp80221-2-210521.jpg in Chrysoberyl Cats Eye (Lehsunia)\n",
      "Error processing gp80222-2-210521.jpg in Chrysoberyl Cats Eye (Lehsunia)\n",
      "Error processing gp80222-3-210521.jpg in Chrysoberyl Cats Eye (Lehsunia)\n",
      "Error processing gp80222-1-210521.jpg in Chrysoberyl Cats Eye (Lehsunia)\n",
      "Error processing gp80223-2-210521.jpg in Chrysoberyl Cats Eye (Lehsunia)\n",
      "Error processing gp80223-3-210521.jpg in Chrysoberyl Cats Eye (Lehsunia)\n",
      "Error processing gp80225-1-210521.jpg in Chrysoberyl Cats Eye (Lehsunia)\n",
      "Error processing gp80225-2-210521.jpg in Chrysoberyl Cats Eye (Lehsunia)\n",
      "Error processing gp80225-3-210521.jpg in Chrysoberyl Cats Eye (Lehsunia)\n",
      "Error processing gp80226-1-210521.jpg in Chrysoberyl Cats Eye (Lehsunia)\n",
      "Error processing gp80226-3-210521.jpg in Chrysoberyl Cats Eye (Lehsunia)\n",
      "Error processing gp80229-1-210521.jpg in Chrysoberyl Cats Eye (Lehsunia)\n",
      "Error processing gp80226-2-210521.jpg in Chrysoberyl Cats Eye (Lehsunia)\n",
      "Error processing gp80229-2-210521.jpg in Chrysoberyl Cats Eye (Lehsunia)\n",
      "Error processing gp80223-1-210521.jpg in Chrysoberyl Cats Eye (Lehsunia)\n",
      "Error processing gp80229-3-210521.jpg in Chrysoberyl Cats Eye (Lehsunia)\n",
      "Error processing gp80230-2-210521.jpg in Chrysoberyl Cats Eye (Lehsunia)\n",
      "Error processing gp80230-3-210521.jpg in Chrysoberyl Cats Eye (Lehsunia)\n",
      "Error processing gp83389-1-090721.jpg in Chrysoberyl Cats Eye (Lehsunia)\n",
      "Error processing gp83389-2-090721.jpg in Chrysoberyl Cats Eye (Lehsunia)\n",
      "Error processing gp80230-1-210521.jpg in Chrysoberyl Cats Eye (Lehsunia)\n",
      "Error processing gp83391-2-090721.jpg in Chrysoberyl Cats Eye (Lehsunia)\n",
      "Error processing gp83391-1-090721.jpg in Chrysoberyl Cats Eye (Lehsunia)\n",
      "Error processing gp83389-3-090721.jpg in Chrysoberyl Cats Eye (Lehsunia)\n",
      "Error processing gp83392-2-090721.jpg in Chrysoberyl Cats Eye (Lehsunia)\n",
      "Error processing gp83392-1-090721.jpg in Chrysoberyl Cats Eye (Lehsunia)\n",
      "Error processing gp83393-2-090721.jpg in Chrysoberyl Cats Eye (Lehsunia)\n",
      "Error processing gp83393-1-090721.jpg in Chrysoberyl Cats Eye (Lehsunia)\n",
      "Error processing gp83391-3-090721.jpg in Chrysoberyl Cats Eye (Lehsunia)\n",
      "Error processing gp83393-3-090721.jpg in Chrysoberyl Cats Eye (Lehsunia)\n",
      "Error processing gp83394-1-090721.jpg in Chrysoberyl Cats Eye (Lehsunia)\n",
      "Error processing gp83392-3-090721.jpg in Chrysoberyl Cats Eye (Lehsunia)\n",
      "Error processing gp83394-2-090721.jpg in Chrysoberyl Cats Eye (Lehsunia)\n",
      "Error processing gp83396-1-090721.jpg in Chrysoberyl Cats Eye (Lehsunia)\n",
      "Error processing gp83394-3-090721.jpg in Chrysoberyl Cats Eye (Lehsunia)\n",
      "Error processing gp83396-2-090721.jpg in Chrysoberyl Cats Eye (Lehsunia)\n",
      "Error processing gp83396-3-090721.jpg in Chrysoberyl Cats Eye (Lehsunia)\n",
      "Error processing gp83397-1-090721.jpg in Chrysoberyl Cats Eye (Lehsunia)\n",
      "Error processing gp83397-3-090721.jpg in Chrysoberyl Cats Eye (Lehsunia)\n",
      "Error processing gp83398-2-090721.jpg in Chrysoberyl Cats Eye (Lehsunia)\n",
      "Error processing gp83398-1-090721.jpg in Chrysoberyl Cats Eye (Lehsunia)\n",
      "Error processing gp83400-2-090721.jpg in Chrysoberyl Cats Eye (Lehsunia)\n",
      "Error processing gp83397-2-090721.jpg in Chrysoberyl Cats Eye (Lehsunia)\n",
      "Error processing gp83398-3-090721.jpg in Chrysoberyl Cats Eye (Lehsunia)\n",
      "Error processing gp83400-1-090721.jpg in Chrysoberyl Cats Eye (Lehsunia)\n",
      "Error processing gp83401-1-090721.jpg in Chrysoberyl Cats Eye (Lehsunia)\n",
      "Error processing gp83401-2-090721.jpg in Chrysoberyl Cats Eye (Lehsunia)\n",
      "Error processing gp83400-3-090721.jpg in Chrysoberyl Cats Eye (Lehsunia)\n",
      "Error processing gp83404-1-090721.jpg in Chrysoberyl Cats Eye (Lehsunia)\n",
      "Error processing gp83401-3-090721.jpg in Chrysoberyl Cats Eye (Lehsunia)\n",
      "Error processing gp83404-3-090721.jpg in Chrysoberyl Cats Eye (Lehsunia)\n",
      "Error processing gp83409-2-090721.jpg in Chrysoberyl Cats Eye (Lehsunia)\n",
      "Error processing gp83409-1-090721.jpg in Chrysoberyl Cats Eye (Lehsunia)\n",
      "Error processing gp83404-2-090721.jpg in Chrysoberyl Cats Eye (Lehsunia)\n",
      "Error processing gp83409-3-090721.jpg in Chrysoberyl Cats Eye (Lehsunia)\n",
      "Error processing gp83411-2-090721.jpg in Chrysoberyl Cats Eye (Lehsunia)\n",
      "Error processing gp90404-2-241121.jpg in Chrysoberyl Cats Eye (Lehsunia)\n",
      "Error processing gp83411-1-090721.jpg in Chrysoberyl Cats Eye (Lehsunia)\n",
      "Error processing gp90404-1-241121.jpg in Chrysoberyl Cats Eye (Lehsunia)\n",
      "Error processing gp83411-3-090721.jpg in Chrysoberyl Cats Eye (Lehsunia)\n",
      "Error processing gp90527-3-271221.jpg in Chrysoberyl Cats Eye (Lehsunia)\n",
      "Error processing gp90528-1-271221.jpg in Chrysoberyl Cats Eye (Lehsunia)\n",
      "Error processing gp90528-2-271221.jpg in Chrysoberyl Cats Eye (Lehsunia)\n",
      "Error processing gp90528-3-271221.jpg in Chrysoberyl Cats Eye (Lehsunia)\n",
      "Error processing gp90529-1-271221.jpg in Chrysoberyl Cats Eye (Lehsunia)\n",
      "Error processing gp90529-2-271221.jpg in Chrysoberyl Cats Eye (Lehsunia)\n",
      "Error processing gp90529-3-271221.jpg in Chrysoberyl Cats Eye (Lehsunia)\n",
      "Error processing gp90589-1-120122.jpg in Chrysoberyl Cats Eye (Lehsunia)\n",
      "Error processing gp90589-2-120122.jpg in Chrysoberyl Cats Eye (Lehsunia)\n",
      "Error processing gp90527-1-271221.jpg in Chrysoberyl Cats Eye (Lehsunia)\n",
      "Error processing gp90590-1-120122.jpg in Chrysoberyl Cats Eye (Lehsunia)\n",
      "Error processing gp90589-3-120122.jpg in Chrysoberyl Cats Eye (Lehsunia)\n",
      "Error processing gp90590-3-120122.jpg in Chrysoberyl Cats Eye (Lehsunia)\n",
      "Error processing gp90527-2-271221.jpg in Chrysoberyl Cats Eye (Lehsunia)\n",
      "Error processing gp90590-2-120122.jpg in Chrysoberyl Cats Eye (Lehsunia)\n",
      "Error processing gp90404-3-241121.jpg in Chrysoberyl Cats Eye (Lehsunia)\n",
      "Error processing gp90591-2-120122.jpg in Chrysoberyl Cats Eye (Lehsunia)\n",
      "Error processing gp90591-1-120122.jpg in Chrysoberyl Cats Eye (Lehsunia)\n",
      "Error processing gp91187-1-201121.jpg in Chrysoberyl Cats Eye (Lehsunia)\n",
      "Error processing gp90591-3-120122.jpg in Chrysoberyl Cats Eye (Lehsunia)\n",
      "Error processing gp91188-1-211028.jpg in Chrysoberyl Cats Eye (Lehsunia)\n",
      "Error processing gp91187-3-201121.jpg in Chrysoberyl Cats Eye (Lehsunia)\n",
      "Error processing gp91187-2-201121.jpg in Chrysoberyl Cats Eye (Lehsunia)\n",
      "Error processing gp91189-2-211028.jpg in Chrysoberyl Cats Eye (Lehsunia)\n",
      "Error processing gp91188-2-211028.jpg in Chrysoberyl Cats Eye (Lehsunia)\n",
      "Error processing gp91189-1-211028.jpg in Chrysoberyl Cats Eye (Lehsunia)\n",
      "Error processing gp91189-3-211028.jpg in Chrysoberyl Cats Eye (Lehsunia)\n",
      "Error processing gp91252-2-151121.jpg in Chrysoberyl Cats Eye (Lehsunia)\n",
      "Error processing gp91188-3-211028.jpg in Chrysoberyl Cats Eye (Lehsunia)\n",
      "Error processing gp91252-1-151121.jpg in Chrysoberyl Cats Eye (Lehsunia)\n",
      "Error processing gp91252-3-151121.jpg in Chrysoberyl Cats Eye (Lehsunia)\n",
      "Error processing gp91254-2-151121.jpg in Chrysoberyl Cats Eye (Lehsunia)\n",
      "Error processing gp91254-3-151121.jpg in Chrysoberyl Cats Eye (Lehsunia)\n",
      "Error processing gp91255-1-151121.jpg in Chrysoberyl Cats Eye (Lehsunia)\n",
      "Error processing gp91256-1-151121.jpg in Chrysoberyl Cats Eye (Lehsunia)\n",
      "Error processing gp91255-3-151121.jpg in Chrysoberyl Cats Eye (Lehsunia)\n",
      "Error processing gp91256-2-151121.jpg in Chrysoberyl Cats Eye (Lehsunia)\n",
      "Error processing gp91256-3-151121.jpg in Chrysoberyl Cats Eye (Lehsunia)\n",
      "Error processing gp91258-2-151121.jpg in Chrysoberyl Cats Eye (Lehsunia)\n",
      "Error processing gp91255-2-151121.jpg in Chrysoberyl Cats Eye (Lehsunia)\n",
      "Error processing gp91258-3-151121.jpg in Chrysoberyl Cats Eye (Lehsunia)\n",
      "Error processing gp91259-1-151121.jpg in Chrysoberyl Cats Eye (Lehsunia)\n",
      "Error processing gp91259-3-151121.jpg in Chrysoberyl Cats Eye (Lehsunia)\n",
      "Error processing gp91260-1-151121.jpg in Chrysoberyl Cats Eye (Lehsunia)\n",
      "Error processing gp91260-2-151121.jpg in Chrysoberyl Cats Eye (Lehsunia)\n",
      "Error processing gp91260-3-151121.jpg in Chrysoberyl Cats Eye (Lehsunia)\n",
      "Error processing gp91262-1-151121.jpg in Chrysoberyl Cats Eye (Lehsunia)\n",
      "Error processing gp91262-2-151121.jpg in Chrysoberyl Cats Eye (Lehsunia)\n",
      "Error processing gp91259-2-151121.jpg in Chrysoberyl Cats Eye (Lehsunia)\n",
      "Error processing gp91264-1-151121.jpg in Chrysoberyl Cats Eye (Lehsunia)\n",
      "Error processing gp91264-2-151121.jpg in Chrysoberyl Cats Eye (Lehsunia)\n",
      "Error processing gp91262-3-151121.jpg in Chrysoberyl Cats Eye (Lehsunia)\n",
      "Error processing gp91258-1-151121.jpg in Chrysoberyl Cats Eye (Lehsunia)\n",
      "Error processing gp91264-3-151121.jpg in Chrysoberyl Cats Eye (Lehsunia)\n",
      "Error processing gp91254-1-151121.jpg in Chrysoberyl Cats Eye (Lehsunia)\n",
      "Error processing gp91265-1-151121.jpg in Chrysoberyl Cats Eye (Lehsunia)\n",
      "Error processing gp91265-2-151121.jpg in Chrysoberyl Cats Eye (Lehsunia)\n",
      "Error processing gp91265-3-151121.jpg in Chrysoberyl Cats Eye (Lehsunia)\n",
      "Error processing gp91266-1-151121.jpg in Chrysoberyl Cats Eye (Lehsunia)\n",
      "Error processing gp91266-2-151121.jpg in Chrysoberyl Cats Eye (Lehsunia)\n",
      "Error processing gp91266-3-151121.jpg in Chrysoberyl Cats Eye (Lehsunia)\n",
      "Error processing gp91267-1-151121.jpg in Chrysoberyl Cats Eye (Lehsunia)\n",
      "Error processing gp91267-2-151121.jpg in Chrysoberyl Cats Eye (Lehsunia)\n",
      "Error processing gp91268-2-151121.jpg in Chrysoberyl Cats Eye (Lehsunia)\n",
      "Error processing gp91267-3-151121.jpg in Chrysoberyl Cats Eye (Lehsunia)\n",
      "Error processing gp91268-3-151121.jpg in Chrysoberyl Cats Eye (Lehsunia)\n",
      "Error processing gp91269-2-151121.jpg in Chrysoberyl Cats Eye (Lehsunia)\n",
      "Error processing gp91269-3-151121.jpg in Chrysoberyl Cats Eye (Lehsunia)\n",
      "Error processing gp91270-1-151121.jpg in Chrysoberyl Cats Eye (Lehsunia)\n",
      "Error processing gp91269-1-151121.jpg in Chrysoberyl Cats Eye (Lehsunia)\n",
      "Error processing gp91268-1-151121.jpg in Chrysoberyl Cats Eye (Lehsunia)\n",
      "Error processing gp91271-1-151121.jpg in Chrysoberyl Cats Eye (Lehsunia)\n",
      "Error processing gp91270-3-151121.jpg in Chrysoberyl Cats Eye (Lehsunia)\n",
      "Error processing gp91270-2-151121.jpg in Chrysoberyl Cats Eye (Lehsunia)\n",
      "Error processing gp91271-3-151121.jpg in Chrysoberyl Cats Eye (Lehsunia)\n",
      "Error processing gp91271-2-151121.jpg in Chrysoberyl Cats Eye (Lehsunia)\n",
      "Error processing gp91272-1-151121.jpg in Chrysoberyl Cats Eye (Lehsunia)\n",
      "Error processing gp91272-2-151121.jpg in Chrysoberyl Cats Eye (Lehsunia)\n",
      "Error processing gp91273-2-151121.jpg in Chrysoberyl Cats Eye (Lehsunia)\n",
      "Error processing gp91273-3-151121.jpg in Chrysoberyl Cats Eye (Lehsunia)\n",
      "Error processing gp91273-1-151121.jpg in Chrysoberyl Cats Eye (Lehsunia)\n",
      "Error processing gp91272-3-151121.jpg in Chrysoberyl Cats Eye (Lehsunia)\n",
      "Error processing gp91274-2-151121.jpg in Chrysoberyl Cats Eye (Lehsunia)\n",
      "Error processing gp91274-3-151121.jpg in Chrysoberyl Cats Eye (Lehsunia)\n",
      "Error processing gp91276-2-151121.jpg in Chrysoberyl Cats Eye (Lehsunia)\n",
      "Error processing gp91276-1-151121.jpg in Chrysoberyl Cats Eye (Lehsunia)\n",
      "Error processing gp91276-3-151121.jpg in Chrysoberyl Cats Eye (Lehsunia)\n",
      "Error processing gp91277-1-151121.jpg in Chrysoberyl Cats Eye (Lehsunia)\n",
      "Error processing gp91274-1-151121.jpg in Chrysoberyl Cats Eye (Lehsunia)\n",
      "Error processing gp91277-3-151121.jpg in Chrysoberyl Cats Eye (Lehsunia)\n",
      "Error processing gp91278-1-151121.jpg in Chrysoberyl Cats Eye (Lehsunia)\n",
      "Error processing gp91278-3-151121.jpg in Chrysoberyl Cats Eye (Lehsunia)\n",
      "Error processing gp91277-2-151121.jpg in Chrysoberyl Cats Eye (Lehsunia)\n",
      "Error processing gp91280-1-151121.jpg in Chrysoberyl Cats Eye (Lehsunia)\n",
      "Error processing gp91280-2-151121.jpg in Chrysoberyl Cats Eye (Lehsunia)\n",
      "Error processing gp91278-2-151121.jpg in Chrysoberyl Cats Eye (Lehsunia)\n",
      "Error processing gp91281-1-151121.jpg in Chrysoberyl Cats Eye (Lehsunia)\n",
      "Error processing gp91281-2-151121.jpg in Chrysoberyl Cats Eye (Lehsunia)\n",
      "Error processing gp91281-3-151121.jpg in Chrysoberyl Cats Eye (Lehsunia)\n",
      "Error processing gp91280-3-151121.jpg in Chrysoberyl Cats Eye (Lehsunia)\n",
      "Error processing gp91282-1-151121.jpg in Chrysoberyl Cats Eye (Lehsunia)\n",
      "Error processing gp91282-2-151121.jpg in Chrysoberyl Cats Eye (Lehsunia)\n",
      "Error processing gp91282-3-151121.jpg in Chrysoberyl Cats Eye (Lehsunia)\n",
      "Error processing gp91283-1-151121.jpg in Chrysoberyl Cats Eye (Lehsunia)\n",
      "Error processing gp91283-3-151121.jpg in Chrysoberyl Cats Eye (Lehsunia)\n",
      "Error processing gp91284-2-151121.jpg in Chrysoberyl Cats Eye (Lehsunia)\n",
      "Error processing gp91283-2-151121.jpg in Chrysoberyl Cats Eye (Lehsunia)\n",
      "Error processing gp91284-3-151121.jpg in Chrysoberyl Cats Eye (Lehsunia)\n",
      "Error processing gp91284-1-151121.jpg in Chrysoberyl Cats Eye (Lehsunia)\n",
      "Error processing gp91289-1-151121.jpg in Chrysoberyl Cats Eye (Lehsunia)\n",
      "Error processing gp91289-3-151121.jpg in Chrysoberyl Cats Eye (Lehsunia)\n",
      "Error processing gp91290-3-151121.jpg in Chrysoberyl Cats Eye (Lehsunia)\n",
      "Error processing gp91290-1-151121.jpg in Chrysoberyl Cats Eye (Lehsunia)\n",
      "Error processing gp91290-2-151121.jpg in Chrysoberyl Cats Eye (Lehsunia)\n",
      "Error processing gp91291-1-151121.jpg in Chrysoberyl Cats Eye (Lehsunia)\n",
      "Error processing gp91291-2-151121.jpg in Chrysoberyl Cats Eye (Lehsunia)\n",
      "Error processing gp91289-2-151121.jpg in Chrysoberyl Cats Eye (Lehsunia)\n",
      "Error processing gp91292-1-151121.jpg in Chrysoberyl Cats Eye (Lehsunia)\n",
      "Error processing gp91293-1-151121.jpg in Chrysoberyl Cats Eye (Lehsunia)\n",
      "Error processing gp91292-2-151121.jpg in Chrysoberyl Cats Eye (Lehsunia)\n",
      "Error processing gp91292-3-151121.jpg in Chrysoberyl Cats Eye (Lehsunia)\n",
      "Error processing gp91293-2-151121.jpg in Chrysoberyl Cats Eye (Lehsunia)\n",
      "Error processing gp91294-1-151121.jpg in Chrysoberyl Cats Eye (Lehsunia)\n",
      "Error processing gp91294-2-151121.jpg in Chrysoberyl Cats Eye (Lehsunia)\n",
      "Error processing gp91293-3-151121.jpg in Chrysoberyl Cats Eye (Lehsunia)\n",
      "Error processing gp91294-3-151121.jpg in Chrysoberyl Cats Eye (Lehsunia)\n",
      "Error processing gp91291-3-151121.jpg in Chrysoberyl Cats Eye (Lehsunia)\n",
      "Error processing gp91295-2-151121.jpg in Chrysoberyl Cats Eye (Lehsunia)\n",
      "Error processing gp91295-1-151121.jpg in Chrysoberyl Cats Eye (Lehsunia)\n",
      "Error processing gp91295-3-151121.jpg in Chrysoberyl Cats Eye (Lehsunia)\n",
      "Error processing gp91297-1-151121.jpg in Chrysoberyl Cats Eye (Lehsunia)\n",
      "Error processing gp91298-1-151121.jpg in Chrysoberyl Cats Eye (Lehsunia)\n",
      "Error processing gp91297-3-151121.jpg in Chrysoberyl Cats Eye (Lehsunia)\n",
      "Error processing gp91297-2-151121.jpg in Chrysoberyl Cats Eye (Lehsunia)\n",
      "Error processing gp91299-1-151121.jpg in Chrysoberyl Cats Eye (Lehsunia)\n",
      "Error processing gp91298-2-151121.jpg in Chrysoberyl Cats Eye (Lehsunia)\n",
      "Error processing gp91298-3-151121.jpg in Chrysoberyl Cats Eye (Lehsunia)\n",
      "Error processing gp91299-2-151121.jpg in Chrysoberyl Cats Eye (Lehsunia)\n",
      "Error processing gp91300-2-151121.jpg in Chrysoberyl Cats Eye (Lehsunia)\n",
      "Error processing gp91300-1-151121.jpg in Chrysoberyl Cats Eye (Lehsunia)\n",
      "Error processing gp91299-3-151121.jpg in Chrysoberyl Cats Eye (Lehsunia)\n",
      "Error processing gp91300-3-151121.jpg in Chrysoberyl Cats Eye (Lehsunia)\n",
      "Error processing gp91301-2-151121.jpg in Chrysoberyl Cats Eye (Lehsunia)\n",
      "Error processing gp91301-1-151121.jpg in Chrysoberyl Cats Eye (Lehsunia)\n",
      "Error processing gp91518-1-201121.jpg in Chrysoberyl Cats Eye (Lehsunia)\n",
      "Error processing gp91518-2-201121.jpg in Chrysoberyl Cats Eye (Lehsunia)\n",
      "Error processing gp91301-3-151121.jpg in Chrysoberyl Cats Eye (Lehsunia)\n",
      "Error processing gp91518-3-201121.jpg in Chrysoberyl Cats Eye (Lehsunia)\n",
      "Error processing gp91519-1-201121.jpg in Chrysoberyl Cats Eye (Lehsunia)\n",
      "Error processing gp91519-3-201121.jpg in Chrysoberyl Cats Eye (Lehsunia)\n",
      "Error processing gp91519-2-201121.jpg in Chrysoberyl Cats Eye (Lehsunia)\n",
      "Error processing gp95902-1-110322.jpg in Chrysoberyl Cats Eye (Lehsunia)\n",
      "Error processing gp95902-2-110322.jpg in Chrysoberyl Cats Eye (Lehsunia)\n",
      "Error processing gp95902-3-110322.jpg in Chrysoberyl Cats Eye (Lehsunia)\n",
      "Error processing gp95903-2-110322.jpg in Chrysoberyl Cats Eye (Lehsunia)\n",
      "Error processing gp95903-1-110322.jpg in Chrysoberyl Cats Eye (Lehsunia)\n",
      "Error processing gp95903-3-110322.jpg in Chrysoberyl Cats Eye (Lehsunia)\n",
      "Error processing gp95905-1-110322.jpg in Chrysoberyl Cats Eye (Lehsunia)\n",
      "Error processing gp95905-2-110322.jpg in Chrysoberyl Cats Eye (Lehsunia)\n",
      "Error processing gp95905-3-110322.jpg in Chrysoberyl Cats Eye (Lehsunia)\n",
      "Error processing gp96397-1-160622_1.jpg in Chrysoberyl Cats Eye (Lehsunia)\n",
      "Error processing gp96397-3-160622.jpg in Chrysoberyl Cats Eye (Lehsunia)\n",
      "Error processing gp96400-1-160622_1.jpg in Chrysoberyl Cats Eye (Lehsunia)\n",
      "Error processing gp96400-2-160622.jpg in Chrysoberyl Cats Eye (Lehsunia)\n",
      "Error processing gp96403-2-160622.jpg in Chrysoberyl Cats Eye (Lehsunia)\n",
      "Error processing gp96403-1-160622_1.jpg in Chrysoberyl Cats Eye (Lehsunia)\n",
      "Error processing gp96397-2-160622.jpg in Chrysoberyl Cats Eye (Lehsunia)\n",
      "Error processing gp96404-1-160622_1.jpg in Chrysoberyl Cats Eye (Lehsunia)\n",
      "Error processing gp96403-3-160622.jpg in Chrysoberyl Cats Eye (Lehsunia)\n",
      "Error processing gp96404-2-160622.jpg in Chrysoberyl Cats Eye (Lehsunia)\n",
      "Error processing gp96405-2-160622.jpg in Chrysoberyl Cats Eye (Lehsunia)\n",
      "Error processing gp96405-3-160622.jpg in Chrysoberyl Cats Eye (Lehsunia)\n",
      "Error processing gp96400-3-160622.jpg in Chrysoberyl Cats Eye (Lehsunia)\n",
      "Error processing gp96405-1-160622_1.jpg in Chrysoberyl Cats Eye (Lehsunia)\n",
      "Error processing gp96445-1-280622_1.jpg in Chrysoberyl Cats Eye (Lehsunia)\n",
      "Error processing gp96445-2-280622.jpg in Chrysoberyl Cats Eye (Lehsunia)\n",
      "Error processing gp96404-3-160622.jpg in Chrysoberyl Cats Eye (Lehsunia)\n",
      "Error processing gp96446-1-280622_1.jpg in Chrysoberyl Cats Eye (Lehsunia)\n",
      "Error processing gp96446-3-280622.jpg in Chrysoberyl Cats Eye (Lehsunia)\n",
      "Error processing gp96447-1-280622_1.jpg in Chrysoberyl Cats Eye (Lehsunia)\n",
      "Error processing gp96445-3-280622.jpg in Chrysoberyl Cats Eye (Lehsunia)\n",
      "Error processing gp96446-2-280622.jpg in Chrysoberyl Cats Eye (Lehsunia)\n",
      "Error processing gp96447-2-280622.jpg in Chrysoberyl Cats Eye (Lehsunia)\n",
      "Error processing gp96691-1-030922.jpg in Chrysoberyl Cats Eye (Lehsunia)\n",
      "Error processing gp96691-2-030922.jpg in Chrysoberyl Cats Eye (Lehsunia)\n",
      "Error processing gp96691-3-030922.jpg in Chrysoberyl Cats Eye (Lehsunia)\n",
      "Error processing gp96447-3-280622.jpg in Chrysoberyl Cats Eye (Lehsunia)\n",
      "Error processing gp96694-3-030922.jpg in Chrysoberyl Cats Eye (Lehsunia)\n",
      "Error processing gp96694-2-030922.jpg in Chrysoberyl Cats Eye (Lehsunia)\n",
      "Error processing gp96694-1-030922.jpg in Chrysoberyl Cats Eye (Lehsunia)\n",
      "Error processing gp96695-1-030922.jpg in Chrysoberyl Cats Eye (Lehsunia)\n",
      "Error processing gp96695-2-030922.jpg in Chrysoberyl Cats Eye (Lehsunia)\n",
      "Error processing gp96695-3-030922.jpg in Chrysoberyl Cats Eye (Lehsunia)\n",
      "Error processing gp96696-2-030922.jpg in Chrysoberyl Cats Eye (Lehsunia)\n",
      "Error processing gp96696-1-030922.jpg in Chrysoberyl Cats Eye (Lehsunia)\n",
      "Error processing gp96696-3-030922.jpg in Chrysoberyl Cats Eye (Lehsunia)\n",
      "Error processing gp96697-1-030922.jpg in Chrysoberyl Cats Eye (Lehsunia)\n",
      "Error processing gp96697-2-030922.jpg in Chrysoberyl Cats Eye (Lehsunia)\n",
      "Error processing gp96698-1-030922.jpg in Chrysoberyl Cats Eye (Lehsunia)\n",
      "Error processing gp96697-3-030922.jpg in Chrysoberyl Cats Eye (Lehsunia)\n",
      "Error processing gp96698-2-030922.jpg in Chrysoberyl Cats Eye (Lehsunia)\n",
      "Error processing gp96698-3-030922.jpg in Chrysoberyl Cats Eye (Lehsunia)\n",
      "Error processing gp96700-1-030922.jpg in Chrysoberyl Cats Eye (Lehsunia)\n",
      "Error processing gp96700-2-030922.jpg in Chrysoberyl Cats Eye (Lehsunia)\n",
      "Error processing gp96700-3-030922.jpg in Chrysoberyl Cats Eye (Lehsunia)\n",
      "Error processing gp96701-1-030922.jpg in Chrysoberyl Cats Eye (Lehsunia)\n",
      "Error processing gp96701-2-030922.jpg in Chrysoberyl Cats Eye (Lehsunia)\n",
      "Error processing gp96701-3-030922.jpg in Chrysoberyl Cats Eye (Lehsunia)\n",
      "Error processing gp96702-1-030922.jpg in Chrysoberyl Cats Eye (Lehsunia)\n",
      "Error processing gp96702-2-030922.jpg in Chrysoberyl Cats Eye (Lehsunia)\n",
      "Error processing gp96702-3-030922.jpg in Chrysoberyl Cats Eye (Lehsunia)\n",
      "Error processing gp96787-1-180922.jpg in Chrysoberyl Cats Eye (Lehsunia)\n",
      "Error processing gp96787-2-180922.jpg in Chrysoberyl Cats Eye (Lehsunia)\n",
      "Error processing gp96787-3-180922.jpg in Chrysoberyl Cats Eye (Lehsunia)\n",
      "Error processing gp96788-1-180922.jpg in Chrysoberyl Cats Eye (Lehsunia)\n",
      "Error processing gp96788-2-180922.jpg in Chrysoberyl Cats Eye (Lehsunia)\n",
      "Error processing gp96789-1-180922.jpg in Chrysoberyl Cats Eye (Lehsunia)\n",
      "Error processing gp96789-2-180922.jpg in Chrysoberyl Cats Eye (Lehsunia)\n",
      "Error processing gp96788-3-180922.jpg in Chrysoberyl Cats Eye (Lehsunia)\n",
      "Error processing gp96789-3-180922.jpg in Chrysoberyl Cats Eye (Lehsunia)\n",
      "Error processing gp96790-1-180922.jpg in Chrysoberyl Cats Eye (Lehsunia)\n",
      "Error processing gp96791-1-180922.jpg in Chrysoberyl Cats Eye (Lehsunia)\n",
      "Error processing gp96790-2-180922.jpg in Chrysoberyl Cats Eye (Lehsunia)\n",
      "Error processing gp96790-3-180922.jpg in Chrysoberyl Cats Eye (Lehsunia)\n",
      "Error processing gp96791-2-180922.jpg in Chrysoberyl Cats Eye (Lehsunia)\n",
      "Error processing gp96791-3-180922.jpg in Chrysoberyl Cats Eye (Lehsunia)\n",
      "Error processing gp96792-1-180922.jpg in Chrysoberyl Cats Eye (Lehsunia)\n",
      "Error processing gp96792-2-180922.jpg in Chrysoberyl Cats Eye (Lehsunia)\n",
      "Error processing gp96792-3-180922.jpg in Chrysoberyl Cats Eye (Lehsunia)\n",
      "Error processing gp96937-2-121022.jpg in Chrysoberyl Cats Eye (Lehsunia)\n",
      "Error processing gp96937-1-121022.jpg in Chrysoberyl Cats Eye (Lehsunia)\n",
      "Error processing gp96937-3-121022.jpg in Chrysoberyl Cats Eye (Lehsunia)\n",
      "Error processing gp96938-3-121022.jpg in Chrysoberyl Cats Eye (Lehsunia)\n",
      "Error processing gp96938-2-121022.jpg in Chrysoberyl Cats Eye (Lehsunia)\n",
      "Error processing gp96938-1-121022.jpg in Chrysoberyl Cats Eye (Lehsunia)\n",
      "Error processing gp98021-2-150422.jpg in Chrysoberyl Cats Eye (Lehsunia)\n",
      "Error processing gp98021-3-150422.jpg in Chrysoberyl Cats Eye (Lehsunia)\n",
      "Error processing gp98021-1-150422.jpg in Chrysoberyl Cats Eye (Lehsunia)\n",
      "Error processing gp98022-2-150422.jpg in Chrysoberyl Cats Eye (Lehsunia)\n",
      "Error processing gp98022-3-150422.jpg in Chrysoberyl Cats Eye (Lehsunia)\n",
      "Error processing gp98022-1-150422.jpg in Chrysoberyl Cats Eye (Lehsunia)\n",
      "Error processing gp98023-1-150422.jpg in Chrysoberyl Cats Eye (Lehsunia)\n",
      "Error processing gp98023-2-150422.jpg in Chrysoberyl Cats Eye (Lehsunia)\n",
      "Error processing gp98023-3-150422.jpg in Chrysoberyl Cats Eye (Lehsunia)\n",
      "Error processing gp98024-1-150422.jpg in Chrysoberyl Cats Eye (Lehsunia)\n",
      "Error processing gp98024-3-150422.jpg in Chrysoberyl Cats Eye (Lehsunia)\n",
      "Error processing gp98024-2-150422.jpg in Chrysoberyl Cats Eye (Lehsunia)\n",
      "Error processing gp98025-1-150422.jpg in Chrysoberyl Cats Eye (Lehsunia)\n",
      "Error processing gp98026-1-150422.jpg in Chrysoberyl Cats Eye (Lehsunia)\n",
      "Error processing gp98025-3-150422.jpg in Chrysoberyl Cats Eye (Lehsunia)\n",
      "Error processing gp98025-2-150422.jpg in Chrysoberyl Cats Eye (Lehsunia)\n",
      "Error processing gp98026-2-150422.jpg in Chrysoberyl Cats Eye (Lehsunia)\n",
      "Error processing gp98026-3-150422.jpg in Chrysoberyl Cats Eye (Lehsunia)\n",
      "Error processing gp98547-1-030522.jpg in Chrysoberyl Cats Eye (Lehsunia)\n",
      "Error processing gp98547-2-030522.jpg in Chrysoberyl Cats Eye (Lehsunia)\n",
      "Error processing gp98547-3-030522.jpg in Chrysoberyl Cats Eye (Lehsunia)\n",
      "Error processing gp98548-1-030522.jpg in Chrysoberyl Cats Eye (Lehsunia)\n",
      "Error processing gp98548-3-030522.jpg in Chrysoberyl Cats Eye (Lehsunia)\n",
      "Error processing gp98548-2-030522.jpg in Chrysoberyl Cats Eye (Lehsunia)\n",
      "Error processing gp98704-1-030522.jpg in Chrysoberyl Cats Eye (Lehsunia)\n",
      "Error processing gp98705-1-030522.jpg in Chrysoberyl Cats Eye (Lehsunia)\n",
      "Error processing gp98704-2-030522.jpg in Chrysoberyl Cats Eye (Lehsunia)\n",
      "Error processing gp98705-2-030522.jpg in Chrysoberyl Cats Eye (Lehsunia)\n",
      "Error processing gp98704-3-030522.jpg in Chrysoberyl Cats Eye (Lehsunia)\n",
      "Error processing gp98706-1-030522.jpg in Chrysoberyl Cats Eye (Lehsunia)\n",
      "Error processing gp98706-2-030522.jpg in Chrysoberyl Cats Eye (Lehsunia)\n",
      "Error processing gp98705-3-030522.jpg in Chrysoberyl Cats Eye (Lehsunia)\n",
      "Error processing gp98706-3-030522.jpg in Chrysoberyl Cats Eye (Lehsunia)\n",
      "Error processing gp98707-1-030522.jpg in Chrysoberyl Cats Eye (Lehsunia)\n",
      "Error processing gp98708-1-030522.jpg in Chrysoberyl Cats Eye (Lehsunia)\n",
      "Error processing gp98708-3-030522.jpg in Chrysoberyl Cats Eye (Lehsunia)\n",
      "Error processing gp98707-3-030522.jpg in Chrysoberyl Cats Eye (Lehsunia)\n",
      "Error processing gp98708-2-030522.jpg in Chrysoberyl Cats Eye (Lehsunia)\n",
      "Error processing gp98707-2-030522.jpg in Chrysoberyl Cats Eye (Lehsunia)\n",
      "Error processing gp85406-3-270821.jpg in Colombian Emerald\n",
      "Error processing gp93992-1-070322.jpg in Cultured Pearls\n",
      "Error processing gp93992-4-070322.jpg in Cultured Pearls\n",
      "Error processing gp93993-1-070322.jpg in Cultured Pearls\n",
      "Error processing gp93996-2-070322.jpg in Cultured Pearls\n",
      "Error processing gp93998-3-070322.jpg in Cultured Pearls\n",
      "Error processing gp62919-1-080521.jpg in CVN15J~1\n",
      "Error processing gp85406-3-270821.jpg in Emerald (Panna)\n",
      "Error processing gp96520-3-160722.jpg in Emerald (Panna)\n",
      "Error processing Thumbs.db in Emerald (Panna)\n",
      "Error processing gp53680-2.jpg in Moldavite\n",
      "Error processing gp53721-2.jpg in Moldavite\n",
      "Error processing gp53779-2.jpg in Moldavite\n",
      "Error processing gp53787-2.jpg in Moldavite\n",
      "Error processing gp53792-2.jpg in Moldavite\n",
      "Error processing gp53794-2.jpg in Moldavite\n",
      "Error processing gp53797-2.jpg in Moldavite\n",
      "Error processing gp53805-2.jpg in Moldavite\n",
      "Error processing gp53813-2.jpg in Moldavite\n",
      "Error processing gp53823-2.jpg in Moldavite\n",
      "Error processing gp53837-2.jpg in Moldavite\n",
      "Error processing gp56942-2-191220.jpg in Moldavite\n",
      "Error processing gp64266-2-160920.jpg in Moldavite\n",
      "Error processing gp64271-2-230222.jpg in Moldavite\n",
      "Error processing gp64277-2-230222.jpg in Moldavite\n",
      "Error processing gp64294-2-160920.jpg in Moldavite\n",
      "Error processing gp64297-2-160920.jpg in Moldavite\n",
      "Error processing gp64299-2-230222.jpg in Moldavite\n",
      "Error processing gp64305-2-160920.jpg in Moldavite\n",
      "Error processing gp64310-2-160920.jpg in Moldavite\n",
      "Error processing gp64327-2-230222.jpg in Moldavite\n",
      "Error processing gp64328-2-160920.jpg in Moldavite\n",
      "Error processing gp64328-4-160920.jpg in Moldavite\n",
      "Error processing gp64332-2-230222.jpg in Moldavite\n",
      "Error processing gp66748-3-071220.jpg in Moldavite\n",
      "Error processing gp66770-2-041120.jpg in Moldavite\n",
      "Error processing gp66779-2-101220.jpg in Moldavite\n",
      "Error processing gp66781-2-101220.jpg in Moldavite\n",
      "Error processing gp66801-2-041120.jpg in Moldavite\n",
      "Error processing gp66806-2-041120.jpg in Moldavite\n",
      "Error processing gp66810-2-041120.jpg in Moldavite\n",
      "Error processing gp66812-2-041120.jpg in Moldavite\n",
      "Error processing gp66813-2-041120.jpg in Moldavite\n",
      "Error processing gp66844-2-041120.jpg in Moldavite\n",
      "Error processing gp66849-2-041120.jpg in Moldavite\n",
      "Error processing gp66852-2-041120.jpg in Moldavite\n",
      "Error processing gp66858-2-041120.jpg in Moldavite\n",
      "Error processing gp66860-2-041120.jpg in Moldavite\n",
      "Error processing gp66882-2-041120.jpg in Moldavite\n",
      "Error processing gp69950-2-181220.jpg in Moldavite\n",
      "Error processing gp69982-2-151220.jpg in Moldavite\n",
      "Error processing gp69989-2-151220.jpg in Moldavite\n",
      "Error processing gp69993-2-181220.jpg in Moldavite\n",
      "Error processing gp69998-2-181220.jpg in Moldavite\n",
      "Error processing gp70002-2-181220.jpg in Moldavite\n",
      "Error processing gp70023-2-181220.jpg in Moldavite\n",
      "Error processing gp70032-2-151220.jpg in Moldavite\n",
      "Error processing gp70037-2-151220.jpg in Moldavite\n",
      "Error processing gp70042-2-151220.jpg in Moldavite\n",
      "Error processing gp70050-2-151220.jpg in Moldavite\n",
      "Error processing gp70063-2-181220.jpg in Moldavite\n",
      "Error processing gp70065-2-181220.jpg in Moldavite\n",
      "Error processing gp70066-2-181220.jpg in Moldavite\n",
      "Error processing gp70073-2-181220.jpg in Moldavite\n",
      "Error processing gp70075-2-181220.jpg in Moldavite\n",
      "Error processing gp70078-2-181220.jpg in Moldavite\n",
      "Error processing gp70093-2-181220.jpg in Moldavite\n",
      "Error processing gp70101-2-181220.jpg in Moldavite\n",
      "Error processing gp70106-2-181220.jpg in Moldavite\n",
      "Error processing gp70138-2-181220.jpg in Moldavite\n",
      "Error processing gp70165-2-181220.jpg in Moldavite\n",
      "Error processing gp70166-2-181220.jpg in Moldavite\n",
      "Error processing gp99225-3-200722.jpg in Opal\n",
      "Error processing gp99228-3-200722.jpg in Opal\n",
      "Error processing gp99231-3-200722.jpg in Opal\n",
      "Error processing gp99232-3-200722.jpg in Opal\n",
      "Error processing gp99233-3-200722.jpg in Opal\n",
      "Error processing gp99237-3-200722.jpg in Opal\n",
      "Error processing gp62189-1-121120_1.jpg in Padparadscha Sapphire\n",
      "Error processing gp62190-1-121120_1.jpg in Padparadscha Sapphire\n",
      "Error processing gp62194-1-121120_1.jpg in Padparadscha Sapphire\n",
      "Error processing gp62195-1-121120_1.jpg in Padparadscha Sapphire\n",
      "Error processing gp62192-1-121120_1.jpg in Padparadscha Sapphire\n",
      "Error processing gp93992-1-070322.jpg in Pearl (Moti)\n",
      "Error processing gp93992-4-070322.jpg in Pearl (Moti)\n",
      "Error processing gp93993-1-070322.jpg in Pearl (Moti)\n",
      "Error processing gp93996-2-070322.jpg in Pearl (Moti)\n",
      "Error processing gp93998-3-070322.jpg in Pearl (Moti)\n",
      "Error processing gp62919-1-080521.jpg in Royal Blue Sapphire\n",
      "Error processing gp62189-1-121120_1.jpg in Sapphire\n",
      "Error processing gp62190-1-121120_1.jpg in Sapphire\n",
      "Error processing gp62192-1-121120_1.jpg in Sapphire\n",
      "Error processing gp62194-1-121120_1.jpg in Sapphire\n",
      "Error processing gp62195-1-121120_1.jpg in Sapphire\n",
      "Error processing gp62919-1-080521.jpg in Sapphire\n",
      "Error processing gp80946-3-190521.jpg in Sapphire\n",
      "Error processing gp93992-1-070322.jpg in South Sea Pearls\n",
      "Error processing gp93992-4-070322.jpg in South Sea Pearls\n",
      "Error processing gp93993-1-070322.jpg in South Sea Pearls\n",
      "Error processing gp93996-2-070322.jpg in South Sea Pearls\n",
      "Error processing gp93998-3-070322.jpg in South Sea Pearls\n",
      "Error processing gp96524-3-160722.jpg in Tanzanite\n",
      "Error processing gp52045-3.jpg in TUNFRO~K\n",
      "Error processing gp99225-3-200722.jpg in White Opal\n",
      "Error processing gp99228-3-200722.jpg in White Opal\n",
      "Error processing gp99231-3-200722.jpg in White Opal\n",
      "Error processing gp99232-3-200722.jpg in White Opal\n",
      "Error processing gp99233-3-200722.jpg in White Opal\n",
      "Error processing gp99237-3-200722.jpg in White Opal\n",
      "Error processing gp80946-3-190521.jpg in Yellow Sapphire - Pukhraj\n",
      "Error processing gp80646-3-290421.jpg in Yellow Topaz\n",
      "Error processing gp96520-3-160722.jpg in Zambian Emerald\n"
     ]
    }
   ],
   "source": [
    "def resave_image(file):\n",
    "    if \"cert\" in file or \"ct\" in file:\n",
    "        os.remove(file)\n",
    "        return 'removed ' + file\n",
    "    try:\n",
    "        img = Image.open(file)\n",
    "        img.save(file, format='JPEG')\n",
    "        return\n",
    "    except:\n",
    "        os.remove(file)\n",
    "        return 'error with '+ file\n",
    "    \n",
    "\n",
    "for root, dirs, files in os.walk(image_path):\n",
    "    print('Processing', root)\n",
    "    futures = [executor.submit(resave_image, os.path.join(root, file)) for file in files if file.endswith('.jpg')]\n",
    "    with tqdm(total=len(futures)) as pbar:\n",
    "        for future in cf.as_completed(futures):\n",
    "            pbar.update(1)\n",
    "            if future.result():\n",
    "                print(future.result())"
   ]
  },
  {
   "cell_type": "code",
   "execution_count": 3,
   "metadata": {},
   "outputs": [],
   "source": [
    "gem_count = []\n",
    "for gem in os.listdir(image_path):\n",
    "    count = len(os.listdir(os.path.join(image_path, gem)))\n",
    "    gem_count += [{'gem': gem, 'count': count}]\n",
    "gem_count = pd.DataFrame(gem_count)\n",
    "gem_count.sort_values(by='count', ascending=True, inplace=True)\n",
    "number_of_images = gem_count['count'].sum()"
   ]
  },
  {
   "cell_type": "code",
   "execution_count": 4,
   "metadata": {},
   "outputs": [
    {
     "name": "stderr",
     "output_type": "stream",
     "text": [
      "c:\\Users\\david\\miniforge3\\envs\\cuda\\lib\\site-packages\\IPython\\core\\pylabtools.py:152: UserWarning: Glyph 61477 (\\uf025) missing from current font.\n",
      "  fig.canvas.print_figure(bytes_io, **kw)\n"
     ]
    },
    {
     "data": {
      "image/png": "[encoded data removed]",
      "text/plain": [
       "<Figure size 2000x800 with 1 Axes>"
      ]
     },
     "metadata": {},
     "output_type": "display_data"
    }
   ],
   "source": [
    "plt.figure(figsize=(20, 8))\n",
    "plt.bar(gem_count['gem'], gem_count['count'])\n",
    "plt.title('Number of images per gem')\n",
    "plt.xlabel('Number of images')\n",
    "plt.ylabel('Gem')\n",
    "plt.grid(axis='y')\n",
    "plt.show()"
   ]
  },
  {
   "cell_type": "code",
   "execution_count": null,
   "metadata": {},
   "outputs": [],
   "source": [
    "gem_count.to_csv('../dat/gem_count.csv', index=False)"
   ]
  },
  {
   "cell_type": "code",
   "execution_count": 14,
   "metadata": {},
   "outputs": [
    {
     "data": {
      "image/png": "[encoded data removed]",
      "text/plain": [
       "<Figure size 1000x600 with 1 Axes>"
      ]
     },
     "metadata": {},
     "output_type": "display_data"
    }
   ],
   "source": [
    "number_of_classes = 6\n",
    "\n",
    "top = gem_count.tail(number_of_classes-1)\n",
    "others_count = gem_count['count'].head(gem_count.shape[0] - number_of_classes).sum()\n",
    "others_row = pd.DataFrame({'gem': ['Others'], 'count': [others_count]})\n",
    "df = pd.concat([top, others_row], ignore_index=True)\n",
    "\n",
    "plt.figure(figsize=(10,  6))  # Optional: set the figure size\n",
    "plt.pie(df['count'], labels=df['gem'], autopct='%1.1f%%')\n",
    "plt.title('Gem Counts')\n",
    "plt.axis('equal')  # Equal aspect ratio ensures that pie is drawn as a circle.\n",
    "plt.show()"
   ]
  },
  {
   "attachments": {},
   "cell_type": "markdown",
   "metadata": {},
   "source": [
    "We can see that the distribution of the classes is not balanced.\n",
    "X classes make up for 2/3 of the total images, while the remaining 1/3 is distributed among the other X of classes.\n",
    "\n",
    "This is a common problem in machine learning and can lead to a biased model. We will address this issue by using data augmentation to create additional training samples for the minority classes."
   ]
  },
  {
   "attachments": {},
   "cell_type": "markdown",
   "metadata": {},
   "source": [
    "### Crop images using Canny edge detection"
   ]
  },
  {
   "attachments": {},
   "cell_type": "markdown",
   "metadata": {},
   "source": [
    "To extract the region of interest (ROI) from the images, we will use the Canny edge detection algorithm.\n",
    "This ensures that the model focuses on the relevant part of the image and ignores the background.\n",
    "\n",
    "The image is then cropped to a fixed size, including the ROI.\n",
    "By doing this, we can ensure that the model receives consistent input data with maximum relevant information."
   ]
  },
  {
   "cell_type": "code",
   "execution_count": 6,
   "metadata": {},
   "outputs": [],
   "source": [
    "def edge_and_cut(img):\n",
    "    try:\n",
    "        #gray = cv2.cvtColor(img, cv2.COLOR_BGR2GRAY)\n",
    "        #blur = cv2.GaussianBlur(gray, (2,2), 0)\n",
    "        edges = cv2.Canny(img, img_w, img_h)            \n",
    "        \n",
    "        if(np.count_nonzero(edges)>edges.size/10000):\n",
    "            pts = np.argwhere(edges>0)\n",
    "            y1,x1 = pts.min(axis=0)\n",
    "            y2,x2 = pts.max(axis=0)\n",
    "            # crop the region but let it be a square\n",
    "            if (y2-y1)>(x2-x1):\n",
    "                x1 = x1-(y2-y1-x2+x1)//2\n",
    "                x2 = x2+(y2-y1-x2+x1)//2\n",
    "            else:\n",
    "                y1 = y1-(x2-x1-y2+y1)//2\n",
    "                y2 = y2+(x2-x1-y2+y1)//2\n",
    "\n",
    "            new_img = img[y1:y2, x1:x2]             \n",
    "\n",
    "            new_img = cv2.resize(new_img,(img_w, img_h))  # Convert to primary size  \n",
    "            \n",
    "        else:\n",
    "            new_img = cv2.resize(img,(img_w, img_h))\n",
    "\n",
    "    except Exception as e:\n",
    "        return 0\n",
    "    \n",
    "    return new_img"
   ]
  },
  {
   "cell_type": "code",
   "execution_count": 7,
   "metadata": {},
   "outputs": [],
   "source": [
    "def show_cropped(img):\n",
    "    emb_img = img.copy()\n",
    "\n",
    "    edges = cv2.Canny(emb_img, img_w, img_h)\n",
    "    \n",
    "    if(np.count_nonzero(edges)>edges.size/10000):\n",
    "        pts = np.argwhere(edges>0)\n",
    "        y1,x1 = pts.min(axis=0)\n",
    "        y2,x2 = pts.max(axis=0)\n",
    "        # crop the region but let it be a square\n",
    "        if (y2-y1)>(x2-x1):\n",
    "            x1 = x1-(y2-y1-x2+x1)//2\n",
    "            x2 = x2+(y2-y1-x2+x1)//2\n",
    "        else:\n",
    "            y1 = y1-(x2-x1-y2+y1)//2\n",
    "            y2 = y2+(x2-x1-y2+y1)//2\n",
    "\n",
    "        new_img = img[y1:y2, x1:x2]  \n",
    "\n",
    "        edge_size = 1 #replace it with bigger size for larger images            \n",
    "\n",
    "        emb_img[y1-edge_size:y1+edge_size, x1:x2] = [255, 0, 0]\n",
    "        emb_img[y2-edge_size:y2+edge_size, x1:x2] = [255, 0, 0]\n",
    "        emb_img[y1:y2, x1-edge_size:x1+edge_size] = [255, 0, 0]\n",
    "        emb_img[y1:y2, x2-edge_size:x2+edge_size] = [255, 0, 0]\n",
    "\n",
    "        new_img = cv2.resize(new_img,(img_w, img_h))  # Convert to primary size  \n",
    "        #return new_img\n",
    "    else:\n",
    "        new_img = cv2.resize(img,(img_w, img_h))\n",
    "    \n",
    "    fig, ax = plt.subplots(nrows=1, ncols=4, figsize=(10, 10))\n",
    "    ax[0].imshow(img, cmap='gray')\n",
    "    ax[0].set_title('Original Image', fontsize=14)\n",
    "    ax[1].imshow(edges, cmap='gray')\n",
    "    ax[1].set_title('Canny Edges', fontsize=14)\n",
    "    ax[2].imshow(emb_img, cmap='gray')\n",
    "    ax[2].set_title('Bounding Box', fontsize=14)       \n",
    "    ax[3].imshow(new_img, cmap='gray')\n",
    "    ax[3].set_title('Cropped', fontsize=14)\n",
    "    plt.show()"
   ]
  },
  {
   "cell_type": "code",
   "execution_count": 9,
   "metadata": {},
   "outputs": [
    {
     "name": "stderr",
     "output_type": "stream",
     "text": [
      "<>:9: SyntaxWarning: \"is not\" with a literal. Did you mean \"!=\"?\n",
      "<>:9: SyntaxWarning: \"is not\" with a literal. Did you mean \"!=\"?\n",
      "C:\\Users\\david\\AppData\\Local\\Temp\\ipykernel_1708\\3228108315.py:9: SyntaxWarning: \"is not\" with a literal. Did you mean \"!=\"?\n",
      "  if image is not 0:\n"
     ]
    },
    {
     "name": "stdout",
     "output_type": "stream",
     "text": [
      "Processing Alexandrite...\n"
     ]
    },
    {
     "name": "stderr",
     "output_type": "stream",
     "text": [
      "  0%|          | 0/366 [00:00<?, ?it/s]"
     ]
    },
    {
     "name": "stderr",
     "output_type": "stream",
     "text": [
      "100%|██████████| 366/366 [00:01<00:00, 187.68it/s]\n"
     ]
    },
    {
     "name": "stdout",
     "output_type": "stream",
     "text": [
      "Processing Alexandrite Cats Eye...\n"
     ]
    },
    {
     "name": "stderr",
     "output_type": "stream",
     "text": [
      "100%|██████████| 125/125 [00:00<00:00, 135.38it/s]\n"
     ]
    },
    {
     "name": "stdout",
     "output_type": "stream",
     "text": [
      "Processing Almandine Garnet (Pyrope)...\n"
     ]
    },
    {
     "name": "stderr",
     "output_type": "stream",
     "text": [
      "100%|██████████| 101/101 [00:00<00:00, 117.76it/s]\n"
     ]
    },
    {
     "name": "stdout",
     "output_type": "stream",
     "text": [
      "Processing Amber...\n"
     ]
    },
    {
     "name": "stderr",
     "output_type": "stream",
     "text": [
      "100%|██████████| 141/141 [00:00<00:00, 230.96it/s]\n"
     ]
    },
    {
     "name": "stdout",
     "output_type": "stream",
     "text": [
      "Processing Amethyst...\n"
     ]
    },
    {
     "name": "stderr",
     "output_type": "stream",
     "text": [
      "100%|██████████| 2510/2510 [00:16<00:00, 151.97it/s]\n"
     ]
    },
    {
     "name": "stdout",
     "output_type": "stream",
     "text": [
      "Processing Amethyst Cabochon...\n"
     ]
    },
    {
     "name": "stderr",
     "output_type": "stream",
     "text": [
      "100%|██████████| 5/5 [00:00<00:00, 278.50it/s]\n"
     ]
    },
    {
     "name": "stdout",
     "output_type": "stream",
     "text": [
      "Processing Ametrine...\n"
     ]
    },
    {
     "name": "stderr",
     "output_type": "stream",
     "text": [
      "100%|██████████| 732/732 [00:04<00:00, 147.01it/s]\n"
     ]
    },
    {
     "name": "stdout",
     "output_type": "stream",
     "text": [
      "Processing Ammolite...\n"
     ]
    },
    {
     "name": "stderr",
     "output_type": "stream",
     "text": [
      "100%|██████████| 132/132 [00:00<00:00, 265.22it/s]\n"
     ]
    },
    {
     "name": "stdout",
     "output_type": "stream",
     "text": [
      "Processing Angel Skin Coral...\n"
     ]
    },
    {
     "name": "stderr",
     "output_type": "stream",
     "text": [
      "100%|██████████| 60/60 [00:00<00:00, 128.82it/s]\n"
     ]
    },
    {
     "name": "stdout",
     "output_type": "stream",
     "text": [
      "Processing Apatite...\n"
     ]
    },
    {
     "name": "stderr",
     "output_type": "stream",
     "text": [
      "100%|██████████| 271/271 [00:02<00:00, 134.79it/s]\n"
     ]
    },
    {
     "name": "stdout",
     "output_type": "stream",
     "text": [
      "Processing Apatite Cat's Eye...\n"
     ]
    },
    {
     "name": "stderr",
     "output_type": "stream",
     "text": [
      "100%|██████████| 716/716 [00:04<00:00, 148.25it/s]\n"
     ]
    },
    {
     "name": "stdout",
     "output_type": "stream",
     "text": [
      "Processing Aquamarine...\n"
     ]
    },
    {
     "name": "stderr",
     "output_type": "stream",
     "text": [
      "100%|██████████| 1663/1663 [00:12<00:00, 134.17it/s]\n"
     ]
    },
    {
     "name": "stdout",
     "output_type": "stream",
     "text": [
      "Processing Australian Opal...\n"
     ]
    },
    {
     "name": "stderr",
     "output_type": "stream",
     "text": [
      "100%|██████████| 3104/3104 [00:18<00:00, 165.84it/s]\n"
     ]
    },
    {
     "name": "stdout",
     "output_type": "stream",
     "text": [
      "Processing Aventurine...\n"
     ]
    },
    {
     "name": "stderr",
     "output_type": "stream",
     "text": [
      "100%|██████████| 561/561 [00:03<00:00, 173.76it/s]\n"
     ]
    },
    {
     "name": "stdout",
     "output_type": "stream",
     "text": [
      "Processing Basra Pearls...\n"
     ]
    },
    {
     "name": "stderr",
     "output_type": "stream",
     "text": [
      "100%|██████████| 266/266 [00:01<00:00, 156.62it/s]\n"
     ]
    },
    {
     "name": "stdout",
     "output_type": "stream",
     "text": [
      "Processing Beryl...\n"
     ]
    },
    {
     "name": "stderr",
     "output_type": "stream",
     "text": [
      "100%|██████████| 184/184 [00:01<00:00, 154.17it/s]\n"
     ]
    },
    {
     "name": "stdout",
     "output_type": "stream",
     "text": [
      "Processing Black Onyx...\n"
     ]
    },
    {
     "name": "stderr",
     "output_type": "stream",
     "text": [
      "100%|██████████| 1718/1718 [00:10<00:00, 161.34it/s]\n"
     ]
    },
    {
     "name": "stdout",
     "output_type": "stream",
     "text": [
      "Processing Black Opal...\n"
     ]
    },
    {
     "name": "stderr",
     "output_type": "stream",
     "text": [
      "100%|██████████| 1213/1213 [00:08<00:00, 141.85it/s]\n"
     ]
    },
    {
     "name": "stdout",
     "output_type": "stream",
     "text": [
      "Processing Black Pearls...\n"
     ]
    },
    {
     "name": "stderr",
     "output_type": "stream",
     "text": [
      "100%|██████████| 240/240 [00:01<00:00, 158.99it/s]\n"
     ]
    },
    {
     "name": "stdout",
     "output_type": "stream",
     "text": [
      "Processing Black Spinel...\n"
     ]
    },
    {
     "name": "stderr",
     "output_type": "stream",
     "text": [
      "100%|██████████| 316/316 [00:02<00:00, 151.60it/s]\n"
     ]
    },
    {
     "name": "stdout",
     "output_type": "stream",
     "text": [
      "Processing Black Tourmaline...\n"
     ]
    },
    {
     "name": "stderr",
     "output_type": "stream",
     "text": [
      "100%|██████████| 40/40 [00:00<00:00, 141.72it/s]\n"
     ]
    },
    {
     "name": "stdout",
     "output_type": "stream",
     "text": [
      "Processing Blizzard Stone...\n"
     ]
    },
    {
     "name": "stderr",
     "output_type": "stream",
     "text": [
      "100%|██████████| 6/6 [00:00<00:00, 273.45it/s]\n"
     ]
    },
    {
     "name": "stdout",
     "output_type": "stream",
     "text": [
      "Processing Bloodstone...\n"
     ]
    },
    {
     "name": "stderr",
     "output_type": "stream",
     "text": [
      "100%|██████████| 767/767 [00:10<00:00, 74.81it/s] \n"
     ]
    },
    {
     "name": "stdout",
     "output_type": "stream",
     "text": [
      "Processing Blue Moonstone...\n"
     ]
    },
    {
     "name": "stderr",
     "output_type": "stream",
     "text": [
      "100%|██████████| 70/70 [00:00<00:00, 80.04it/s] \n"
     ]
    },
    {
     "name": "stdout",
     "output_type": "stream",
     "text": [
      "Processing Blue Opal...\n"
     ]
    },
    {
     "name": "stderr",
     "output_type": "stream",
     "text": [
      "100%|██████████| 217/217 [00:01<00:00, 167.16it/s]\n"
     ]
    },
    {
     "name": "stdout",
     "output_type": "stream",
     "text": [
      "Processing Blue Sapphire (Neelam)...\n"
     ]
    },
    {
     "name": "stderr",
     "output_type": "stream",
     "text": [
      "100%|██████████| 6149/6149 [00:44<00:00, 138.37it/s]\n"
     ]
    },
    {
     "name": "stdout",
     "output_type": "stream",
     "text": [
      "Processing Blue Spinel...\n"
     ]
    },
    {
     "name": "stderr",
     "output_type": "stream",
     "text": [
      "100%|██████████| 21/21 [00:00<00:00, 277.06it/s]\n"
     ]
    },
    {
     "name": "stdout",
     "output_type": "stream",
     "text": [
      "Processing Blue Topaz...\n"
     ]
    },
    {
     "name": "stderr",
     "output_type": "stream",
     "text": [
      "100%|██████████| 1173/1173 [00:07<00:00, 148.95it/s]\n"
     ]
    },
    {
     "name": "stdout",
     "output_type": "stream",
     "text": [
      "Processing Blue Zircon...\n"
     ]
    },
    {
     "name": "stderr",
     "output_type": "stream",
     "text": [
      "100%|██████████| 246/246 [00:01<00:00, 157.94it/s]\n"
     ]
    },
    {
     "name": "stdout",
     "output_type": "stream",
     "text": [
      "Processing Brazilian Emerald...\n"
     ]
    },
    {
     "name": "stderr",
     "output_type": "stream",
     "text": [
      "100%|██████████| 1271/1271 [00:08<00:00, 145.00it/s]\n"
     ]
    },
    {
     "name": "stdout",
     "output_type": "stream",
     "text": [
      "Processing Brown Moonstone...\n"
     ]
    },
    {
     "name": "stderr",
     "output_type": "stream",
     "text": [
      "100%|██████████| 370/370 [00:02<00:00, 139.33it/s]\n"
     ]
    },
    {
     "name": "stdout",
     "output_type": "stream",
     "text": [
      "Processing Brown Zircon...\n"
     ]
    },
    {
     "name": "stderr",
     "output_type": "stream",
     "text": [
      "100%|██████████| 241/241 [00:00<00:00, 264.52it/s]\n"
     ]
    },
    {
     "name": "stdout",
     "output_type": "stream",
     "text": [
      "Processing Burmese Ruby...\n"
     ]
    },
    {
     "name": "stderr",
     "output_type": "stream",
     "text": [
      "100%|██████████| 1121/1121 [00:08<00:00, 134.73it/s]\n"
     ]
    },
    {
     "name": "stdout",
     "output_type": "stream",
     "text": [
      "Processing Burmese Sapphire...\n"
     ]
    },
    {
     "name": "stderr",
     "output_type": "stream",
     "text": [
      "100%|██████████| 109/109 [00:00<00:00, 149.94it/s]\n"
     ]
    },
    {
     "name": "stdout",
     "output_type": "stream",
     "text": [
      "Processing Carnelian...\n"
     ]
    },
    {
     "name": "stderr",
     "output_type": "stream",
     "text": [
      "100%|██████████| 260/260 [00:01<00:00, 136.19it/s]\n"
     ]
    },
    {
     "name": "stdout",
     "output_type": "stream",
     "text": [
      "Processing Cats Eye...\n"
     ]
    },
    {
     "name": "stderr",
     "output_type": "stream",
     "text": [
      "100%|██████████| 2555/2555 [00:17<00:00, 148.33it/s]\n"
     ]
    },
    {
     "name": "stdout",
     "output_type": "stream",
     "text": [
      "Processing Cats Eye Moonstone...\n"
     ]
    },
    {
     "name": "stderr",
     "output_type": "stream",
     "text": [
      "100%|██████████| 133/133 [00:00<00:00, 163.61it/s]\n"
     ]
    },
    {
     "name": "stdout",
     "output_type": "stream",
     "text": [
      "Processing Cats Eye Opal...\n"
     ]
    },
    {
     "name": "stderr",
     "output_type": "stream",
     "text": [
      "100%|██████████| 54/54 [00:00<00:00, 151.95it/s]\n"
     ]
    },
    {
     "name": "stdout",
     "output_type": "stream",
     "text": [
      "Processing Cats Eye Quartz...\n"
     ]
    },
    {
     "name": "stderr",
     "output_type": "stream",
     "text": [
      "100%|██████████| 214/214 [00:01<00:00, 135.47it/s]\n"
     ]
    },
    {
     "name": "stdout",
     "output_type": "stream",
     "text": [
      "Processing Chrome Tourmaline...\n"
     ]
    },
    {
     "name": "stderr",
     "output_type": "stream",
     "text": [
      "100%|██████████| 2/2 [00:00<00:00, 334.25it/s]\n"
     ]
    },
    {
     "name": "stdout",
     "output_type": "stream",
     "text": [
      "Processing Chrysoberyl...\n"
     ]
    },
    {
     "name": "stderr",
     "output_type": "stream",
     "text": [
      "100%|██████████| 15/15 [00:00<00:00, 107.43it/s]\n"
     ]
    },
    {
     "name": "stdout",
     "output_type": "stream",
     "text": [
      "Processing Chrysoberyl Cats Eye (Lehsunia)...\n"
     ]
    },
    {
     "name": "stderr",
     "output_type": "stream",
     "text": [
      "100%|██████████| 1262/1262 [00:00<00:00, 10371.85it/s]\n"
     ]
    },
    {
     "name": "stdout",
     "output_type": "stream",
     "text": [
      "Processing Chrysocolla...\n"
     ]
    },
    {
     "name": "stderr",
     "output_type": "stream",
     "text": [
      "100%|██████████| 275/275 [00:01<00:00, 139.29it/s]\n"
     ]
    },
    {
     "name": "stdout",
     "output_type": "stream",
     "text": [
      "Processing Citrine (Sunela)...\n"
     ]
    },
    {
     "name": "stderr",
     "output_type": "stream",
     "text": [
      "100%|██████████| 730/730 [00:05<00:00, 137.54it/s]\n"
     ]
    },
    {
     "name": "stdout",
     "output_type": "stream",
     "text": [
      "Processing Colombian Emerald...\n"
     ]
    },
    {
     "name": "stderr",
     "output_type": "stream",
     "text": [
      "100%|██████████| 1217/1217 [00:09<00:00, 132.99it/s]\n"
     ]
    },
    {
     "name": "stdout",
     "output_type": "stream",
     "text": [
      "Processing Color Change Sapphire...\n"
     ]
    },
    {
     "name": "stderr",
     "output_type": "stream",
     "text": [
      "100%|██████████| 47/47 [00:00<00:00, 108.75it/s]\n"
     ]
    },
    {
     "name": "stdout",
     "output_type": "stream",
     "text": [
      "Processing Cornflower Blue Sapphire...\n"
     ]
    },
    {
     "name": "stderr",
     "output_type": "stream",
     "text": [
      "100%|██████████| 23/23 [00:00<00:00, 113.05it/s]\n"
     ]
    },
    {
     "name": "stdout",
     "output_type": "stream",
     "text": [
      "Processing Cultured Pearls...\n"
     ]
    },
    {
     "name": "stderr",
     "output_type": "stream",
     "text": [
      "100%|██████████| 2467/2467 [00:16<00:00, 147.33it/s]\n"
     ]
    },
    {
     "name": "stdout",
     "output_type": "stream",
     "text": [
      "Processing CVN15J~1...\n"
     ]
    },
    {
     "name": "stderr",
     "output_type": "stream",
     "text": [
      "100%|██████████| 2783/2783 [00:20<00:00, 132.88it/s]\n"
     ]
    },
    {
     "name": "stdout",
     "output_type": "stream",
     "text": [
      "Processing Danburite...\n"
     ]
    },
    {
     "name": "stderr",
     "output_type": "stream",
     "text": [
      "100%|██████████| 4/4 [00:00<00:00, 114.59it/s]\n"
     ]
    },
    {
     "name": "stdout",
     "output_type": "stream",
     "text": [
      "Processing Emerald (Panna)...\n"
     ]
    },
    {
     "name": "stderr",
     "output_type": "stream",
     "text": [
      "100%|██████████| 9686/9686 [01:05<00:00, 147.24it/s]\n"
     ]
    },
    {
     "name": "stdout",
     "output_type": "stream",
     "text": [
      "Processing Ethiopian Emerald...\n"
     ]
    },
    {
     "name": "stderr",
     "output_type": "stream",
     "text": [
      "100%|██████████| 213/213 [00:02<00:00, 102.41it/s]\n"
     ]
    },
    {
     "name": "stdout",
     "output_type": "stream",
     "text": [
      "Processing Ethiopian Opal...\n"
     ]
    },
    {
     "name": "stderr",
     "output_type": "stream",
     "text": [
      "100%|██████████| 3170/3170 [00:20<00:00, 157.69it/s]\n"
     ]
    },
    {
     "name": "stdout",
     "output_type": "stream",
     "text": [
      "Processing Fire Opal...\n"
     ]
    },
    {
     "name": "stderr",
     "output_type": "stream",
     "text": [
      "100%|██████████| 396/396 [00:02<00:00, 152.37it/s]\n"
     ]
    },
    {
     "name": "stdout",
     "output_type": "stream",
     "text": [
      "Processing Fluorite...\n"
     ]
    },
    {
     "name": "stderr",
     "output_type": "stream",
     "text": [
      "100%|██████████| 163/163 [00:01<00:00, 158.13it/s]\n"
     ]
    },
    {
     "name": "stdout",
     "output_type": "stream",
     "text": [
      "Processing Garnet...\n"
     ]
    },
    {
     "name": "stderr",
     "output_type": "stream",
     "text": [
      "100%|██████████| 780/780 [00:05<00:00, 154.17it/s]\n"
     ]
    },
    {
     "name": "stdout",
     "output_type": "stream",
     "text": [
      "Processing Glass Filled Ruby...\n"
     ]
    },
    {
     "name": "stderr",
     "output_type": "stream",
     "text": [
      "100%|██████████| 1684/1684 [00:11<00:00, 151.21it/s]\n"
     ]
    },
    {
     "name": "stdout",
     "output_type": "stream",
     "text": [
      "Processing Golden Topaz...\n"
     ]
    },
    {
     "name": "stderr",
     "output_type": "stream",
     "text": [
      "100%|██████████| 215/215 [00:01<00:00, 146.50it/s]\n"
     ]
    },
    {
     "name": "stdout",
     "output_type": "stream",
     "text": [
      "Processing Goshenite...\n"
     ]
    },
    {
     "name": "stderr",
     "output_type": "stream",
     "text": [
      "100%|██████████| 98/98 [00:00<00:00, 146.22it/s]\n"
     ]
    },
    {
     "name": "stdout",
     "output_type": "stream",
     "text": [
      "Processing Grandidierite...\n"
     ]
    },
    {
     "name": "stderr",
     "output_type": "stream",
     "text": [
      "100%|██████████| 102/102 [00:00<00:00, 137.46it/s]\n"
     ]
    },
    {
     "name": "stdout",
     "output_type": "stream",
     "text": [
      "Processing Green Amethyst (Prasiolite)...\n"
     ]
    },
    {
     "name": "stderr",
     "output_type": "stream",
     "text": [
      "100%|██████████| 418/418 [00:02<00:00, 158.05it/s]\n"
     ]
    },
    {
     "name": "stdout",
     "output_type": "stream",
     "text": [
      "Processing Green Kyanite...\n"
     ]
    },
    {
     "name": "stderr",
     "output_type": "stream",
     "text": [
      "100%|██████████| 210/210 [00:01<00:00, 145.49it/s]\n"
     ]
    },
    {
     "name": "stdout",
     "output_type": "stream",
     "text": [
      "Processing Green Sapphire...\n"
     ]
    },
    {
     "name": "stderr",
     "output_type": "stream",
     "text": [
      "100%|██████████| 55/55 [00:00<00:00, 113.39it/s]\n"
     ]
    },
    {
     "name": "stdout",
     "output_type": "stream",
     "text": [
      "Processing Green Tanzanite...\n"
     ]
    },
    {
     "name": "stderr",
     "output_type": "stream",
     "text": [
      "100%|██████████| 21/21 [00:00<00:00, 126.08it/s]\n"
     ]
    },
    {
     "name": "stdout",
     "output_type": "stream",
     "text": [
      "Processing Green Tourmaline (Verdelite)...\n"
     ]
    },
    {
     "name": "stderr",
     "output_type": "stream",
     "text": [
      "100%|██████████| 450/450 [00:02<00:00, 152.07it/s]\n"
     ]
    },
    {
     "name": "stdout",
     "output_type": "stream",
     "text": [
      "Processing Grey Sapphire...\n"
     ]
    },
    {
     "name": "stderr",
     "output_type": "stream",
     "text": [
      "100%|██████████| 27/27 [00:00<00:00, 132.71it/s]\n"
     ]
    },
    {
     "name": "stdout",
     "output_type": "stream",
     "text": [
      "Processing Heliodor...\n"
     ]
    },
    {
     "name": "stderr",
     "output_type": "stream",
     "text": [
      "100%|██████████| 188/188 [00:01<00:00, 159.22it/s]\n"
     ]
    },
    {
     "name": "stdout",
     "output_type": "stream",
     "text": [
      "Processing Hessonite (Gomed)...\n"
     ]
    },
    {
     "name": "stderr",
     "output_type": "stream",
     "text": [
      "100%|██████████| 1230/1230 [00:07<00:00, 169.11it/s]\n"
     ]
    },
    {
     "name": "stdout",
     "output_type": "stream",
     "text": [
      "Processing Imperial Topaz...\n"
     ]
    },
    {
     "name": "stderr",
     "output_type": "stream",
     "text": [
      "100%|██████████| 224/224 [00:01<00:00, 144.52it/s]\n"
     ]
    },
    {
     "name": "stdout",
     "output_type": "stream",
     "text": [
      "Processing Indian Emerald...\n"
     ]
    },
    {
     "name": "stderr",
     "output_type": "stream",
     "text": [
      "100%|██████████| 24/24 [00:00<00:00, 129.38it/s]\n"
     ]
    },
    {
     "name": "stdout",
     "output_type": "stream",
     "text": [
      "Processing Indian Ruby...\n"
     ]
    },
    {
     "name": "stderr",
     "output_type": "stream",
     "text": [
      "100%|██████████| 243/243 [00:01<00:00, 151.42it/s]\n"
     ]
    },
    {
     "name": "stdout",
     "output_type": "stream",
     "text": [
      "Processing Insignificant Oil Emerald...\n"
     ]
    },
    {
     "name": "stderr",
     "output_type": "stream",
     "text": [
      "100%|██████████| 29/29 [00:00<00:00, 136.51it/s]\n"
     ]
    },
    {
     "name": "stdout",
     "output_type": "stream",
     "text": [
      "Processing Iolite (Neeli)...\n"
     ]
    },
    {
     "name": "stderr",
     "output_type": "stream",
     "text": [
      "100%|██████████| 260/260 [00:01<00:00, 197.50it/s]\n"
     ]
    },
    {
     "name": "stdout",
     "output_type": "stream",
     "text": [
      "Processing Iranian Turquoise (Irani Feroza)...\n"
     ]
    },
    {
     "name": "stderr",
     "output_type": "stream",
     "text": [
      "100%|██████████| 215/215 [00:00<00:00, 220.29it/s]\n"
     ]
    },
    {
     "name": "stdout",
     "output_type": "stream",
     "text": [
      "Processing Jade...\n"
     ]
    },
    {
     "name": "stderr",
     "output_type": "stream",
     "text": [
      "100%|██████████| 537/537 [00:03<00:00, 167.99it/s]\n"
     ]
    },
    {
     "name": "stdout",
     "output_type": "stream",
     "text": [
      "Processing Jade Nephrite...\n"
     ]
    },
    {
     "name": "stderr",
     "output_type": "stream",
     "text": [
      "100%|██████████| 143/143 [00:00<00:00, 187.92it/s]\n"
     ]
    },
    {
     "name": "stdout",
     "output_type": "stream",
     "text": [
      "Processing Jadeite...\n"
     ]
    },
    {
     "name": "stderr",
     "output_type": "stream",
     "text": [
      "100%|██████████| 409/409 [00:02<00:00, 164.02it/s]\n"
     ]
    },
    {
     "name": "stdout",
     "output_type": "stream",
     "text": [
      "Processing Japanese Red Coral...\n"
     ]
    },
    {
     "name": "stderr",
     "output_type": "stream",
     "text": [
      "100%|██████████| 171/171 [00:01<00:00, 122.74it/s]\n"
     ]
    },
    {
     "name": "stdout",
     "output_type": "stream",
     "text": [
      "Processing Jasper...\n"
     ]
    },
    {
     "name": "stderr",
     "output_type": "stream",
     "text": [
      "100%|██████████| 1/1 [00:00<00:00, 143.24it/s]\n"
     ]
    },
    {
     "name": "stdout",
     "output_type": "stream",
     "text": [
      "Processing Kashmir Blue Sapphire...\n"
     ]
    },
    {
     "name": "stderr",
     "output_type": "stream",
     "text": [
      "100%|██████████| 91/91 [00:00<00:00, 137.51it/s]\n"
     ]
    },
    {
     "name": "stdout",
     "output_type": "stream",
     "text": [
      "Processing Keshi Pearls...\n"
     ]
    },
    {
     "name": "stderr",
     "output_type": "stream",
     "text": [
      "100%|██████████| 450/450 [00:02<00:00, 151.44it/s]\n"
     ]
    },
    {
     "name": "stdout",
     "output_type": "stream",
     "text": [
      "Processing Khooni Neelam...\n"
     ]
    },
    {
     "name": "stderr",
     "output_type": "stream",
     "text": [
      "100%|██████████| 42/42 [00:00<00:00, 117.63it/s]\n"
     ]
    },
    {
     "name": "stdout",
     "output_type": "stream",
     "text": [
      "Processing Kunzite...\n"
     ]
    },
    {
     "name": "stderr",
     "output_type": "stream",
     "text": [
      "100%|██████████| 222/222 [00:01<00:00, 144.39it/s]\n"
     ]
    },
    {
     "name": "stdout",
     "output_type": "stream",
     "text": [
      "Processing Kyanite...\n"
     ]
    },
    {
     "name": "stderr",
     "output_type": "stream",
     "text": [
      "100%|██████████| 1367/1367 [00:06<00:00, 216.73it/s]\n"
     ]
    },
    {
     "name": "stdout",
     "output_type": "stream",
     "text": [
      "Processing Lapis Lazuli...\n"
     ]
    },
    {
     "name": "stderr",
     "output_type": "stream",
     "text": [
      "100%|██████████| 179/179 [00:01<00:00, 143.11it/s]\n"
     ]
    },
    {
     "name": "stdout",
     "output_type": "stream",
     "text": [
      "Processing Lavender Quartz...\n"
     ]
    },
    {
     "name": "stderr",
     "output_type": "stream",
     "text": [
      "100%|██████████| 33/33 [00:00<00:00, 115.29it/s]\n"
     ]
    },
    {
     "name": "stdout",
     "output_type": "stream",
     "text": [
      "Processing Lemon Quartz...\n"
     ]
    },
    {
     "name": "stderr",
     "output_type": "stream",
     "text": [
      "100%|██████████| 162/162 [00:01<00:00, 152.19it/s]\n"
     ]
    },
    {
     "name": "stdout",
     "output_type": "stream",
     "text": [
      "Processing LLHKW1~S...\n"
     ]
    },
    {
     "name": "stderr",
     "output_type": "stream",
     "text": [
      "100%|██████████| 41/41 [00:00<00:00, 114.19it/s]\n"
     ]
    },
    {
     "name": "stdout",
     "output_type": "stream",
     "text": [
      "Processing London Blue Topaz...\n"
     ]
    },
    {
     "name": "stderr",
     "output_type": "stream",
     "text": [
      "100%|██████████| 198/198 [00:01<00:00, 148.93it/s]\n"
     ]
    },
    {
     "name": "stdout",
     "output_type": "stream",
     "text": [
      "Processing Malachite...\n"
     ]
    },
    {
     "name": "stderr",
     "output_type": "stream",
     "text": [
      "100%|██████████| 4/4 [00:00<00:00, 308.52it/s]\n"
     ]
    },
    {
     "name": "stdout",
     "output_type": "stream",
     "text": [
      "Processing Mandarin Garnet...\n"
     ]
    },
    {
     "name": "stderr",
     "output_type": "stream",
     "text": [
      "100%|██████████| 18/18 [00:00<00:00, 135.70it/s]\n"
     ]
    },
    {
     "name": "stdout",
     "output_type": "stream",
     "text": [
      "Processing Mexican Fire Opal...\n"
     ]
    },
    {
     "name": "stderr",
     "output_type": "stream",
     "text": [
      "100%|██████████| 420/420 [00:02<00:00, 154.26it/s]\n"
     ]
    },
    {
     "name": "stdout",
     "output_type": "stream",
     "text": [
      "Processing Mocha Scapolite...\n"
     ]
    },
    {
     "name": "stderr",
     "output_type": "stream",
     "text": [
      "100%|██████████| 27/27 [00:00<00:00, 136.73it/s]\n"
     ]
    },
    {
     "name": "stdout",
     "output_type": "stream",
     "text": [
      "Processing Moldavite...\n"
     ]
    },
    {
     "name": "stderr",
     "output_type": "stream",
     "text": [
      "100%|██████████| 1851/1851 [00:12<00:00, 150.80it/s]\n"
     ]
    },
    {
     "name": "stdout",
     "output_type": "stream",
     "text": [
      "Processing Moonstone...\n"
     ]
    },
    {
     "name": "stderr",
     "output_type": "stream",
     "text": [
      "100%|██████████| 1576/1576 [00:10<00:00, 147.16it/s]\n"
     ]
    },
    {
     "name": "stdout",
     "output_type": "stream",
     "text": [
      "Processing Morganite...\n"
     ]
    },
    {
     "name": "stderr",
     "output_type": "stream",
     "text": [
      "100%|██████████| 293/293 [00:01<00:00, 173.17it/s]\n"
     ]
    },
    {
     "name": "stdout",
     "output_type": "stream",
     "text": [
      "Processing Moss Agate...\n"
     ]
    },
    {
     "name": "stderr",
     "output_type": "stream",
     "text": [
      "100%|██████████| 3/3 [00:00<00:00, 200.53it/s]\n"
     ]
    },
    {
     "name": "stdout",
     "output_type": "stream",
     "text": [
      "Processing Mozambique Ruby...\n"
     ]
    },
    {
     "name": "stderr",
     "output_type": "stream",
     "text": [
      "100%|██████████| 1165/1165 [00:07<00:00, 148.87it/s]\n"
     ]
    },
    {
     "name": "stdout",
     "output_type": "stream",
     "text": [
      "Processing Natural Pearls...\n"
     ]
    },
    {
     "name": "stderr",
     "output_type": "stream",
     "text": [
      "100%|██████████| 289/289 [00:01<00:00, 152.92it/s]\n"
     ]
    },
    {
     "name": "stdout",
     "output_type": "stream",
     "text": [
      "Processing Navratna...\n"
     ]
    },
    {
     "name": "stderr",
     "output_type": "stream",
     "text": [
      "100%|██████████| 1/1 [00:00<00:00, 200.59it/s]\n"
     ]
    },
    {
     "name": "stdout",
     "output_type": "stream",
     "text": [
      "Processing Neon Apatite...\n"
     ]
    },
    {
     "name": "stderr",
     "output_type": "stream",
     "text": [
      "100%|██████████| 194/194 [00:01<00:00, 144.93it/s]\n"
     ]
    },
    {
     "name": "stdout",
     "output_type": "stream",
     "text": [
      "Processing Obsidian...\n"
     ]
    },
    {
     "name": "stderr",
     "output_type": "stream",
     "text": [
      "100%|██████████| 148/148 [00:01<00:00, 145.34it/s]\n"
     ]
    },
    {
     "name": "stdout",
     "output_type": "stream",
     "text": [
      "Processing Onyx (Chalcedony)...\n"
     ]
    },
    {
     "name": "stderr",
     "output_type": "stream",
     "text": [
      "100%|██████████| 4342/4342 [00:29<00:00, 147.23it/s]\n"
     ]
    },
    {
     "name": "stdout",
     "output_type": "stream",
     "text": [
      "Processing Opal...\n"
     ]
    },
    {
     "name": "stderr",
     "output_type": "stream",
     "text": [
      "100%|██████████| 8751/8751 [00:54<00:00, 160.95it/s]\n"
     ]
    },
    {
     "name": "stdout",
     "output_type": "stream",
     "text": [
      "Processing Orange Kyanite...\n"
     ]
    },
    {
     "name": "stderr",
     "output_type": "stream",
     "text": [
      "100%|██████████| 24/24 [00:00<00:00, 130.78it/s]\n"
     ]
    },
    {
     "name": "stdout",
     "output_type": "stream",
     "text": [
      "Processing Orange Sapphire...\n"
     ]
    },
    {
     "name": "stderr",
     "output_type": "stream",
     "text": [
      "100%|██████████| 6/6 [00:00<00:00, 250.66it/s]\n"
     ]
    },
    {
     "name": "stdout",
     "output_type": "stream",
     "text": [
      "Processing Padparadscha Sapphire...\n"
     ]
    },
    {
     "name": "stderr",
     "output_type": "stream",
     "text": [
      "100%|██████████| 99/99 [00:00<00:00, 123.93it/s]\n"
     ]
    },
    {
     "name": "stdout",
     "output_type": "stream",
     "text": [
      "Processing Panjshir Emerald...\n"
     ]
    },
    {
     "name": "stderr",
     "output_type": "stream",
     "text": [
      "100%|██████████| 46/46 [00:00<00:00, 140.97it/s]\n"
     ]
    },
    {
     "name": "stdout",
     "output_type": "stream",
     "text": [
      "Processing Paraiba Tourmaline...\n"
     ]
    },
    {
     "name": "stderr",
     "output_type": "stream",
     "text": [
      "100%|██████████| 175/175 [00:01<00:00, 141.48it/s]\n"
     ]
    },
    {
     "name": "stdout",
     "output_type": "stream",
     "text": [
      "Processing Peach Morganite...\n"
     ]
    },
    {
     "name": "stderr",
     "output_type": "stream",
     "text": [
      "100%|██████████| 39/39 [00:00<00:00, 258.97it/s]\n"
     ]
    },
    {
     "name": "stdout",
     "output_type": "stream",
     "text": [
      "Processing Peacock Tanzanite...\n"
     ]
    },
    {
     "name": "stderr",
     "output_type": "stream",
     "text": [
      "100%|██████████| 15/15 [00:00<00:00, 113.08it/s]\n"
     ]
    },
    {
     "name": "stdout",
     "output_type": "stream",
     "text": [
      "Processing Pearl (Moti)...\n"
     ]
    },
    {
     "name": "stderr",
     "output_type": "stream",
     "text": [
      "100%|██████████| 3053/3053 [00:18<00:00, 161.47it/s]\n"
     ]
    },
    {
     "name": "stdout",
     "output_type": "stream",
     "text": [
      "Processing Peridot...\n"
     ]
    },
    {
     "name": "stderr",
     "output_type": "stream",
     "text": [
      "100%|██████████| 602/602 [00:03<00:00, 153.31it/s]\n"
     ]
    },
    {
     "name": "stdout",
     "output_type": "stream",
     "text": [
      "Processing Petrified Wood...\n"
     ]
    },
    {
     "name": "stderr",
     "output_type": "stream",
     "text": [
      "100%|██████████| 1/1 [00:00<00:00, 167.11it/s]\n"
     ]
    },
    {
     "name": "stdout",
     "output_type": "stream",
     "text": [
      "Processing Pigeon Blood Ruby...\n"
     ]
    },
    {
     "name": "stderr",
     "output_type": "stream",
     "text": [
      "100%|██████████| 157/157 [00:01<00:00, 143.59it/s]\n"
     ]
    },
    {
     "name": "stdout",
     "output_type": "stream",
     "text": [
      "Processing Pink Coral...\n"
     ]
    },
    {
     "name": "stderr",
     "output_type": "stream",
     "text": [
      "100%|██████████| 87/87 [00:00<00:00, 145.87it/s]\n"
     ]
    },
    {
     "name": "stdout",
     "output_type": "stream",
     "text": [
      "Processing Pink Morganite...\n"
     ]
    },
    {
     "name": "stderr",
     "output_type": "stream",
     "text": [
      "100%|██████████| 86/86 [00:00<00:00, 183.08it/s]\n"
     ]
    },
    {
     "name": "stdout",
     "output_type": "stream",
     "text": [
      "Processing Pink Opal...\n"
     ]
    },
    {
     "name": "stderr",
     "output_type": "stream",
     "text": [
      "100%|██████████| 50/50 [00:00<00:00, 165.76it/s]\n"
     ]
    },
    {
     "name": "stdout",
     "output_type": "stream",
     "text": [
      "Processing Pink Sapphire...\n"
     ]
    },
    {
     "name": "stderr",
     "output_type": "stream",
     "text": [
      "100%|██████████| 411/411 [00:02<00:00, 155.33it/s]\n"
     ]
    },
    {
     "name": "stdout",
     "output_type": "stream",
     "text": [
      "Processing Pink Spinel...\n"
     ]
    },
    {
     "name": "stderr",
     "output_type": "stream",
     "text": [
      "100%|██████████| 135/135 [00:00<00:00, 160.00it/s]\n"
     ]
    },
    {
     "name": "stdout",
     "output_type": "stream",
     "text": [
      "Processing Pink Topaz...\n"
     ]
    },
    {
     "name": "stderr",
     "output_type": "stream",
     "text": [
      "100%|██████████| 126/126 [00:00<00:00, 147.76it/s]\n"
     ]
    },
    {
     "name": "stdout",
     "output_type": "stream",
     "text": [
      "Processing Pink Tourmaline...\n"
     ]
    },
    {
     "name": "stderr",
     "output_type": "stream",
     "text": [
      "100%|██████████| 273/273 [00:01<00:00, 159.88it/s]\n"
     ]
    },
    {
     "name": "stdout",
     "output_type": "stream",
     "text": [
      "Processing Pitambari Neelam...\n"
     ]
    },
    {
     "name": "stderr",
     "output_type": "stream",
     "text": [
      "100%|██████████| 1118/1118 [00:07<00:00, 155.97it/s]\n"
     ]
    },
    {
     "name": "stdout",
     "output_type": "stream",
     "text": [
      "Processing Purple Garnet...\n"
     ]
    },
    {
     "name": "stderr",
     "output_type": "stream",
     "text": [
      "100%|██████████| 216/216 [00:01<00:00, 146.82it/s]\n"
     ]
    },
    {
     "name": "stdout",
     "output_type": "stream",
     "text": [
      "Processing Purple Sapphire...\n"
     ]
    },
    {
     "name": "stderr",
     "output_type": "stream",
     "text": [
      "100%|██████████| 168/168 [00:01<00:00, 146.28it/s]\n"
     ]
    },
    {
     "name": "stdout",
     "output_type": "stream",
     "text": [
      "Processing Rainbow Moonstone...\n"
     ]
    },
    {
     "name": "stderr",
     "output_type": "stream",
     "text": [
      "100%|██████████| 68/68 [00:00<00:00, 152.25it/s]\n"
     ]
    },
    {
     "name": "stdout",
     "output_type": "stream",
     "text": [
      "Processing Red Coral (Moonga)...\n"
     ]
    },
    {
     "name": "stderr",
     "output_type": "stream",
     "text": [
      "100%|██████████| 2290/2290 [00:14<00:00, 161.60it/s]\n"
     ]
    },
    {
     "name": "stdout",
     "output_type": "stream",
     "text": [
      "Processing Red Spinel...\n"
     ]
    },
    {
     "name": "stderr",
     "output_type": "stream",
     "text": [
      "100%|██████████| 35/35 [00:00<00:00, 142.66it/s]\n"
     ]
    },
    {
     "name": "stdout",
     "output_type": "stream",
     "text": [
      "Processing Red Tourmaline...\n"
     ]
    },
    {
     "name": "stderr",
     "output_type": "stream",
     "text": [
      "100%|██████████| 8/8 [00:00<00:00, 74.97it/s]\n"
     ]
    },
    {
     "name": "stdout",
     "output_type": "stream",
     "text": [
      "Processing Rose Quartz...\n"
     ]
    },
    {
     "name": "stderr",
     "output_type": "stream",
     "text": [
      "100%|██████████| 217/217 [00:01<00:00, 160.93it/s]\n"
     ]
    },
    {
     "name": "stdout",
     "output_type": "stream",
     "text": [
      "Processing Royal Blue Sapphire...\n"
     ]
    },
    {
     "name": "stderr",
     "output_type": "stream",
     "text": [
      "100%|██████████| 96/96 [00:00<00:00, 143.81it/s]\n"
     ]
    },
    {
     "name": "stdout",
     "output_type": "stream",
     "text": [
      "Processing Rubellite...\n"
     ]
    },
    {
     "name": "stderr",
     "output_type": "stream",
     "text": [
      "100%|██████████| 175/175 [00:01<00:00, 162.05it/s]\n"
     ]
    },
    {
     "name": "stdout",
     "output_type": "stream",
     "text": [
      "Processing Ruby (Manik)...\n"
     ]
    },
    {
     "name": "stderr",
     "output_type": "stream",
     "text": [
      "100%|██████████| 6609/6609 [00:43<00:00, 151.50it/s]\n"
     ]
    },
    {
     "name": "stdout",
     "output_type": "stream",
     "text": [
      "Processing Russian Emerald...\n"
     ]
    },
    {
     "name": "stderr",
     "output_type": "stream",
     "text": [
      "100%|██████████| 39/39 [00:00<00:00, 128.21it/s]\n"
     ]
    },
    {
     "name": "stdout",
     "output_type": "stream",
     "text": [
      "Processing Sapphire...\n"
     ]
    },
    {
     "name": "stderr",
     "output_type": "stream",
     "text": [
      "100%|██████████| 12122/12122 [01:17<00:00, 155.88it/s]\n"
     ]
    },
    {
     "name": "stdout",
     "output_type": "stream",
     "text": [
      "Processing Sky Blue Topaz...\n"
     ]
    },
    {
     "name": "stderr",
     "output_type": "stream",
     "text": [
      "100%|██████████| 774/774 [00:05<00:00, 150.49it/s]\n"
     ]
    },
    {
     "name": "stdout",
     "output_type": "stream",
     "text": [
      "Processing Smoky Quartz...\n"
     ]
    },
    {
     "name": "stderr",
     "output_type": "stream",
     "text": [
      "100%|██████████| 212/212 [00:01<00:00, 140.17it/s]\n"
     ]
    },
    {
     "name": "stdout",
     "output_type": "stream",
     "text": [
      "Processing South Sea Pearls...\n"
     ]
    },
    {
     "name": "stderr",
     "output_type": "stream",
     "text": [
      "100%|██████████| 2005/2005 [00:12<00:00, 157.11it/s]\n"
     ]
    },
    {
     "name": "stdout",
     "output_type": "stream",
     "text": [
      "Processing Spectrolite...\n"
     ]
    },
    {
     "name": "stderr",
     "output_type": "stream",
     "text": [
      "0it [00:00, ?it/s]\n"
     ]
    },
    {
     "name": "stdout",
     "output_type": "stream",
     "text": [
      "Processing Spessartite...\n"
     ]
    },
    {
     "name": "stderr",
     "output_type": "stream",
     "text": [
      "100%|██████████| 81/81 [00:00<00:00, 138.03it/s]\n"
     ]
    },
    {
     "name": "stdout",
     "output_type": "stream",
     "text": [
      "Processing Spinel...\n"
     ]
    },
    {
     "name": "stderr",
     "output_type": "stream",
     "text": [
      "100%|██████████| 535/535 [00:03<00:00, 159.16it/s]\n"
     ]
    },
    {
     "name": "stdout",
     "output_type": "stream",
     "text": [
      "Processing Sri Lanka Moonstone...\n"
     ]
    },
    {
     "name": "stderr",
     "output_type": "stream",
     "text": [
      "100%|██████████| 7/7 [00:00<00:00, 233.96it/s]\n"
     ]
    },
    {
     "name": "stdout",
     "output_type": "stream",
     "text": [
      "Processing Star Garnet...\n"
     ]
    },
    {
     "name": "stderr",
     "output_type": "stream",
     "text": [
      "100%|██████████| 12/12 [00:00<00:00, 112.45it/s]\n"
     ]
    },
    {
     "name": "stdout",
     "output_type": "stream",
     "text": [
      "Processing Star Ruby...\n"
     ]
    },
    {
     "name": "stderr",
     "output_type": "stream",
     "text": [
      "100%|██████████| 1211/1211 [00:08<00:00, 148.47it/s]\n"
     ]
    },
    {
     "name": "stdout",
     "output_type": "stream",
     "text": [
      "Processing Star Sapphire...\n"
     ]
    },
    {
     "name": "stderr",
     "output_type": "stream",
     "text": [
      "100%|██████████| 184/184 [00:01<00:00, 149.34it/s]\n"
     ]
    },
    {
     "name": "stdout",
     "output_type": "stream",
     "text": [
      "Processing Sunstone...\n"
     ]
    },
    {
     "name": "stderr",
     "output_type": "stream",
     "text": [
      "100%|██████████| 95/95 [00:00<00:00, 148.83it/s]\n"
     ]
    },
    {
     "name": "stdout",
     "output_type": "stream",
     "text": [
      "Processing Swiss Blue Topaz...\n"
     ]
    },
    {
     "name": "stderr",
     "output_type": "stream",
     "text": [
      "100%|██████████| 401/401 [00:02<00:00, 160.74it/s]\n"
     ]
    },
    {
     "name": "stdout",
     "output_type": "stream",
     "text": [
      "Processing Tahitian Pearls...\n"
     ]
    },
    {
     "name": "stderr",
     "output_type": "stream",
     "text": [
      "100%|██████████| 240/240 [00:02<00:00, 104.69it/s]\n"
     ]
    },
    {
     "name": "stdout",
     "output_type": "stream",
     "text": [
      "Processing Tanzania Ruby...\n"
     ]
    },
    {
     "name": "stderr",
     "output_type": "stream",
     "text": [
      "100%|██████████| 5/5 [00:00<00:00, 147.45it/s]\n"
     ]
    },
    {
     "name": "stdout",
     "output_type": "stream",
     "text": [
      "Processing Tanzanite...\n"
     ]
    },
    {
     "name": "stderr",
     "output_type": "stream",
     "text": [
      "100%|██████████| 392/392 [00:02<00:00, 170.91it/s]\n"
     ]
    },
    {
     "name": "stdout",
     "output_type": "stream",
     "text": [
      "Processing Teal Sapphire...\n"
     ]
    },
    {
     "name": "stderr",
     "output_type": "stream",
     "text": [
      "100%|██████████| 3/3 [00:00<00:00, 143.24it/s]\n"
     ]
    },
    {
     "name": "stdout",
     "output_type": "stream",
     "text": [
      "Processing Tiger Eye...\n"
     ]
    },
    {
     "name": "stderr",
     "output_type": "stream",
     "text": [
      "100%|██████████| 96/96 [00:00<00:00, 137.75it/s]\n"
     ]
    },
    {
     "name": "stdout",
     "output_type": "stream",
     "text": [
      "Processing Titanite...\n"
     ]
    },
    {
     "name": "stderr",
     "output_type": "stream",
     "text": [
      "100%|██████████| 4/4 [00:00<00:00, 129.38it/s]\n"
     ]
    },
    {
     "name": "stdout",
     "output_type": "stream",
     "text": [
      "Processing Topaz...\n"
     ]
    },
    {
     "name": "stderr",
     "output_type": "stream",
     "text": [
      "100%|██████████| 1776/1776 [00:11<00:00, 158.50it/s]\n"
     ]
    },
    {
     "name": "stdout",
     "output_type": "stream",
     "text": [
      "Processing Tourmaline...\n"
     ]
    },
    {
     "name": "stderr",
     "output_type": "stream",
     "text": [
      "100%|██████████| 1079/1079 [00:07<00:00, 151.01it/s]\n"
     ]
    },
    {
     "name": "stdout",
     "output_type": "stream",
     "text": [
      "Processing Tsavorite...\n"
     ]
    },
    {
     "name": "stderr",
     "output_type": "stream",
     "text": [
      "100%|██████████| 157/157 [00:01<00:00, 147.41it/s]\n"
     ]
    },
    {
     "name": "stdout",
     "output_type": "stream",
     "text": [
      "Processing TUNFRO~K...\n"
     ]
    },
    {
     "name": "stderr",
     "output_type": "stream",
     "text": [
      "100%|██████████| 882/882 [00:04<00:00, 183.23it/s]\n"
     ]
    },
    {
     "name": "stdout",
     "output_type": "stream",
     "text": [
      "Processing Turquoise (Firoza)...\n"
     ]
    },
    {
     "name": "stderr",
     "output_type": "stream",
     "text": [
      "100%|██████████| 1534/1534 [00:08<00:00, 184.55it/s]\n"
     ]
    },
    {
     "name": "stdout",
     "output_type": "stream",
     "text": [
      "Processing Vivid Green Emerald...\n"
     ]
    },
    {
     "name": "stderr",
     "output_type": "stream",
     "text": [
      "100%|██████████| 20/20 [00:00<00:00, 107.67it/s]\n"
     ]
    },
    {
     "name": "stdout",
     "output_type": "stream",
     "text": [
      "Processing White Coral...\n"
     ]
    },
    {
     "name": "stderr",
     "output_type": "stream",
     "text": [
      "100%|██████████| 228/228 [00:01<00:00, 160.52it/s]\n"
     ]
    },
    {
     "name": "stdout",
     "output_type": "stream",
     "text": [
      "Processing White Opal...\n"
     ]
    },
    {
     "name": "stderr",
     "output_type": "stream",
     "text": [
      "100%|██████████| 5971/5971 [00:36<00:00, 162.58it/s]\n"
     ]
    },
    {
     "name": "stdout",
     "output_type": "stream",
     "text": [
      "Processing White Sapphire...\n"
     ]
    },
    {
     "name": "stderr",
     "output_type": "stream",
     "text": [
      "100%|██████████| 1626/1626 [00:09<00:00, 166.97it/s]\n"
     ]
    },
    {
     "name": "stdout",
     "output_type": "stream",
     "text": [
      "Processing White Topaz...\n"
     ]
    },
    {
     "name": "stderr",
     "output_type": "stream",
     "text": [
      "100%|██████████| 109/109 [00:00<00:00, 146.82it/s]\n"
     ]
    },
    {
     "name": "stdout",
     "output_type": "stream",
     "text": [
      "Processing White Zircon...\n"
     ]
    },
    {
     "name": "stderr",
     "output_type": "stream",
     "text": [
      "100%|██████████| 635/635 [00:03<00:00, 174.62it/s]\n"
     ]
    },
    {
     "name": "stdout",
     "output_type": "stream",
     "text": [
      "Processing Yellow Beryl...\n"
     ]
    },
    {
     "name": "stderr",
     "output_type": "stream",
     "text": [
      "100%|██████████| 206/206 [00:01<00:00, 153.36it/s]\n"
     ]
    },
    {
     "name": "stdout",
     "output_type": "stream",
     "text": [
      "Processing Yellow Sapphire - Pukhraj...\n"
     ]
    },
    {
     "name": "stderr",
     "output_type": "stream",
     "text": [
      "100%|██████████| 4875/4875 [00:32<00:00, 150.93it/s]\n"
     ]
    },
    {
     "name": "stdout",
     "output_type": "stream",
     "text": [
      "Processing Yellow Topaz...\n"
     ]
    },
    {
     "name": "stderr",
     "output_type": "stream",
     "text": [
      "100%|██████████| 240/240 [00:01<00:00, 147.77it/s]\n"
     ]
    },
    {
     "name": "stdout",
     "output_type": "stream",
     "text": [
      "Processing Yellow Zircon...\n"
     ]
    },
    {
     "name": "stderr",
     "output_type": "stream",
     "text": [
      "100%|██████████| 45/45 [00:00<00:00, 135.50it/s]\n"
     ]
    },
    {
     "name": "stdout",
     "output_type": "stream",
     "text": [
      "Processing Zambian Emerald...\n"
     ]
    },
    {
     "name": "stderr",
     "output_type": "stream",
     "text": [
      "100%|██████████| 4924/4924 [00:32<00:00, 151.55it/s]\n"
     ]
    },
    {
     "name": "stdout",
     "output_type": "stream",
     "text": [
      "Processing Zircon...\n"
     ]
    },
    {
     "name": "stderr",
     "output_type": "stream",
     "text": [
      "100%|██████████| 1225/1225 [00:06<00:00, 179.24it/s]\n"
     ]
    }
   ],
   "source": [
    "img_w, img_h = 224, 224\n",
    "\n",
    "#img = cv2.imread('../dat/images/Alexandrite/3.jpg')\n",
    "#show_cropped(img)\n",
    "\n",
    "def process_image(img, gem):\n",
    "    image = cv2.imread(os.path.join(image_path, gem, img))\n",
    "    image = edge_and_cut(image)\n",
    "    if image is not 0:\n",
    "        cv2.imwrite(os.path.join(image_path_cropped, gem, img), image)\n",
    "    else:\n",
    "        print(f'Error processing {img} in {gem}')\n",
    "\n",
    "\n",
    "image_path_cropped = os.path.join(image_path + '_cropped')\n",
    "if not os.path.exists(image_path_cropped):\n",
    "    os.makedirs(image_path_cropped)\n",
    "\n",
    "for gem in os.listdir(image_path):\n",
    "    if not os.path.exists(os.path.join(image_path_cropped, gem)):\n",
    "        os.makedirs(os.path.join(image_path_cropped, gem))\n",
    "    futures = [executor.submit(process_image, img, gem) for img in os.listdir(os.path.join(image_path, gem))]\n",
    "    print(f'Processing {gem}...')\n",
    "    with tqdm(total=len(futures)) as pbar:\n",
    "        for future in cf.as_completed(futures):\n",
    "            future.result()\n",
    "            pbar.update()"
   ]
  },
  {
   "attachments": {},
   "cell_type": "markdown",
   "metadata": {},
   "source": [
    "### Perform image augmentation"
   ]
  },
  {
   "cell_type": "code",
   "execution_count": 2,
   "metadata": {},
   "outputs": [],
   "source": [
    "def transform_images(src, dst, goal, rotations):\n",
    "    for root, dirs, _ in os.walk(src):\n",
    "        for dir in dirs:\n",
    "            files = os.listdir(os.path.join(root, dir))\n",
    "\n",
    "            flip = False\n",
    "            size = len(files)\n",
    "            num_to_edit = np.ceil((goal-size) / 3).astype(int)\n",
    "\n",
    "            if not os.path.exists(os.path.join(dst, dir)):\n",
    "                os.makedirs(os.path.join(dst, dir))\n",
    "\n",
    "            for file in np.random.choice(files, min(size, goal), replace=False):\n",
    "                shutil.copy(os.path.join(root, dir, file), os.path.join(dst, dir, file))\n",
    "\n",
    "            if num_to_edit > size:\n",
    "                flip = True\n",
    "                num_to_edit = np.ceil((goal-size) / 7).astype(int)\n",
    "            print(dir, max(0, min(num_to_edit, size)))\n",
    "\n",
    "\n",
    "            for file in np.random.choice(files, max(0, min(num_to_edit, size)), replace=False):\n",
    "                try:\n",
    "                    image = cv2.imread(os.path.join(root, dir, file))\n",
    "                    if flip:\n",
    "                        plt.imsave(os.path.join(dst, dir, file[:-4]+'_flip'+file[-4:]), np.fliplr(image))\n",
    "                        plt.imsave(os.path.join(dst, dir, file[:-4]+'_flip'+file[-4:]), np.flipud(image))\n",
    "                    # apply different rotations\n",
    "                    for angle in rotations:\n",
    "                        # save image\n",
    "                        rot_img = transform.rotate(image, angle=angle)\n",
    "                        plt.imsave(os.path.join(dst, dir, file[:-4]+'_rot'+str(angle)+file[-4:]), rot_img)\n",
    "                        if flip:\n",
    "                            plt.imsave(os.path.join(dst, dir, file[:-4]+'_'+str(angle)+'_fliplr'+file[-4:]), np.fliplr(rot_img))\n",
    "                            plt.imsave(os.path.join(dst, dir, file[:-4]+'_'+str(angle)+'_flipud'+file[-4:]), np.flipud(rot_img))\n",
    "                except:\n",
    "                    pass"
   ]
  },
  {
   "cell_type": "code",
   "execution_count": 5,
   "metadata": {},
   "outputs": [
    {
     "name": "stdout",
     "output_type": "stream",
     "text": [
      "Alexandrite 213\n",
      "Alexandrite Cats Eye 125\n",
      "Almandine Garnet (Pyrope) 101\n",
      "Amber 123\n",
      "Amethyst 0\n",
      "Amethyst Cabochon 5\n",
      "Ametrine 90\n",
      "Ammolite 124\n",
      "Angel Skin Coral 60\n",
      "Apatite 243\n",
      "Apatite Cat's Eye 95\n",
      "Aquamarine 0\n",
      "Australian Opal 0\n",
      "Aventurine 147\n",
      "Basra Pearls 245\n",
      "Beryl 117\n",
      "Black Onyx 0\n",
      "Black Opal 0\n",
      "Black Pearls 109\n",
      "Black Spinel 228\n",
      "Black Tourmaline 40\n",
      "Blizzard Stone 6\n",
      "Bloodstone 78\n",
      "Blue Moonstone 70\n",
      "Blue Opal 112\n",
      "Blue Sapphire (Neelam) 0\n",
      "Blue Spinel 21\n",
      "Blue Topaz 0\n",
      "Blue Zircon 108\n",
      "Brazilian Emerald 0\n",
      "Brown Moonstone 210\n",
      "Brown Zircon 109\n",
      "Burmese Ruby 0\n",
      "Burmese Sapphire 109\n",
      "Carnelian 247\n",
      "Cats Eye 0\n",
      "Cats Eye Moonstone 124\n",
      "Cats Eye Opal 54\n",
      "Cats Eye Quartz 113\n",
      "Chrome Tourmaline 2\n",
      "Chrysoberyl 15\n",
      "Chrysoberyl Cats Eye (Lehsunia) 0\n",
      "Chrysocolla 242\n",
      "Citrine (Sunela) 90\n",
      "Colombian Emerald 0\n",
      "Color Change Sapphire 47\n",
      "Cornflower Blue Sapphire 23\n",
      "Cultured Pearls 0\n",
      "CVN15J~1 0\n",
      "Danburite 4\n",
      "Emerald (Panna) 0\n",
      "Ethiopian Emerald 113\n",
      "Ethiopian Opal 0\n",
      "Fire Opal 202\n",
      "Fluorite 120\n",
      "Garnet 74\n",
      "Glass Filled Ruby 0\n",
      "Golden Topaz 113\n",
      "Goshenite 98\n",
      "Grandidierite 102\n",
      "Green Amethyst (Prasiolite) 194\n",
      "Green Kyanite 113\n",
      "Green Sapphire 55\n",
      "Green Tanzanite 21\n",
      "Green Tourmaline (Verdelite) 184\n",
      "Grey Sapphire 27\n",
      "Heliodor 116\n",
      "Hessonite (Gomed) 0\n",
      "Imperial Topaz 111\n",
      "Indian Emerald 24\n",
      "Indian Ruby 109\n",
      "Insignificant Oil Emerald 29\n",
      "Iolite (Neeli) 247\n",
      "Iranian Turquoise (Irani Feroza) 113\n",
      "Jade 155\n",
      "Jade Nephrite 123\n",
      "Jadeite 197\n",
      "Japanese Red Coral 119\n",
      "Jasper 1\n",
      "Kashmir Blue Sapphire 91\n",
      "Keshi Pearls 184\n",
      "Khooni Neelam 42\n",
      "Kunzite 112\n",
      "Kyanite 0\n",
      "Lapis Lazuli 118\n",
      "Lavender Quartz 33\n",
      "Lemon Quartz 120\n",
      "LLHKW1~S 41\n",
      "London Blue Topaz 115\n",
      "Malachite 4\n",
      "Mandarin Garnet 18\n",
      "Mexican Fire Opal 194\n",
      "Mocha Scapolite 27\n",
      "Moldavite 0\n",
      "Moonstone 0\n",
      "Morganite 236\n",
      "Moss Agate 3\n",
      "Mozambique Ruby 0\n",
      "Natural Pearls 237\n",
      "Navratna 1\n",
      "Neon Apatite 116\n",
      "Obsidian 122\n",
      "Onyx (Chalcedony) 0\n",
      "Opal 0\n",
      "Orange Kyanite 24\n",
      "Orange Sapphire 6\n",
      "Padparadscha Sapphire 94\n",
      "Panjshir Emerald 46\n",
      "Paraiba Tourmaline 118\n",
      "Peach Morganite 39\n",
      "Peacock Tanzanite 15\n",
      "Pearl (Moti) 0\n",
      "Peridot 133\n",
      "Petrified Wood 1\n",
      "Pigeon Blood Ruby 121\n",
      "Pink Coral 87\n",
      "Pink Morganite 86\n",
      "Pink Opal 50\n",
      "Pink Sapphire 197\n",
      "Pink Spinel 124\n",
      "Pink Topaz 125\n",
      "Pink Tourmaline 243\n",
      "Pitambari Neelam 0\n",
      "Purple Garnet 112\n",
      "Purple Sapphire 119\n",
      "Rainbow Moonstone 68\n",
      "Red Coral (Moonga) 0\n",
      "Red Spinel 35\n",
      "Red Tourmaline 8\n",
      "Rose Quartz 112\n",
      "Royal Blue Sapphire 95\n",
      "Rubellite 118\n",
      "Ruby (Manik) 0\n",
      "Russian Emerald 39\n",
      "Sapphire 0\n",
      "Sky Blue Topaz 76\n",
      "Smoky Quartz 113\n",
      "South Sea Pearls 0\n",
      "Spectrolite 0\n",
      "Spessartite 81\n",
      "Spinel 155\n",
      "Sri Lanka Moonstone 7\n",
      "Star Garnet 12\n",
      "Star Ruby 0\n",
      "Star Sapphire 117\n",
      "Sunstone 95\n",
      "Swiss Blue Topaz 200\n",
      "Tahitian Pearls 109\n",
      "Tanzania Ruby 5\n",
      "Tanzanite 203\n",
      "Teal Sapphire 3\n",
      "Tiger Eye 96\n",
      "Titanite 4\n",
      "Topaz 0\n",
      "Tourmaline 0\n",
      "Tsavorite 121\n",
      "TUNFRO~K 40\n",
      "Turquoise (Firoza) 0\n",
      "Vivid Green Emerald 20\n",
      "White Coral 111\n",
      "White Opal 0\n",
      "White Sapphire 0\n",
      "White Topaz 109\n",
      "White Zircon 122\n",
      "Yellow Beryl 114\n",
      "Yellow Sapphire - Pukhraj 0\n",
      "Yellow Topaz 109\n",
      "Yellow Zircon 45\n",
      "Zambian Emerald 0\n",
      "Zircon 0\n"
     ]
    }
   ],
   "source": [
    "rotations = [90, 180, 270]\n",
    "goal = [1000, 2000]\n",
    "\n",
    "image_path_cropped = '../dat/gempundit_2022_cropped'\n",
    "image_path_cropped_augmented = []\n",
    "\n",
    "for g in goal:\n",
    "    upper_bound = goal * 1.1\n",
    "    lower_bound = goal * 0.9\n",
    "\n",
    "    dst = image_path_cropped + '_augmented_' + str(g)\n",
    "    image_path_cropped_augmented.append(dst)\n",
    "    if not os.path.exists(image_path_cropped_augmented):\n",
    "        os.makedirs(image_path_cropped_augmented)\n",
    "    transform_images(src=image_path_cropped, dst=image_path_cropped_augmented[-1], goal=g, rotations=rotations)\n",
    "\n",
    "    for root, dirs, files in os.walk(image_path_cropped_augmented):\n",
    "        if root != image_path_cropped_augmented:\n",
    "            if len(files) < lower_bound:\n",
    "                shutil.rmtree(root)\n",
    "            elif len(files) > upper_bound:\n",
    "                for file in np.random.choice(files, int(len(files)-upper_bound), replace=False):\n",
    "                    os.remove(os.path.join(root, file))"
   ]
  },
  {
   "cell_type": "markdown",
   "metadata": {},
   "source": [
    "### Plot the class distribution for the resulting datasets"
   ]
  },
  {
   "cell_type": "code",
   "execution_count": 16,
   "metadata": {},
   "outputs": [
    {
     "data": {
      "image/png": "[encoded data removed]",
      "text/plain": [
       "<Figure size 2000x800 with 1 Axes>"
      ]
     },
     "metadata": {},
     "output_type": "display_data"
    },
    {
     "data": {
      "image/png": "[encoded data removed]",
      "text/plain": [
       "<Figure size 2000x800 with 1 Axes>"
      ]
     },
     "metadata": {},
     "output_type": "display_data"
    }
   ],
   "source": [
    "# TODO: remove after reworking plots\n",
    "image_path_cropped_augmented = [r'../dat/gempundit_2022_cropped_augmented_1000', r'../dat/gempundit_2022_cropped_augmented_2000']\n",
    "\n",
    "for path in image_path_cropped_augmented:\n",
    "    gem_count = []\n",
    "    for gem in os.listdir(path):\n",
    "        count = len(os.listdir(os.path.join(path, gem)))\n",
    "        gem_count += [{'gem': gem, 'count': count}]\n",
    "    gem_count = pd.DataFrame(gem_count)\n",
    "    gem_count.sort_values(by='count', ascending=True, inplace=True)\n",
    "    number_of_images = gem_count['count'].sum()\n",
    "\n",
    "    plt.figure(figsize=(20, 8))\n",
    "    plt.bar(gem_count['gem'], gem_count['count'])\n",
    "    plt.title('Number of images per gem for ' + path.split('/')[-1])\n",
    "    plt.xlabel('Number of images')\n",
    "    plt.ylabel('Gem')\n",
    "    plt.grid(axis='y')\n",
    "    plt.show()\n"
   ]
  },
  {
   "cell_type": "code",
   "execution_count": null,
   "metadata": {},
   "outputs": [],
   "source": []
  }
 ],
 "metadata": {
  "kernelspec": {
   "display_name": "gemstone",
   "language": "python",
   "name": "python3"
  },
  "language_info": {
   "codemirror_mode": {
    "name": "ipython",
    "version": 3
   },
   "file_extension": ".py",
   "mimetype": "text/x-python",
   "name": "python",
   "nbconvert_exporter": "python",
   "pygments_lexer": "ipython3",
   "version": "3.10.13"
  },
  "orig_nbformat": 4,
  "vscode": {
   "interpreter": {
    "hash": "f762acd087eee1e20edab5fbefd8c93a224f39ec9e7e44d927d5a8eeabcf7075"
   }
  }
 },
 "nbformat": 4,
 "nbformat_minor": 2
}
